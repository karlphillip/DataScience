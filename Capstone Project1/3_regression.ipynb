{
 "cells": [
  {
   "cell_type": "markdown",
   "metadata": {},
   "source": [
    "# Linear Regression and Submission for [Recruit Restaurant Visitor Forecasting](https://www.kaggle.com/c/recruit-restaurant-visitor-forecasting)\n",
    "---\n",
    "### Summary\n",
    "\n",
    "[**1. Load, Merge and Clean the Dataset**](#1.-Load,-Merge-and-Clean-the-Dataset)\n",
    "\n",
    "[**2. Feature Engineering**](#2.-Feature-Engineering)\n",
    "- 2.1 Feature Creation: convert `'visit_date'` into numeric variables\n",
    "- 2.2 Feature Creation: cluster restaurants based on activity\n",
    "- ~~2.3 Feature Creation: cluster restaurants based on geographical coordinates~~\n",
    "- ~~2.4 Feature Creation: convert restaurant ID's into numeric variables~~\n",
    "- ~~2.5 Feature Creation: average daily visitors~~\n",
    "- ~~2.6 Update missing `'reservations'`~~\n",
    "- 2.7 Feature Selection: check correlation between `short_df` features\n",
    "- 2.8 Feature Selection (Univariate): evaluate features based on the level of association with its target\n",
    "- 2.9 Feature Selection (Univariate): choose features based on their effective contribution\n",
    "\n",
    "[**3. Linear Regression**](#3.-Linear-Regression)\n",
    "- 3.1 Split Data into Train and Test Sets\n",
    "- 3.2 Cross-Validation: Linear Regression\n",
    "- 3.3 Cross-Validation: Ridge (regularized regression)\n",
    "- 3.4 Cross-Validation: Lasso (regularized regression)\n",
    "- 3.5 Visualize Coefficients for Feature Selection\n",
    "- 3.6 Compare Actual Visitation Data vs Predicted\n",
    "\n",
    "[**4. Kaggle Submission**](#4.-Kaggle-Submission)\n",
    "\n",
    "---"
   ]
  },
  {
   "cell_type": "markdown",
   "metadata": {},
   "source": [
    "# 1. Load, Merge and Clean the Dataset"
   ]
  },
  {
   "cell_type": "code",
   "execution_count": 1,
   "metadata": {},
   "outputs": [
    {
     "data": {
      "application/vnd.jupyter.widget-view+json": {
       "model_id": "060d4a1b8838402caeeb9a6459aba36d",
       "version_major": 2,
       "version_minor": 0
      },
      "text/plain": [
       "A Jupyter Widget"
      ]
     },
     "metadata": {},
     "output_type": "display_data"
    },
    {
     "name": "stdout",
     "output_type": "stream",
     "text": [
      "\n"
     ]
    }
   ],
   "source": [
    "# load all datasets, then merge and clean them to be used:\n",
    "from lib import clean_db\n",
    "\n",
    "full_df = clean_db.load_from('data')                      # 'data': directory that contains .csv files\n",
    "\n",
    "import pandas as pd\n",
    "import numpy as np\n",
    "import matplotlib.pyplot as plt\n",
    "import seaborn as sns\n",
    "from IPython.display import display\n",
    "%matplotlib inline\n",
    "\n",
    "full_df.visit_date = pd.to_datetime(full_df.visit_date)   # Convert column visit_date to Datetime object"
   ]
  },
  {
   "cell_type": "markdown",
   "metadata": {},
   "source": [
    "# 2. Feature Engineering\n",
    "\n",
    "First, check the correlation between *original* `full_df` features:"
   ]
  },
  {
   "cell_type": "code",
   "execution_count": 2,
   "metadata": {},
   "outputs": [
    {
     "name": "stdout",
     "output_type": "stream",
     "text": [
      ">>> There are 829 different restaurants.\n",
      ">>> full_df shape= (255917, 10)\n"
     ]
    },
    {
     "data": {
      "text/html": [
       "<div>\n",
       "<style>\n",
       "    .dataframe thead tr:only-child th {\n",
       "        text-align: right;\n",
       "    }\n",
       "\n",
       "    .dataframe thead th {\n",
       "        text-align: left;\n",
       "    }\n",
       "\n",
       "    .dataframe tbody tr th {\n",
       "        vertical-align: top;\n",
       "    }\n",
       "</style>\n",
       "<table border=\"1\" class=\"dataframe\">\n",
       "  <thead>\n",
       "    <tr style=\"text-align: right;\">\n",
       "      <th></th>\n",
       "      <th>air_store_id</th>\n",
       "      <th>visit_date</th>\n",
       "      <th>visitors</th>\n",
       "      <th>genre_name</th>\n",
       "      <th>area_name</th>\n",
       "      <th>latitude</th>\n",
       "      <th>longitude</th>\n",
       "      <th>reservations</th>\n",
       "      <th>day_of_week</th>\n",
       "      <th>holiday_flg</th>\n",
       "    </tr>\n",
       "  </thead>\n",
       "  <tbody>\n",
       "    <tr>\n",
       "      <th>0</th>\n",
       "      <td>air_ba937bf13d40fb24</td>\n",
       "      <td>2016-01-13</td>\n",
       "      <td>25</td>\n",
       "      <td>Dining bar</td>\n",
       "      <td>Tōkyō-to Minato-ku Shibakōen</td>\n",
       "      <td>35.658068</td>\n",
       "      <td>139.751599</td>\n",
       "      <td>-1.0</td>\n",
       "      <td>Wednesday</td>\n",
       "      <td>0</td>\n",
       "    </tr>\n",
       "    <tr>\n",
       "      <th>1</th>\n",
       "      <td>air_ba937bf13d40fb24</td>\n",
       "      <td>2016-01-14</td>\n",
       "      <td>32</td>\n",
       "      <td>Dining bar</td>\n",
       "      <td>Tōkyō-to Minato-ku Shibakōen</td>\n",
       "      <td>35.658068</td>\n",
       "      <td>139.751599</td>\n",
       "      <td>-1.0</td>\n",
       "      <td>Thursday</td>\n",
       "      <td>0</td>\n",
       "    </tr>\n",
       "    <tr>\n",
       "      <th>2</th>\n",
       "      <td>air_ba937bf13d40fb24</td>\n",
       "      <td>2016-01-15</td>\n",
       "      <td>29</td>\n",
       "      <td>Dining bar</td>\n",
       "      <td>Tōkyō-to Minato-ku Shibakōen</td>\n",
       "      <td>35.658068</td>\n",
       "      <td>139.751599</td>\n",
       "      <td>-1.0</td>\n",
       "      <td>Friday</td>\n",
       "      <td>0</td>\n",
       "    </tr>\n",
       "  </tbody>\n",
       "</table>\n",
       "</div>"
      ],
      "text/plain": [
       "           air_store_id visit_date  visitors  genre_name  \\\n",
       "0  air_ba937bf13d40fb24 2016-01-13        25  Dining bar   \n",
       "1  air_ba937bf13d40fb24 2016-01-14        32  Dining bar   \n",
       "2  air_ba937bf13d40fb24 2016-01-15        29  Dining bar   \n",
       "\n",
       "                      area_name   latitude   longitude  reservations  \\\n",
       "0  Tōkyō-to Minato-ku Shibakōen  35.658068  139.751599          -1.0   \n",
       "1  Tōkyō-to Minato-ku Shibakōen  35.658068  139.751599          -1.0   \n",
       "2  Tōkyō-to Minato-ku Shibakōen  35.658068  139.751599          -1.0   \n",
       "\n",
       "  day_of_week  holiday_flg  \n",
       "0   Wednesday            0  \n",
       "1    Thursday            0  \n",
       "2      Friday            0  "
      ]
     },
     "metadata": {},
     "output_type": "display_data"
    },
    {
     "data": {
      "image/png": "[encoded data removed]",
      "text/plain": [
       "<matplotlib.figure.Figure at 0x1da6f53e160>"
      ]
     },
     "metadata": {},
     "output_type": "display_data"
    }
   ],
   "source": [
    "print('>>> There are', len(full_df.air_store_id.unique()), 'different restaurants.')\n",
    "print('>>> full_df shape=', full_df.shape)\n",
    "display(full_df.head(3))\n",
    "\n",
    "# Plot correlation between different features\n",
    "plt.figure(figsize=(7, 7))\n",
    "sns.heatmap(full_df.corr(), square=True, cmap='YlOrRd') # RdBu_r, YlOrRd\n",
    "plt.plot()\n",
    "plt.show()"
   ]
  },
  {
   "cell_type": "markdown",
   "metadata": {},
   "source": [
    "### 2.1 Feature Creation: convert `'visit_date'` into numeric variables\n",
    "\n",
    "`short_df` is the resulting DataFrame, created to store all the features used for linear regression later on. "
   ]
  },
  {
   "cell_type": "code",
   "execution_count": 3,
   "metadata": {},
   "outputs": [
    {
     "name": "stdout",
     "output_type": "stream",
     "text": [
      ">>> get_features_df() shape= (255917, 15)\n"
     ]
    },
    {
     "data": {
      "text/html": [
       "<div>\n",
       "<style>\n",
       "    .dataframe thead tr:only-child th {\n",
       "        text-align: right;\n",
       "    }\n",
       "\n",
       "    .dataframe thead th {\n",
       "        text-align: left;\n",
       "    }\n",
       "\n",
       "    .dataframe tbody tr th {\n",
       "        vertical-align: top;\n",
       "    }\n",
       "</style>\n",
       "<table border=\"1\" class=\"dataframe\">\n",
       "  <thead>\n",
       "    <tr style=\"text-align: right;\">\n",
       "      <th></th>\n",
       "      <th>air_store_id</th>\n",
       "      <th>visit_date</th>\n",
       "      <th>visitors</th>\n",
       "      <th>holiday_flg</th>\n",
       "      <th>reservations</th>\n",
       "      <th>year</th>\n",
       "      <th>month</th>\n",
       "      <th>day</th>\n",
       "      <th>day_of_week_Friday</th>\n",
       "      <th>day_of_week_Monday</th>\n",
       "      <th>day_of_week_Saturday</th>\n",
       "      <th>day_of_week_Sunday</th>\n",
       "      <th>day_of_week_Thursday</th>\n",
       "      <th>day_of_week_Tuesday</th>\n",
       "      <th>day_of_week_Wednesday</th>\n",
       "    </tr>\n",
       "  </thead>\n",
       "  <tbody>\n",
       "    <tr>\n",
       "      <th>0</th>\n",
       "      <td>air_ba937bf13d40fb24</td>\n",
       "      <td>2016-01-13</td>\n",
       "      <td>25</td>\n",
       "      <td>0</td>\n",
       "      <td>-1.0</td>\n",
       "      <td>2016</td>\n",
       "      <td>1</td>\n",
       "      <td>13</td>\n",
       "      <td>0</td>\n",
       "      <td>0</td>\n",
       "      <td>0</td>\n",
       "      <td>0</td>\n",
       "      <td>0</td>\n",
       "      <td>0</td>\n",
       "      <td>1</td>\n",
       "    </tr>\n",
       "    <tr>\n",
       "      <th>1</th>\n",
       "      <td>air_ba937bf13d40fb24</td>\n",
       "      <td>2016-01-14</td>\n",
       "      <td>32</td>\n",
       "      <td>0</td>\n",
       "      <td>-1.0</td>\n",
       "      <td>2016</td>\n",
       "      <td>1</td>\n",
       "      <td>14</td>\n",
       "      <td>0</td>\n",
       "      <td>0</td>\n",
       "      <td>0</td>\n",
       "      <td>0</td>\n",
       "      <td>1</td>\n",
       "      <td>0</td>\n",
       "      <td>0</td>\n",
       "    </tr>\n",
       "    <tr>\n",
       "      <th>2</th>\n",
       "      <td>air_ba937bf13d40fb24</td>\n",
       "      <td>2016-01-15</td>\n",
       "      <td>29</td>\n",
       "      <td>0</td>\n",
       "      <td>-1.0</td>\n",
       "      <td>2016</td>\n",
       "      <td>1</td>\n",
       "      <td>15</td>\n",
       "      <td>1</td>\n",
       "      <td>0</td>\n",
       "      <td>0</td>\n",
       "      <td>0</td>\n",
       "      <td>0</td>\n",
       "      <td>0</td>\n",
       "      <td>0</td>\n",
       "    </tr>\n",
       "  </tbody>\n",
       "</table>\n",
       "</div>"
      ],
      "text/plain": [
       "           air_store_id visit_date  visitors  holiday_flg  reservations  year  \\\n",
       "0  air_ba937bf13d40fb24 2016-01-13        25            0          -1.0  2016   \n",
       "1  air_ba937bf13d40fb24 2016-01-14        32            0          -1.0  2016   \n",
       "2  air_ba937bf13d40fb24 2016-01-15        29            0          -1.0  2016   \n",
       "\n",
       "   month  day  day_of_week_Friday  day_of_week_Monday  day_of_week_Saturday  \\\n",
       "0      1   13                   0                   0                     0   \n",
       "1      1   14                   0                   0                     0   \n",
       "2      1   15                   1                   0                     0   \n",
       "\n",
       "   day_of_week_Sunday  day_of_week_Thursday  day_of_week_Tuesday  \\\n",
       "0                   0                     0                    0   \n",
       "1                   0                     1                    0   \n",
       "2                   0                     0                    0   \n",
       "\n",
       "   day_of_week_Wednesday  \n",
       "0                      1  \n",
       "1                      0  \n",
       "2                      0  "
      ]
     },
     "metadata": {},
     "output_type": "display_data"
    }
   ],
   "source": [
    "# Select which features are going to be used from the Dataframe\n",
    "def get_features_df():\n",
    "    short_df = full_df[ ['air_store_id', 'visit_date', 'visitors', 'day_of_week', 'holiday_flg', 'reservations'] ].copy()\n",
    "\n",
    "    short_df['year'] = full_df['visit_date'].dt.year\n",
    "    short_df['month'] = full_df['visit_date'].dt.month\n",
    "    short_df['day'] = full_df['visit_date'].dt.day\n",
    "\n",
    "    # Convert 'day_of_week' categorical feature into dummy variable\n",
    "    short_df = pd.get_dummies(short_df, columns=['day_of_week'])\n",
    "    \n",
    "    return short_df\n",
    "\n",
    "\n",
    "short_df = get_features_df()\n",
    "print('>>> get_features_df() shape=', short_df.shape)\n",
    "display(short_df.head(3))"
   ]
  },
  {
   "cell_type": "markdown",
   "metadata": {},
   "source": [
    "### 2.2 Feature Creation: cluster restaurants based on activity"
   ]
  },
  {
   "cell_type": "code",
   "execution_count": 4,
   "metadata": {},
   "outputs": [
    {
     "name": "stdout",
     "output_type": "stream",
     "text": [
      ">>> get_restaurant_matrix() shape= (829, 478)\n"
     ]
    },
    {
     "data": {
      "text/html": [
       "<div>\n",
       "<style>\n",
       "    .dataframe thead tr:only-child th {\n",
       "        text-align: right;\n",
       "    }\n",
       "\n",
       "    .dataframe thead th {\n",
       "        text-align: left;\n",
       "    }\n",
       "\n",
       "    .dataframe tbody tr th {\n",
       "        vertical-align: top;\n",
       "    }\n",
       "</style>\n",
       "<table border=\"1\" class=\"dataframe\">\n",
       "  <thead>\n",
       "    <tr>\n",
       "      <th>day</th>\n",
       "      <th colspan=\"10\" halign=\"left\">1</th>\n",
       "      <th>...</th>\n",
       "      <th>30</th>\n",
       "      <th colspan=\"9\" halign=\"left\">31</th>\n",
       "    </tr>\n",
       "    <tr>\n",
       "      <th>month</th>\n",
       "      <th colspan=\"2\" halign=\"left\">1</th>\n",
       "      <th colspan=\"2\" halign=\"left\">2</th>\n",
       "      <th colspan=\"2\" halign=\"left\">3</th>\n",
       "      <th colspan=\"2\" halign=\"left\">4</th>\n",
       "      <th>5</th>\n",
       "      <th>6</th>\n",
       "      <th>...</th>\n",
       "      <th>12</th>\n",
       "      <th colspan=\"2\" halign=\"left\">1</th>\n",
       "      <th colspan=\"2\" halign=\"left\">3</th>\n",
       "      <th>5</th>\n",
       "      <th>7</th>\n",
       "      <th>8</th>\n",
       "      <th>10</th>\n",
       "      <th>12</th>\n",
       "    </tr>\n",
       "    <tr>\n",
       "      <th>year</th>\n",
       "      <th>2016</th>\n",
       "      <th>2017</th>\n",
       "      <th>2016</th>\n",
       "      <th>2017</th>\n",
       "      <th>2016</th>\n",
       "      <th>2017</th>\n",
       "      <th>2016</th>\n",
       "      <th>2017</th>\n",
       "      <th>2016</th>\n",
       "      <th>2016</th>\n",
       "      <th>...</th>\n",
       "      <th>2016</th>\n",
       "      <th>2016</th>\n",
       "      <th>2017</th>\n",
       "      <th>2016</th>\n",
       "      <th>2017</th>\n",
       "      <th>2016</th>\n",
       "      <th>2016</th>\n",
       "      <th>2016</th>\n",
       "      <th>2016</th>\n",
       "      <th>2016</th>\n",
       "    </tr>\n",
       "    <tr>\n",
       "      <th>holiday_flg</th>\n",
       "      <th>1</th>\n",
       "      <th>1</th>\n",
       "      <th>0</th>\n",
       "      <th>0</th>\n",
       "      <th>0</th>\n",
       "      <th>0</th>\n",
       "      <th>0</th>\n",
       "      <th>0</th>\n",
       "      <th>0</th>\n",
       "      <th>0</th>\n",
       "      <th>...</th>\n",
       "      <th>1</th>\n",
       "      <th>0</th>\n",
       "      <th>0</th>\n",
       "      <th>0</th>\n",
       "      <th>0</th>\n",
       "      <th>0</th>\n",
       "      <th>0</th>\n",
       "      <th>0</th>\n",
       "      <th>0</th>\n",
       "      <th>1</th>\n",
       "    </tr>\n",
       "    <tr>\n",
       "      <th>air_store_id</th>\n",
       "      <th></th>\n",
       "      <th></th>\n",
       "      <th></th>\n",
       "      <th></th>\n",
       "      <th></th>\n",
       "      <th></th>\n",
       "      <th></th>\n",
       "      <th></th>\n",
       "      <th></th>\n",
       "      <th></th>\n",
       "      <th></th>\n",
       "      <th></th>\n",
       "      <th></th>\n",
       "      <th></th>\n",
       "      <th></th>\n",
       "      <th></th>\n",
       "      <th></th>\n",
       "      <th></th>\n",
       "      <th></th>\n",
       "      <th></th>\n",
       "      <th></th>\n",
       "    </tr>\n",
       "  </thead>\n",
       "  <tbody>\n",
       "    <tr>\n",
       "      <th>air_00a91d42b08b08d9</th>\n",
       "      <td>0.0</td>\n",
       "      <td>0.0</td>\n",
       "      <td>0.0</td>\n",
       "      <td>27.0</td>\n",
       "      <td>0.0</td>\n",
       "      <td>17.0</td>\n",
       "      <td>0.0</td>\n",
       "      <td>7.0</td>\n",
       "      <td>0.0</td>\n",
       "      <td>0.0</td>\n",
       "      <td>...</td>\n",
       "      <td>0.0</td>\n",
       "      <td>0.0</td>\n",
       "      <td>28.0</td>\n",
       "      <td>0.0</td>\n",
       "      <td>38.0</td>\n",
       "      <td>0.0</td>\n",
       "      <td>0.0</td>\n",
       "      <td>36.0</td>\n",
       "      <td>26.0</td>\n",
       "      <td>0.0</td>\n",
       "    </tr>\n",
       "    <tr>\n",
       "      <th>air_0164b9927d20bcc3</th>\n",
       "      <td>0.0</td>\n",
       "      <td>0.0</td>\n",
       "      <td>0.0</td>\n",
       "      <td>12.0</td>\n",
       "      <td>0.0</td>\n",
       "      <td>24.0</td>\n",
       "      <td>0.0</td>\n",
       "      <td>11.0</td>\n",
       "      <td>0.0</td>\n",
       "      <td>0.0</td>\n",
       "      <td>...</td>\n",
       "      <td>21.0</td>\n",
       "      <td>0.0</td>\n",
       "      <td>18.0</td>\n",
       "      <td>0.0</td>\n",
       "      <td>4.0</td>\n",
       "      <td>0.0</td>\n",
       "      <td>0.0</td>\n",
       "      <td>0.0</td>\n",
       "      <td>9.0</td>\n",
       "      <td>0.0</td>\n",
       "    </tr>\n",
       "    <tr>\n",
       "      <th>air_0241aa3964b7f861</th>\n",
       "      <td>0.0</td>\n",
       "      <td>0.0</td>\n",
       "      <td>6.0</td>\n",
       "      <td>12.0</td>\n",
       "      <td>1.0</td>\n",
       "      <td>13.0</td>\n",
       "      <td>12.0</td>\n",
       "      <td>7.0</td>\n",
       "      <td>10.0</td>\n",
       "      <td>10.0</td>\n",
       "      <td>...</td>\n",
       "      <td>0.0</td>\n",
       "      <td>11.0</td>\n",
       "      <td>0.0</td>\n",
       "      <td>0.0</td>\n",
       "      <td>10.0</td>\n",
       "      <td>17.0</td>\n",
       "      <td>3.0</td>\n",
       "      <td>9.0</td>\n",
       "      <td>4.0</td>\n",
       "      <td>6.0</td>\n",
       "    </tr>\n",
       "  </tbody>\n",
       "</table>\n",
       "<p>3 rows × 478 columns</p>\n",
       "</div>"
      ],
      "text/plain": [
       "day                    1                                                      \\\n",
       "month                  1         2          3           4           5     6    \n",
       "year                 2016 2017 2016  2017 2016  2017  2016  2017  2016  2016   \n",
       "holiday_flg             1    1    0     0    0     0     0     0     0     0   \n",
       "air_store_id                                                                   \n",
       "air_00a91d42b08b08d9  0.0  0.0  0.0  27.0  0.0  17.0   0.0   7.0   0.0   0.0   \n",
       "air_0164b9927d20bcc3  0.0  0.0  0.0  12.0  0.0  24.0   0.0  11.0   0.0   0.0   \n",
       "air_0241aa3964b7f861  0.0  0.0  6.0  12.0  1.0  13.0  12.0   7.0  10.0  10.0   \n",
       "\n",
       "day                  ...     30    31                                          \\\n",
       "month                ...     12    1          3           5    7     8     10   \n",
       "year                 ...   2016  2016  2017 2016  2017  2016 2016  2016  2016   \n",
       "holiday_flg          ...      1     0     0    0     0     0    0     0     0   \n",
       "air_store_id         ...                                                        \n",
       "air_00a91d42b08b08d9 ...    0.0   0.0  28.0  0.0  38.0   0.0  0.0  36.0  26.0   \n",
       "air_0164b9927d20bcc3 ...   21.0   0.0  18.0  0.0   4.0   0.0  0.0   0.0   9.0   \n",
       "air_0241aa3964b7f861 ...    0.0  11.0   0.0  0.0  10.0  17.0  3.0   9.0   4.0   \n",
       "\n",
       "day                        \n",
       "month                  12  \n",
       "year                 2016  \n",
       "holiday_flg             1  \n",
       "air_store_id               \n",
       "air_00a91d42b08b08d9  0.0  \n",
       "air_0164b9927d20bcc3  0.0  \n",
       "air_0241aa3964b7f861  6.0  \n",
       "\n",
       "[3 rows x 478 columns]"
      ]
     },
     "metadata": {},
     "output_type": "display_data"
    }
   ],
   "source": [
    "def get_restaurant_matrix():\n",
    "    short_df = get_features_df()\n",
    "    matrix_df = short_df.drop('visit_date', axis=1).pivot_table(index=['air_store_id'], columns=['day','month','year','holiday_flg'], values='visitors')\n",
    "    matrix_df.fillna(0, inplace=True)\n",
    "    return matrix_df\n",
    "\n",
    "matrix_df = get_restaurant_matrix()\n",
    "print('>>> get_restaurant_matrix() shape=', matrix_df.shape)\n",
    "display(matrix_df.head(3))"
   ]
  },
  {
   "cell_type": "code",
   "execution_count": 5,
   "metadata": {},
   "outputs": [],
   "source": [
    "from sklearn.cluster import KMeans\n",
    "from scipy.spatial.distance import cdist\n",
    "from sklearn.metrics import silhouette_score\n",
    "\n",
    "### Plot Elbow SS Number for choosing the number of clusters\n",
    "def plot_elbow_analisys(df, k_range):    \n",
    "    ess_scores_vec = [] # vector with one elbow ss score per cluster\n",
    "    for k in k_range:\n",
    "        model = KMeans(n_clusters=k)    \n",
    "        model.fit(df)\n",
    "\n",
    "        # compute Elbow SS Method\n",
    "        ss = sum(np.min(cdist(df, model.cluster_centers_, 'euclidean'), axis=1)) / df.shape[0]        \n",
    "        ess_scores_vec.append(ss)   \n",
    "        \n",
    "    return ess_scores_vec  \n",
    "    \n",
    "\n",
    "### Plot Silhouette Analisys for choosing the number of clusters    \n",
    "def plot_silhouette_analisys(df, k_range): \n",
    "    s_scores_vec = []\n",
    "    for k in k_range:\n",
    "        model = KMeans(n_clusters=k)       \n",
    "        labels = model.fit_predict(df)\n",
    "\n",
    "        # compute silhouette score for ALL samples\n",
    "        s_score_avg = silhouette_score(df, labels)\n",
    "        s_scores_vec.append(s_score_avg)     \n",
    "        \n",
    "    return s_scores_vec"
   ]
  },
  {
   "cell_type": "code",
   "execution_count": 6,
   "metadata": {},
   "outputs": [],
   "source": [
    "# Execute SS Elbow and Silhouette methods, for all clusters in the range(2, 12)\n",
    "k_range = range(2, 13)\n",
    "matrix_df = get_restaurant_matrix()\n",
    "\n",
    "ess_scores_vec = plot_elbow_analisys(matrix_df, k_range)\n",
    "s_scores_vec = plot_silhouette_analisys(matrix_df, k_range)"
   ]
  },
  {
   "cell_type": "code",
   "execution_count": 7,
   "metadata": {},
   "outputs": [
    {
     "data": {
      "image/png": "[encoded data removed]",
      "text/plain": [
       "<matplotlib.figure.Figure at 0x1da0212ec18>"
      ]
     },
     "metadata": {},
     "output_type": "display_data"
    }
   ],
   "source": [
    "### Plot SS Elbow results to the left and Silhouette analysis to the right\n",
    "fig = plt.figure(figsize=(17,5))\n",
    "ax1 = fig.add_subplot(121)\n",
    "ax2 = fig.add_subplot(122)\n",
    "\n",
    "# Elbow Analisys Plot: clusters vs inertias\n",
    "ax1.plot(k_range, ess_scores_vec, '-o')\n",
    "ax1.set_xlabel('Number of Clusters (K)')\n",
    "ax1.set_ylabel('Elbow SS Method')\n",
    "ax1.set_xticks(k_range)\n",
    "ax1.set_title('The Elbow Sum-of-Squares Method for KMeans Clustering')\n",
    "\n",
    "# Silhouette Analisys Plot: coefficients vs clusters\n",
    "ax2.bar(list(k_range), s_scores_vec)   \n",
    "ax2.set_xticks(list(k_range))\n",
    "ax2.set_xticklabels(list(k_range))\n",
    "ax2.set_xlabel(\"Number of Clusters (K)\")\n",
    "ax2.set_ylabel(\"Silhouette Coefficient Values\")\n",
    "ax2.set_title('Silhouette Analysis for KMeans Clustering')\n",
    "\n",
    "plt.show()"
   ]
  },
  {
   "cell_type": "code",
   "execution_count": 8,
   "metadata": {},
   "outputs": [],
   "source": [
    "# Define the number of clusters (restaurants)\n",
    "N = 2"
   ]
  },
  {
   "cell_type": "code",
   "execution_count": 9,
   "metadata": {},
   "outputs": [
    {
     "name": "stdout",
     "output_type": "stream",
     "text": [
      ">>> Agglomerative Clustering silhouette coef: 0.238824674064\n"
     ]
    },
    {
     "data": {
      "text/html": [
       "<div>\n",
       "<style>\n",
       "    .dataframe thead tr:only-child th {\n",
       "        text-align: right;\n",
       "    }\n",
       "\n",
       "    .dataframe thead th {\n",
       "        text-align: left;\n",
       "    }\n",
       "\n",
       "    .dataframe tbody tr th {\n",
       "        vertical-align: top;\n",
       "    }\n",
       "</style>\n",
       "<table border=\"1\" class=\"dataframe\">\n",
       "  <thead>\n",
       "    <tr style=\"text-align: right;\">\n",
       "      <th></th>\n",
       "      <th>air_store_id</th>\n",
       "      <th>cluster_id</th>\n",
       "      <th>x</th>\n",
       "      <th>y</th>\n",
       "    </tr>\n",
       "  </thead>\n",
       "  <tbody>\n",
       "    <tr>\n",
       "      <th>0</th>\n",
       "      <td>air_00a91d42b08b08d9</td>\n",
       "      <td>0</td>\n",
       "      <td>-31.442905</td>\n",
       "      <td>77.352643</td>\n",
       "    </tr>\n",
       "    <tr>\n",
       "      <th>1</th>\n",
       "      <td>air_0164b9927d20bcc3</td>\n",
       "      <td>1</td>\n",
       "      <td>-242.653670</td>\n",
       "      <td>-46.646770</td>\n",
       "    </tr>\n",
       "    <tr>\n",
       "      <th>2</th>\n",
       "      <td>air_0241aa3964b7f861</td>\n",
       "      <td>1</td>\n",
       "      <td>-126.598772</td>\n",
       "      <td>-115.391197</td>\n",
       "    </tr>\n",
       "  </tbody>\n",
       "</table>\n",
       "</div>"
      ],
      "text/plain": [
       "           air_store_id  cluster_id           x           y\n",
       "0  air_00a91d42b08b08d9           0  -31.442905   77.352643\n",
       "1  air_0164b9927d20bcc3           1 -242.653670  -46.646770\n",
       "2  air_0241aa3964b7f861           1 -126.598772 -115.391197"
      ]
     },
     "metadata": {},
     "output_type": "display_data"
    },
    {
     "data": {
      "image/png": "[encoded data removed]",
      "text/plain": [
       "<matplotlib.figure.Figure at 0x1da034189b0>"
      ]
     },
     "metadata": {},
     "output_type": "display_data"
    }
   ],
   "source": [
    "### Visualize clusters\n",
    "from sklearn.decomposition import PCA\n",
    "from sklearn.cluster import AgglomerativeClustering, SpectralClustering\n",
    "\n",
    "matrix_df = get_restaurant_matrix()\n",
    "\n",
    "# Compute KMeans Clustering\n",
    "# model = KMeans(n_clusters=N)       \n",
    "# labels = model.fit_predict(matrix_df)\n",
    "# print('>>> KMeans Clustering silhouette coef:', silhouette_score(matrix_df, labels))            # score: 0.247566398619\n",
    "\n",
    "# Compute Agglomerative Clustering\n",
    "model = AgglomerativeClustering(n_clusters=N, linkage='ward')\n",
    "model.fit(matrix_df)\n",
    "labels = model.labels_\n",
    "print('>>> Agglomerative Clustering silhouette coef:', silhouette_score(matrix_df, labels))     # score: 0.107796894178\n",
    "\n",
    "# Compute Spectral Clustering\n",
    "# model = SpectralClustering(n_clusters=N)\n",
    "# model.fit(matrix_df)\n",
    "# labels = model.labels_\n",
    "# print('>>> Spectral Clustering silhouette coef:', silhouette_score(matrix_df, labels))          # score: -0.0180766974492\n",
    "\n",
    "# reduce the dimensionality of clustering data to 2 components\n",
    "pca = PCA(n_components=2)\n",
    "pca.fit(matrix_df)\n",
    "pca_features = pca.transform(matrix_df)\n",
    "\n",
    "# create output df\n",
    "cluster_df = pd.DataFrame()\n",
    "cluster_df['air_store_id'] = matrix_df.index\n",
    "cluster_df['cluster_id'] = labels\n",
    "cluster_df['x'] = pca_features[:,0]\n",
    "cluster_df['y'] = pca_features[:,1]\n",
    "\n",
    "display(cluster_df.head(3))\n",
    "\n",
    "# Draw scatter plot\n",
    "sns.lmplot(data=cluster_df, x='x', y='y', hue='cluster_id', fit_reg=False, legend=True, size=6, aspect=2)\n",
    "ax = plt.gca()\n",
    "ax.set_title('PCA reduced to two dimensions and ' + str(N) + ' clusters')\n",
    "plt.show()"
   ]
  },
  {
   "cell_type": "code",
   "execution_count": 10,
   "metadata": {},
   "outputs": [],
   "source": [
    "# Add a cluster_id for every restaurant\n",
    "short_df = pd.merge(short_df, cluster_df[['air_store_id', 'cluster_id']], on='air_store_id', how='left')\n",
    "#display(short_df[short_df['cluster_id'] == 2].tail())"
   ]
  },
  {
   "cell_type": "markdown",
   "metadata": {},
   "source": [
    "### 2.3 Feature Creation: cluster restaurants based on geographical coordinates\n",
    "\n",
    "**Do not use this!** This feature was removed since no cluster size improved the Kaggle score (at all)."
   ]
  },
  {
   "cell_type": "markdown",
   "metadata": {},
   "source": [
    "### 2.4 Feature Creation: convert restaurant ID's into numeric variables\n",
    "\n",
    "**Do not use this!** Since RFECV dismissed `'air_store_id'` as an encoded variable, we are not using it."
   ]
  },
  {
   "cell_type": "code",
   "execution_count": 11,
   "metadata": {},
   "outputs": [],
   "source": [
    "# Convert 'air_store_id' categorical feature into an encoded variable\n",
    "# from sklearn.preprocessing import LabelEncoder\n",
    "# label_enc = LabelEncoder()\n",
    "# label_enc.fit(short_df['air_store_id'])\n",
    "# short_df['air_store_id_enc'] = label_enc.transform(short_df['air_store_id'])  # transform categories into integers"
   ]
  },
  {
   "cell_type": "markdown",
   "metadata": {},
   "source": [
    "### 2.5 Feature Creation: average daily visitors\n",
    "\n",
    "**Do not use this!** Kaggle Score after this change dropped from 0.723 to 0.763."
   ]
  },
  {
   "cell_type": "code",
   "execution_count": 12,
   "metadata": {},
   "outputs": [],
   "source": [
    "# short_df.visit_date = pd.to_datetime(short_df.visit_date)\n",
    "# tmp_df = short_df.set_index(short_df.visit_date)\n",
    "# daily_visits_df = tmp_df.resample('D').median().reset_index()[['visit_date', 'visitors']]\n",
    "# daily_visits_df.rename(columns={'visitors': 'avg_daily_visits'}, inplace=True)\n",
    "\n",
    "# print('>>> Daily visitors:')\n",
    "# display(daily_visits_df.tail())\n",
    "\n",
    "# # Copy 'avg_visitors' to short_df\n",
    "# short_df = pd.merge(short_df, daily_visits_df, on='visit_date', how='left')  \n",
    "# display(short_df.tail())"
   ]
  },
  {
   "cell_type": "markdown",
   "metadata": {},
   "source": [
    "### 2.6 Update missing `'reservations'`\n",
    "\n",
    "Many reservation values are missing (-1). Given that this variable has a lot on influence in our model, can we predict some reservation data just by looking into other features (visit_date/visitors/geographical coord)?"
   ]
  },
  {
   "cell_type": "code",
   "execution_count": 13,
   "metadata": {},
   "outputs": [],
   "source": [
    "# TODO"
   ]
  },
  {
   "cell_type": "markdown",
   "metadata": {},
   "source": [
    "### 2.7 Feature Selection: check correlation between `short_df` features"
   ]
  },
  {
   "cell_type": "code",
   "execution_count": 14,
   "metadata": {},
   "outputs": [
    {
     "data": {
      "image/png": "[encoded data removed]",
      "text/plain": [
       "<matplotlib.figure.Figure at 0x1da016d0898>"
      ]
     },
     "metadata": {},
     "output_type": "display_data"
    }
   ],
   "source": [
    "# Plot correlation between different features\n",
    "plt.figure(figsize=(7, 7))\n",
    "sns.heatmap(short_df.corr(), square=True, cmap='YlOrRd')  # RdBu_r, YlOrRd\n",
    "plt.plot()\n",
    "plt.show()"
   ]
  },
  {
   "cell_type": "markdown",
   "metadata": {},
   "source": [
    "Generate the list of features used for linear regression:"
   ]
  },
  {
   "cell_type": "code",
   "execution_count": 15,
   "metadata": {},
   "outputs": [
    {
     "name": "stdout",
     "output_type": "stream",
     "text": [
      ">>> Features =\n",
      " ['holiday_flg', 'reservations', 'year', 'month', 'day', 'day_of_week_Friday', 'day_of_week_Monday', 'day_of_week_Saturday', 'day_of_week_Sunday', 'day_of_week_Thursday', 'day_of_week_Tuesday', 'day_of_week_Wednesday', 'cluster_id']\n"
     ]
    }
   ],
   "source": [
    "# get_features(): returns a list of all column names used as features\n",
    "def get_features():\n",
    "    feature_names = short_df.columns.values.tolist()\n",
    "    feature_names.remove('visitors')\n",
    "    feature_names.remove('visit_date')\n",
    "    feature_names.remove('air_store_id')    \n",
    "    return feature_names\n",
    "\n",
    "print('>>> Features =\\n', get_features())"
   ]
  },
  {
   "cell_type": "markdown",
   "metadata": {},
   "source": [
    "### 2.8 Feature Selection (Univariate): evaluate features based on the level of association with its target\n",
    "\n",
    "`SelectPercentile()` provides an automatic procedure for keeping only a certain percentage of the best, associated features. The main metrics for association for regression purposes is `f_regression`, used only for numeric targets.\n",
    "\n",
    "Apart from applying a direct selection of the top percentile associations, SelectPercentile can also rank the best variables to make it easier to decide at what percentile to exclude a feature from participating in the learning process. \n",
    "\n",
    "Using the level of association output helps you to choose the most important variables for your machine-learning model, but you should watch out for these possible problems:\n",
    "\n",
    "- Some variables with high association could also be highly correlated, introducing duplicated information, which acts as noise in the learning process.\n",
    "- Some variables may be penalized, especially binary ones (variables indicating a status or characteristic using the value 1 when it is present, 0 when it is not). \n",
    "\n",
    "The higher the F-score, the more associated with the target variable that feature is."
   ]
  },
  {
   "cell_type": "code",
   "execution_count": 16,
   "metadata": {},
   "outputs": [
    {
     "name": "stdout",
     "output_type": "stream",
     "text": [
      ">>> F-score: 88741.00 \tfor feature cluster_id \n",
      ">>> F-score: 5564.14 \tfor feature reservations \n",
      ">>> F-score: 5320.88 \tfor feature day_of_week_Saturday \n",
      ">>> F-score: 2008.97 \tfor feature day_of_week_Monday \n",
      ">>> F-score: 1778.92 \tfor feature day_of_week_Tuesday \n",
      ">>> F-score: 938.31 \tfor feature day_of_week_Sunday \n",
      ">>> F-score: 839.61 \tfor feature day_of_week_Friday \n",
      ">>> F-score: 703.73 \tfor feature day_of_week_Thursday \n",
      ">>> F-score: 526.54 \tfor feature day_of_week_Wednesday \n",
      ">>> F-score: 443.92 \tfor feature holiday_flg \n",
      ">>> F-score: 187.03 \tfor feature day \n",
      ">>> F-score: 2.47 \tfor feature month \n",
      ">>> F-score: 0.32 \tfor feature year \n"
     ]
    }
   ],
   "source": [
    "from sklearn.feature_selection import SelectPercentile\n",
    "from sklearn.feature_selection import f_regression\n",
    "\n",
    "feature_names = get_features()\n",
    "X = short_df[feature_names]\n",
    "y = short_df.visitors\n",
    "\n",
    "selector_f = SelectPercentile(f_regression, percentile=25)\n",
    "selector_f.fit(X,y)\n",
    "\n",
    "zipped_list = zip(feature_names, selector_f.scores_)\n",
    "zipped_list = sorted(zipped_list, key=lambda x: x[1])\n",
    "\n",
    "# Print most important features first:\n",
    "for feature, score in reversed(zipped_list):\n",
    "    print('>>> F-score: %3.2f \\tfor feature %s ' % (score, feature))"
   ]
  },
  {
   "cell_type": "markdown",
   "metadata": {},
   "source": [
    "### 2.9 Feature Selection (Univariate): choose features based on their effective contribution\n",
    "\n",
    "Automatically reduce the number of features involved in a learning model on the basis of their effective contribution to the performance measured by the error measure."
   ]
  },
  {
   "cell_type": "code",
   "execution_count": 17,
   "metadata": {},
   "outputs": [
    {
     "name": "stdout",
     "output_type": "stream",
     "text": [
      ">>> Optimal number of features: 13\n",
      "\n",
      ">>> Features:\n",
      " ['holiday_flg', 'reservations', 'year', 'month', 'day', 'day_of_week_Friday', 'day_of_week_Monday', 'day_of_week_Saturday', 'day_of_week_Sunday', 'day_of_week_Thursday', 'day_of_week_Tuesday', 'day_of_week_Wednesday', 'cluster_id']\n",
      "\n",
      ">>> Optimal Features:\n",
      " ['holiday_flg', 'reservations', 'year', 'month', 'day', 'day_of_week_Friday', 'day_of_week_Monday', 'day_of_week_Saturday', 'day_of_week_Sunday', 'day_of_week_Thursday', 'day_of_week_Tuesday', 'day_of_week_Wednesday', 'cluster_id']\n"
     ]
    }
   ],
   "source": [
    "from sklearn.linear_model import LinearRegression\n",
    "from sklearn.feature_selection import RFECV\n",
    "from itertools import compress\n",
    "\n",
    "reg = LinearRegression(normalize=True) \n",
    "selector = RFECV(estimator=reg, cv=5, scoring='neg_mean_squared_error')\n",
    "selector.fit(X, y)\n",
    "\n",
    "print('>>> Optimal number of features: %d' % selector.n_features_)\n",
    "print('\\n>>> Features:\\n', feature_names)\n",
    "print('\\n>>> Optimal Features:\\n', list(compress(feature_names, selector.support_)))"
   ]
  },
  {
   "cell_type": "markdown",
   "metadata": {},
   "source": [
    "As a result from the feature selection process, we should update the function `get_features()` implemented above to reflect these preferences."
   ]
  },
  {
   "cell_type": "markdown",
   "metadata": {},
   "source": [
    "# 3. Linear Regression\n",
    "Linear Regression, Ridge and Lasso had identical scores in the Kaggle Submission System, even after tuning hyper-parameters."
   ]
  },
  {
   "cell_type": "markdown",
   "metadata": {},
   "source": [
    "### 3.1 Split Data into Train and Test Sets"
   ]
  },
  {
   "cell_type": "code",
   "execution_count": 18,
   "metadata": {},
   "outputs": [],
   "source": [
    "from sklearn.model_selection import train_test_split\n",
    "\n",
    "feature_names = get_features()\n",
    "\n",
    "X = short_df[feature_names]\n",
    "y = short_df.visitors.values.reshape(-1, 1)\n",
    "\n",
    "# 30% of the data is the hold-out set for the final evaluation\n",
    "X_train, X_test, y_train, y_test = train_test_split(X, y, test_size=0.3, random_state=24)"
   ]
  },
  {
   "cell_type": "markdown",
   "metadata": {},
   "source": [
    "### 3.2 Cross-Validation: Linear Regression\n",
    "\n",
    "Remember: model performance is dependent on way the data is split and it does not represent well the model’s ability to generalize."
   ]
  },
  {
   "cell_type": "code",
   "execution_count": 19,
   "metadata": {},
   "outputs": [
    {
     "name": "stdout",
     "output_type": "stream",
     "text": [
      ">>> CV Score results: [ 0.25983682  0.28958224  0.30429223  0.3270222   0.34948738]\n",
      ">>> CV Score (mean): 0.306044173742\n"
     ]
    }
   ],
   "source": [
    "from sklearn.linear_model import LinearRegression\n",
    "from sklearn.model_selection import cross_val_score\n",
    "\n",
    "reg = LinearRegression(normalize=True) \n",
    "cv_results = cross_val_score(reg, X, y, cv=5) \n",
    "\n",
    "print('>>> CV Score results:', cv_results)             #  [ 0.25983682  0.28958224  0.30429223  0.3270222   0.34948738 ]\n",
    "print('>>> CV Score (mean):', np.mean(cv_results))     #  0.306044173742"
   ]
  },
  {
   "cell_type": "markdown",
   "metadata": {},
   "source": [
    "### 3.3 Cross-Validation: Ridge (regularized regression)\n",
    "\n",
    "Linear regression minimizes a loss function. It chooses a coeﬃcient for each feature variable. Large coeﬃcients can lead to overﬁtting. Penalizing large coeﬃcients is called *regularization*."
   ]
  },
  {
   "cell_type": "code",
   "execution_count": 20,
   "metadata": {},
   "outputs": [
    {
     "name": "stdout",
     "output_type": "stream",
     "text": [
      ">>> CV Best parameters: {'alpha': 11.2}\n",
      ">>> CV Best Score: 0.316614020957\n"
     ]
    }
   ],
   "source": [
    "from sklearn.linear_model import Ridge\n",
    "from sklearn.model_selection import GridSearchCV\n",
    "\n",
    "#params = [ {'alpha': np.logspace(-3, 3, 7)} ]\n",
    "params = [ {'alpha': [11.3, 11.2, 11.1, 11, 10.9, 10, 9]} ]\n",
    "\n",
    "ridge_cv = GridSearchCV(estimator=Ridge(), param_grid=params, cv=5, verbose=0, return_train_score=True)\n",
    "ridge_cv.fit(X_train, y_train) \n",
    "\n",
    "print('>>> CV Best parameters:', ridge_cv.best_params_)\n",
    "#print('>>> CV Best alpha:', ridge_cv.best_estimator_.alpha)\n",
    "print('>>> CV Best Score:', ridge_cv.best_score_)"
   ]
  },
  {
   "cell_type": "markdown",
   "metadata": {},
   "source": [
    "### 3.4 Cross-Validation: Lasso  (regularized regression)"
   ]
  },
  {
   "cell_type": "code",
   "execution_count": 21,
   "metadata": {},
   "outputs": [
    {
     "name": "stdout",
     "output_type": "stream",
     "text": [
      ">>> CV Best parameters: {'alpha': 0.0004}\n",
      ">>> CV Best Score: 0.316613930541\n"
     ]
    }
   ],
   "source": [
    "from sklearn.linear_model import Lasso\n",
    "\n",
    "#params = [ {'alpha': np.logspace(-3, 3, 7)} ]\n",
    "params = [ {'alpha': [0.001, 0.0005, 0.0004]} ]\n",
    "\n",
    "lasso_cv = GridSearchCV(estimator=Lasso(), param_grid=params, cv=5, verbose=0, return_train_score=True)\n",
    "lasso_cv.fit(X_train, y_train) \n",
    "\n",
    "print('>>> CV Best parameters:', lasso_cv.best_params_)\n",
    "#print('>>> CV Best alpha:', lasso_cv.best_estimator_.alpha)\n",
    "print('>>> CV Best Score:', lasso_cv.best_score_)"
   ]
  },
  {
   "cell_type": "markdown",
   "metadata": {},
   "source": [
    "### 3.5 Visualize Coefficients for Feature Selection\n",
    "Plot the coefficients from Linear Regression, Ridge and Lasso for comparison."
   ]
  },
  {
   "cell_type": "code",
   "execution_count": 22,
   "metadata": {},
   "outputs": [
    {
     "data": {
      "image/png": "[encoded data removed]",
      "text/plain": [
       "<matplotlib.figure.Figure at 0x1da001e0cc0>"
      ]
     },
     "metadata": {},
     "output_type": "display_data"
    }
   ],
   "source": [
    "import operator\n",
    "from functools import reduce\n",
    "\n",
    "x_width = range(len(feature_names))\n",
    "\n",
    "reg_coef = LinearRegression().fit(X_train, y_train).coef_\n",
    "reg_coef = reduce(operator.concat, reg_coef)                           # flat the array: converts [[ 1, 5 ]] into [ 1, 5 ]\n",
    "ridge_coef = reduce(operator.concat, ridge_cv.best_estimator_.coef_)   # flat the array\n",
    "lasso_coef = lasso_cv.best_estimator_.coef_\n",
    "\n",
    "# plot linear regression, ridge and lasso coefficients\n",
    "plt.figure(figsize=(16,4))\n",
    "plt.plot(x_width, reg_coef, color='blue', label='Linear') \n",
    "plt.plot(x_width, ridge_coef, color='red', label='Ridge', linestyle='dotted', linewidth=3)\n",
    "plt.plot(x_width, lasso_coef, color='green', label='Lasso')\n",
    "\n",
    "plt.xticks(x_width, feature_names, rotation=45) \n",
    "plt.ylabel('Coefficients') \n",
    "plt.title('Regression Coefficients for Feature Selection')\n",
    "plt.legend()\n",
    "\n",
    "# draw a gray line that crosses Y at zero (origin)\n",
    "horiz_line_data = np.array([0 for i in x_width])\n",
    "xs = [i for i in x_width]\n",
    "plt.plot(xs, horiz_line_data, color='gray', alpha=0.5)\n",
    "\n",
    "plt.show()"
   ]
  },
  {
   "cell_type": "markdown",
   "metadata": {},
   "source": [
    "### 3.6 Compare Actual Visitation Data vs Predicted"
   ]
  },
  {
   "cell_type": "code",
   "execution_count": 23,
   "metadata": {},
   "outputs": [
    {
     "name": "stdout",
     "output_type": "stream",
     "text": [
      ">>> Intercept    = [  4.49140135e+13] \n",
      ">>> Coefficients = [[  3.94425739e+00   4.38293328e-01  -3.77841971e-01  -3.97291668e-02\n",
      "    4.96139212e-02  -4.49140135e+13  -4.49140135e+13  -4.49140135e+13\n",
      "   -4.49140135e+13  -4.49140135e+13  -4.49140135e+13  -4.49140135e+13\n",
      "   -1.72312805e+01]]\n",
      "\n",
      ">>> Score: 0.30907747116\n",
      ">>>  RMSE: 14.0752266321\n"
     ]
    },
    {
     "data": {
      "image/png": "[encoded data removed]",
      "text/plain": [
       "<matplotlib.figure.Figure at 0x1da016d18d0>"
      ]
     },
     "metadata": {},
     "output_type": "display_data"
    }
   ],
   "source": [
    "from sklearn import metrics\n",
    "\n",
    "# Fit the model to the data\n",
    "reg = LinearRegression(normalize=True)\n",
    "reg.fit(X_train, y_train)\n",
    "y_pred = reg.predict(X_test)\n",
    "\n",
    "print('>>> Intercept    =', reg.intercept_, '\\n>>> Coefficients =', reg.coef_)\n",
    "print('\\n>>> Score:', reg.score(X_test, y_test))                         # Score: 0.309121601183\n",
    "print('>>>  RMSE:', np.sqrt(metrics.mean_squared_error(y_test, y_pred))) #  RMSE: 14.0747771244\n",
    "\n",
    "### Setup plots to compare visitation data\n",
    "plt.figure(figsize=(17,7))\n",
    "\n",
    "plt.subplot(1, 2, 1)\n",
    "plt.scatter(y_test, y_pred, s=15, alpha=0.3, color='blue') \n",
    "plt.plot([y.min(), y.max()], [y.min(), y.max()], 'r-', lw=1)\n",
    "plt.title('Actual Visitation data vs Predicted Visitation')\n",
    "plt.xlabel('Actual')\n",
    "plt.ylabel('Predicted')\n",
    "\n",
    "plt.subplot(1, 2, 2)\n",
    "plt.scatter(y_test, y_pred, s=10, alpha=0.3, color='blue') \n",
    "plt.plot([y.min(), y.max()], [y.min(), y.max()], 'r-', lw=1)\n",
    "plt.title('Actual Visitation data vs Predicted Visitation (zoomed)')\n",
    "plt.xlabel('Actual')\n",
    "plt.ylabel('Predicted')\n",
    "plt.xlim(xmin=0, xmax=120)\n",
    "plt.ylim(ymin=0, ymax=120)\n",
    "\n",
    "plt.show()"
   ]
  },
  {
   "cell_type": "markdown",
   "metadata": {},
   "source": [
    "# 4. Kaggle Submission\n",
    "\n",
    "Given that **regularized regression** didn't help to improve the model in a significant way, I decided to not use it for the time being.\n",
    "\n",
    "In the current approach:\n",
    "- `air_store_id` was encoded to be used as a feature, but this dind't improve the score at all;\n",
    "- To get equivalent `holiday_flg` values for the submission dates, I retrieved the same holidays from the year before;\n",
    "- `day_of_week` was encoded as a dummy variable to be used in regression;\n",
    "- `reservation` data slightly improved the score, so we are using it;\n",
    "\n",
    "All visit dates from `sample_submission.csv` are new dates. In other words, there is no visitation data in our model for the same period of time.\n",
    "\n",
    "**Kaggle Submissions History:**\n",
    "- **Score 0.723**: linear regression, Agglomerative (2 clusters), reservations, holidays from 2016, w/o restaurant ID encoding;\n",
    "- **Score 0.746**: linear regression, Agglomerative (4 clusters), reservations, holidays from 2016, w/o restaurant ID encoding;\n",
    "- **Score 0.747**: linear regression, KMeans (2 clusters), reservations, holidays from 2016, w/o restaurant ID encoding;\n",
    "- **Score 0.773**: linear regression, KMeans (4 clusters), reservations, holidays from 2016, w/o restaurant ID encoding;\n",
    "- **Score 0.794**: linear regression, KMeans (6 clusters), reservations, holidays from 2016, w/o restaurant ID encoding;\n",
    "- **Score 0.829**: linear regression, KMeans (5 clusters), reservations, holidays from 2016, w/o restaurant ID encoding;\n",
    "- **Score 0.833**: linear regression, KMeans (7 clusters), reservations, holidays from 2016, w/o restaurant ID encoding;\n",
    "- **Score 0.854**: linear regression, KMeans (8 clusters), reservations, holidays from 2016, w/o restaurant ID encoding;\n",
    "- **Score 0.859**: linear regression, KMeans (3 clusters), reservations, holidays from 2016, w/o restaurant ID encoding;\n",
    "- **Score 0.859**: linear regression, reservations, holidays from 2016, w/o restaurant ID encoding;\n",
    "- **Score 0.866**: linear regression, w/o reservations, holidays from 2016, w/o restaurant ID encoding;"
   ]
  },
  {
   "cell_type": "code",
   "execution_count": 24,
   "metadata": {},
   "outputs": [],
   "source": [
    "# load_submission_file(): reads sample_submissions.csv and returns a DataFrame with extra columns parsed from 'id'\n",
    "def load_submission_file():\n",
    "    sub_df = pd.read_csv('data/sample_submission.csv')    \n",
    "    \n",
    "    # parse store_id from: air_00a91d42b08b08d9_2017-04-23\n",
    "    sub_df['air_store_id'] = sub_df.id.map(lambda x: '_'.join(x.split('_')[:-1]))  \n",
    "    \n",
    "    # parse date from: from: air_00a91d42b08b08d9_2017-04-23\n",
    "    sub_df['visit_date'] = sub_df.id.map(lambda x: x.split('_')[2])\n",
    "    \n",
    "    # erase visitors column\n",
    "    sub_df.drop('visitors', axis=1, inplace=True)    \n",
    "    #sub_df.drop('id', axis=1, inplace=True) \n",
    "          \n",
    "    return sub_df"
   ]
  },
  {
   "cell_type": "code",
   "execution_count": 25,
   "metadata": {},
   "outputs": [],
   "source": [
    "# adj_prediction_features(): adjusts the features of the input DataFrame to match what's required for prediction.\n",
    "# Current features are:\n",
    "#    holiday_flg, reservations, year, month, day, day_of_week_Friday, day_of_week_Monday, \n",
    "#    day_of_week_Saturday, day_of_week_Sunday, day_of_week_Thursday, day_of_week_Tuesday, day_of_week_Wednesday\n",
    "#\n",
    "def adj_prediction_features(sub_df):    \n",
    "    \n",
    "    # To fill the column 'holiday_flg', pretend submission's visit_date is from the previous year and copy those holidays\n",
    "    sub_df['visit_date'] = sub_df['visit_date'].str.replace('2017','2016')\n",
    "    sub_df.visit_date = pd.to_datetime(sub_df.visit_date)\n",
    "\n",
    "    # Drop duplicates in holidays_df to avoid adding more rows to the merged Dataframe\n",
    "    holidays_df = short_df[['visit_date', 'holiday_flg']]\n",
    "    holidays_df = holidays_df.drop_duplicates(subset=['visit_date'])\n",
    "\n",
    "    # Add HOLIDAY_FLG and DAY_OF_WEEK columns\n",
    "    sub_df = pd.merge(sub_df, holidays_df[['visit_date', 'holiday_flg']], on='visit_date', how='left')\n",
    "\n",
    "    # Add AVG_DAILY_VISITORS: copy the daily average visitation data from 2016\n",
    "    #sub_df = pd.merge(sub_df, daily_visits_df, on='visit_date', how='left')  \n",
    "\n",
    "    # Convert 'visit_date' to string and revert back to the original year (2017)\n",
    "    sub_df['visit_date'] = sub_df['visit_date'].dt.strftime('%Y-%m-%d')\n",
    "    sub_df['visit_date'] = sub_df['visit_date'].str.replace('2016','2017')\n",
    "    sub_df.visit_date = pd.to_datetime(sub_df.visit_date)\n",
    "\n",
    "    # Add 'DAY_OF_WEEK' column\n",
    "    import calendar\n",
    "    sub_df['day_of_week'] = sub_df['visit_date'].apply(lambda x: (calendar.day_name[x.weekday()]))\n",
    "    sub_df = pd.get_dummies(sub_df, columns=['day_of_week'])\n",
    "\n",
    "    # Add YEAR, MONTH, DAY columns\n",
    "    sub_df['year'] = sub_df['visit_date'].dt.year\n",
    "    sub_df['month'] = sub_df['visit_date'].dt.month\n",
    "    sub_df['day'] = sub_df['visit_date'].dt.day\n",
    "\n",
    "    # TODO: karl\n",
    "    ### Add RESERVATIONS column: careful, there are many occurences for the same month and day\n",
    "    # Option #1: fill reservations with -1       \n",
    "    # Option #2: fill reservations with the average from that month/day. Note: ruined the score by +0.001\n",
    "    ###\n",
    "    # Option #1:\n",
    "    sub_df['reservations'] = -1        \n",
    "    # Option #2: \n",
    "    # tmp_df = short_df.groupby(['month', 'day']).mean().reset_index()[['month', 'day', 'reservations']]\n",
    "    # sub_df = pd.merge(sub_df, tmp_df, on=['month', 'day'], how='left')\n",
    "\n",
    "    # Add AIR_STORE_ID_ENC: convert categorical variable into encoded variable\n",
    "    #sub_df['air_store_id_enc'] = label_enc.transform(sub_df['air_store_id'])  # transform categories into integers\n",
    "\n",
    "    # Add CLUSTER_ID from the clustering process\n",
    "    sub_df = pd.merge(sub_df, cluster_df[['air_store_id', 'cluster_id']], on='air_store_id', how='left')\n",
    "\n",
    "    # Delete unecessary columns\n",
    "    del sub_df['air_store_id']\n",
    "    del sub_df['visit_date']    \n",
    "    \n",
    "    return sub_df"
   ]
  },
  {
   "cell_type": "code",
   "execution_count": 26,
   "metadata": {},
   "outputs": [
    {
     "name": "stdout",
     "output_type": "stream",
     "text": [
      ">>> sub_df (original) shape= (32019, 3)\n",
      ">>> sub_df (features) shape= (32019, 14)\n"
     ]
    }
   ],
   "source": [
    "### Load sample_submissions.csv into the DataFrame that's used for submission on Kaggle\n",
    "sub_df = load_submission_file()\n",
    "print('>>> sub_df (original) shape=', sub_df.shape)\n",
    "# display(sub_df.head(2))\n",
    "\n",
    "### Do some magic and create the necessary features for prediction\n",
    "sub_df = adj_prediction_features(sub_df)\n",
    "print('>>> sub_df (features) shape=', sub_df.shape)\n",
    "# display(sub_df.head(2))"
   ]
  },
  {
   "cell_type": "code",
   "execution_count": 27,
   "metadata": {},
   "outputs": [
    {
     "name": "stdout",
     "output_type": "stream",
     "text": [
      "\n",
      ">>> Features + Prediction:\n"
     ]
    },
    {
     "data": {
      "text/html": [
       "<div>\n",
       "<style>\n",
       "    .dataframe thead tr:only-child th {\n",
       "        text-align: right;\n",
       "    }\n",
       "\n",
       "    .dataframe thead th {\n",
       "        text-align: left;\n",
       "    }\n",
       "\n",
       "    .dataframe tbody tr th {\n",
       "        vertical-align: top;\n",
       "    }\n",
       "</style>\n",
       "<table border=\"1\" class=\"dataframe\">\n",
       "  <thead>\n",
       "    <tr style=\"text-align: right;\">\n",
       "      <th></th>\n",
       "      <th>id</th>\n",
       "      <th>holiday_flg</th>\n",
       "      <th>day_of_week_Friday</th>\n",
       "      <th>day_of_week_Monday</th>\n",
       "      <th>day_of_week_Saturday</th>\n",
       "      <th>day_of_week_Sunday</th>\n",
       "      <th>day_of_week_Thursday</th>\n",
       "      <th>day_of_week_Tuesday</th>\n",
       "      <th>day_of_week_Wednesday</th>\n",
       "      <th>year</th>\n",
       "      <th>month</th>\n",
       "      <th>day</th>\n",
       "      <th>reservations</th>\n",
       "      <th>cluster_id</th>\n",
       "      <th>visitors</th>\n",
       "    </tr>\n",
       "  </thead>\n",
       "  <tbody>\n",
       "    <tr>\n",
       "      <th>0</th>\n",
       "      <td>air_00a91d42b08b08d9_2017-04-23</td>\n",
       "      <td>0</td>\n",
       "      <td>0</td>\n",
       "      <td>0</td>\n",
       "      <td>0</td>\n",
       "      <td>1</td>\n",
       "      <td>0</td>\n",
       "      <td>0</td>\n",
       "      <td>0</td>\n",
       "      <td>2017</td>\n",
       "      <td>4</td>\n",
       "      <td>23</td>\n",
       "      <td>-1</td>\n",
       "      <td>0</td>\n",
       "      <td>34.000916</td>\n",
       "    </tr>\n",
       "    <tr>\n",
       "      <th>1</th>\n",
       "      <td>air_00a91d42b08b08d9_2017-04-24</td>\n",
       "      <td>0</td>\n",
       "      <td>0</td>\n",
       "      <td>1</td>\n",
       "      <td>0</td>\n",
       "      <td>0</td>\n",
       "      <td>0</td>\n",
       "      <td>0</td>\n",
       "      <td>0</td>\n",
       "      <td>2017</td>\n",
       "      <td>4</td>\n",
       "      <td>24</td>\n",
       "      <td>-1</td>\n",
       "      <td>0</td>\n",
       "      <td>26.467651</td>\n",
       "    </tr>\n",
       "  </tbody>\n",
       "</table>\n",
       "</div>"
      ],
      "text/plain": [
       "                                id  holiday_flg  day_of_week_Friday  \\\n",
       "0  air_00a91d42b08b08d9_2017-04-23            0                   0   \n",
       "1  air_00a91d42b08b08d9_2017-04-24            0                   0   \n",
       "\n",
       "   day_of_week_Monday  day_of_week_Saturday  day_of_week_Sunday  \\\n",
       "0                   0                     0                   1   \n",
       "1                   1                     0                   0   \n",
       "\n",
       "   day_of_week_Thursday  day_of_week_Tuesday  day_of_week_Wednesday  year  \\\n",
       "0                     0                    0                      0  2017   \n",
       "1                     0                    0                      0  2017   \n",
       "\n",
       "   month  day  reservations  cluster_id   visitors  \n",
       "0      4   23            -1           0  34.000916  \n",
       "1      4   24            -1           0  26.467651  "
      ]
     },
     "metadata": {},
     "output_type": "display_data"
    },
    {
     "name": "stdout",
     "output_type": "stream",
     "text": [
      "\n",
      ">>> Submission file (32019, 2) saved as: prediction.csv\n"
     ]
    },
    {
     "data": {
      "text/html": [
       "<div>\n",
       "<style>\n",
       "    .dataframe thead tr:only-child th {\n",
       "        text-align: right;\n",
       "    }\n",
       "\n",
       "    .dataframe thead th {\n",
       "        text-align: left;\n",
       "    }\n",
       "\n",
       "    .dataframe tbody tr th {\n",
       "        vertical-align: top;\n",
       "    }\n",
       "</style>\n",
       "<table border=\"1\" class=\"dataframe\">\n",
       "  <thead>\n",
       "    <tr style=\"text-align: right;\">\n",
       "      <th></th>\n",
       "      <th>id</th>\n",
       "      <th>visitors</th>\n",
       "    </tr>\n",
       "  </thead>\n",
       "  <tbody>\n",
       "    <tr>\n",
       "      <th>32014</th>\n",
       "      <td>air_fff68b929994bfbd_2017-05-27</td>\n",
       "      <td>19.216309</td>\n",
       "    </tr>\n",
       "    <tr>\n",
       "      <th>32015</th>\n",
       "      <td>air_fff68b929994bfbd_2017-05-28</td>\n",
       "      <td>16.997070</td>\n",
       "    </tr>\n",
       "    <tr>\n",
       "      <th>32016</th>\n",
       "      <td>air_fff68b929994bfbd_2017-05-29</td>\n",
       "      <td>9.463776</td>\n",
       "    </tr>\n",
       "    <tr>\n",
       "      <th>32017</th>\n",
       "      <td>air_fff68b929994bfbd_2017-05-30</td>\n",
       "      <td>10.652039</td>\n",
       "    </tr>\n",
       "    <tr>\n",
       "      <th>32018</th>\n",
       "      <td>air_fff68b929994bfbd_2017-05-31</td>\n",
       "      <td>12.346680</td>\n",
       "    </tr>\n",
       "  </tbody>\n",
       "</table>\n",
       "</div>"
      ],
      "text/plain": [
       "                                    id   visitors\n",
       "32014  air_fff68b929994bfbd_2017-05-27  19.216309\n",
       "32015  air_fff68b929994bfbd_2017-05-28  16.997070\n",
       "32016  air_fff68b929994bfbd_2017-05-29   9.463776\n",
       "32017  air_fff68b929994bfbd_2017-05-30  10.652039\n",
       "32018  air_fff68b929994bfbd_2017-05-31  12.346680"
      ]
     },
     "metadata": {},
     "output_type": "display_data"
    }
   ],
   "source": [
    "### Create a model based on the entire Restaurant dataset\n",
    "X = short_df[feature_names]\n",
    "y = short_df.visitors.values.reshape(-1, 1)\n",
    "\n",
    "reg_model = LinearRegression(normalize=True)\n",
    "#reg_model = Lasso(alpha=0.0004)\n",
    "#reg_model = Ridge(alpha=11.2)\n",
    "\n",
    "### Fit the model and use it to predict the amount of visitors for each restaurant\n",
    "reg_model.fit(X, y)\n",
    "sub_df['visitors'] = reg_model.predict(sub_df[feature_names])\n",
    "\n",
    "print('\\n>>> Features + Prediction:')\n",
    "display(sub_df.head(2))  \n",
    "\n",
    "### The final dataset must have only 2 columns: id and visitors\n",
    "final_df = sub_df[['id', 'visitors']]\n",
    "\n",
    "### Save the result to disk as 'prediction.csv'\n",
    "final_df.to_csv('prediction.csv', index=False)\n",
    "print('\\n>>> Submission file', final_df.shape, 'saved as: prediction.csv')\n",
    "display(final_df.tail(5))"
   ]
  },
  {
   "cell_type": "code",
   "execution_count": null,
   "metadata": {},
   "outputs": [],
   "source": []
  }
 ],
 "metadata": {
  "kernelspec": {
   "display_name": "Python 3",
   "language": "python",
   "name": "python3"
  },
  "language_info": {
   "codemirror_mode": {
    "name": "ipython",
    "version": 3
   },
   "file_extension": ".py",
   "mimetype": "text/x-python",
   "name": "python",
   "nbconvert_exporter": "python",
   "pygments_lexer": "ipython3",
   "version": "3.6.3"
  }
 },
 "nbformat": 4,
 "nbformat_minor": 2
}
