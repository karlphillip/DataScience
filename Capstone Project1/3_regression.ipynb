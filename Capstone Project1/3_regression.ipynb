{
 "cells": [
  {
   "cell_type": "markdown",
   "metadata": {},
   "source": [
    "# Regression (ML) and Submission for [Recruit Restaurant Visitor Forecasting](https://www.kaggle.com/c/recruit-restaurant-visitor-forecasting)\n",
    "---"
   ]
  },
  {
   "cell_type": "markdown",
   "metadata": {},
   "source": [
    "# 1. Load, Merge and Clean the Dataset"
   ]
  },
  {
   "cell_type": "code",
   "execution_count": 1,
   "metadata": {},
   "outputs": [
    {
     "data": {
      "application/vnd.jupyter.widget-view+json": {
       "model_id": "11b7dfd4b0df415daf61d7382f401b46",
       "version_major": 2,
       "version_minor": 0
      },
      "text/plain": [
       "A Jupyter Widget"
      ]
     },
     "metadata": {},
     "output_type": "display_data"
    },
    {
     "name": "stdout",
     "output_type": "stream",
     "text": [
      "\n"
     ]
    }
   ],
   "source": [
    "# load all datasets, then merge and clean them to be used:\n",
    "import lib.clean_db as clean_db\n",
    "\n",
    "df = clean_db.load_from('data')                 # 'data': directory that contains .csv files\n",
    "\n",
    "\n",
    "import pandas as pd\n",
    "import numpy as np\n",
    "import matplotlib.pyplot as plt\n",
    "import seaborn as sns\n",
    "from IPython.display import display\n",
    "%matplotlib inline\n",
    "\n",
    "df.visit_date = pd.to_datetime(df.visit_date)   # Convert column visit_date to Datetime object\n",
    "\n",
    "# Dump lat/lon to a CSV file\n",
    "# geo_df = pd.DataFrame()\n",
    "# geo_df[['latitude', 'longitude']] = df[['latitude', 'longitude']]\n",
    "# geo_df.drop_duplicates(inplace=True)\n",
    "# geo_df.to_csv('restaurants_coord.csv')\n",
    "# display(geo_df.head())"
   ]
  },
  {
   "cell_type": "markdown",
   "metadata": {},
   "source": [
    "# 2. Feature Engineering\n",
    "\n",
    "### 2.1 Correlation between `df` features"
   ]
  },
  {
   "cell_type": "code",
   "execution_count": 2,
   "metadata": {},
   "outputs": [
    {
     "name": "stdout",
     "output_type": "stream",
     "text": [
      ">>> df shape= (255917, 10)\n"
     ]
    },
    {
     "data": {
      "text/html": [
       "<div>\n",
       "<style>\n",
       "    .dataframe thead tr:only-child th {\n",
       "        text-align: right;\n",
       "    }\n",
       "\n",
       "    .dataframe thead th {\n",
       "        text-align: left;\n",
       "    }\n",
       "\n",
       "    .dataframe tbody tr th {\n",
       "        vertical-align: top;\n",
       "    }\n",
       "</style>\n",
       "<table border=\"1\" class=\"dataframe\">\n",
       "  <thead>\n",
       "    <tr style=\"text-align: right;\">\n",
       "      <th></th>\n",
       "      <th>air_store_id</th>\n",
       "      <th>visit_date</th>\n",
       "      <th>visitors</th>\n",
       "      <th>genre_name</th>\n",
       "      <th>area_name</th>\n",
       "      <th>latitude</th>\n",
       "      <th>longitude</th>\n",
       "      <th>reservations</th>\n",
       "      <th>day_of_week</th>\n",
       "      <th>holiday_flg</th>\n",
       "    </tr>\n",
       "  </thead>\n",
       "  <tbody>\n",
       "    <tr>\n",
       "      <th>0</th>\n",
       "      <td>air_ba937bf13d40fb24</td>\n",
       "      <td>2016-01-13</td>\n",
       "      <td>25</td>\n",
       "      <td>Dining bar</td>\n",
       "      <td>Tōkyō-to Minato-ku Shibakōen</td>\n",
       "      <td>35.658068</td>\n",
       "      <td>139.751599</td>\n",
       "      <td>-1.0</td>\n",
       "      <td>Wednesday</td>\n",
       "      <td>0</td>\n",
       "    </tr>\n",
       "    <tr>\n",
       "      <th>1</th>\n",
       "      <td>air_ba937bf13d40fb24</td>\n",
       "      <td>2016-01-14</td>\n",
       "      <td>32</td>\n",
       "      <td>Dining bar</td>\n",
       "      <td>Tōkyō-to Minato-ku Shibakōen</td>\n",
       "      <td>35.658068</td>\n",
       "      <td>139.751599</td>\n",
       "      <td>-1.0</td>\n",
       "      <td>Thursday</td>\n",
       "      <td>0</td>\n",
       "    </tr>\n",
       "    <tr>\n",
       "      <th>2</th>\n",
       "      <td>air_ba937bf13d40fb24</td>\n",
       "      <td>2016-01-15</td>\n",
       "      <td>29</td>\n",
       "      <td>Dining bar</td>\n",
       "      <td>Tōkyō-to Minato-ku Shibakōen</td>\n",
       "      <td>35.658068</td>\n",
       "      <td>139.751599</td>\n",
       "      <td>-1.0</td>\n",
       "      <td>Friday</td>\n",
       "      <td>0</td>\n",
       "    </tr>\n",
       "    <tr>\n",
       "      <th>3</th>\n",
       "      <td>air_ba937bf13d40fb24</td>\n",
       "      <td>2016-01-16</td>\n",
       "      <td>22</td>\n",
       "      <td>Dining bar</td>\n",
       "      <td>Tōkyō-to Minato-ku Shibakōen</td>\n",
       "      <td>35.658068</td>\n",
       "      <td>139.751599</td>\n",
       "      <td>-1.0</td>\n",
       "      <td>Saturday</td>\n",
       "      <td>0</td>\n",
       "    </tr>\n",
       "    <tr>\n",
       "      <th>4</th>\n",
       "      <td>air_ba937bf13d40fb24</td>\n",
       "      <td>2016-01-18</td>\n",
       "      <td>6</td>\n",
       "      <td>Dining bar</td>\n",
       "      <td>Tōkyō-to Minato-ku Shibakōen</td>\n",
       "      <td>35.658068</td>\n",
       "      <td>139.751599</td>\n",
       "      <td>-1.0</td>\n",
       "      <td>Monday</td>\n",
       "      <td>0</td>\n",
       "    </tr>\n",
       "  </tbody>\n",
       "</table>\n",
       "</div>"
      ],
      "text/plain": [
       "           air_store_id visit_date  visitors  genre_name  \\\n",
       "0  air_ba937bf13d40fb24 2016-01-13        25  Dining bar   \n",
       "1  air_ba937bf13d40fb24 2016-01-14        32  Dining bar   \n",
       "2  air_ba937bf13d40fb24 2016-01-15        29  Dining bar   \n",
       "3  air_ba937bf13d40fb24 2016-01-16        22  Dining bar   \n",
       "4  air_ba937bf13d40fb24 2016-01-18         6  Dining bar   \n",
       "\n",
       "                      area_name   latitude   longitude  reservations  \\\n",
       "0  Tōkyō-to Minato-ku Shibakōen  35.658068  139.751599          -1.0   \n",
       "1  Tōkyō-to Minato-ku Shibakōen  35.658068  139.751599          -1.0   \n",
       "2  Tōkyō-to Minato-ku Shibakōen  35.658068  139.751599          -1.0   \n",
       "3  Tōkyō-to Minato-ku Shibakōen  35.658068  139.751599          -1.0   \n",
       "4  Tōkyō-to Minato-ku Shibakōen  35.658068  139.751599          -1.0   \n",
       "\n",
       "  day_of_week  holiday_flg  \n",
       "0   Wednesday            0  \n",
       "1    Thursday            0  \n",
       "2      Friday            0  \n",
       "3    Saturday            0  \n",
       "4      Monday            0  "
      ]
     },
     "metadata": {},
     "output_type": "display_data"
    },
    {
     "data": {
      "image/png": "[encoded data removed]",
      "text/plain": [
       "<matplotlib.figure.Figure at 0x20901be02e8>"
      ]
     },
     "metadata": {},
     "output_type": "display_data"
    }
   ],
   "source": [
    "print('>>> df shape=', df.shape)\n",
    "display(df.head(5))\n",
    "\n",
    "# Plot correlation between different features\n",
    "plt.figure(figsize=(8, 8))\n",
    "sns.heatmap(df.corr(), square=True, cmap='RdYlGn')\n",
    "plt.plot()\n",
    "plt.show()"
   ]
  },
  {
   "cell_type": "markdown",
   "metadata": {},
   "source": [
    "### 2.2 Correlation between `short_df` features"
   ]
  },
  {
   "cell_type": "code",
   "execution_count": 3,
   "metadata": {},
   "outputs": [
    {
     "name": "stdout",
     "output_type": "stream",
     "text": [
      ">>> short_df shape= (255917, 13)\n"
     ]
    },
    {
     "data": {
      "text/html": [
       "<div>\n",
       "<style>\n",
       "    .dataframe thead tr:only-child th {\n",
       "        text-align: right;\n",
       "    }\n",
       "\n",
       "    .dataframe thead th {\n",
       "        text-align: left;\n",
       "    }\n",
       "\n",
       "    .dataframe tbody tr th {\n",
       "        vertical-align: top;\n",
       "    }\n",
       "</style>\n",
       "<table border=\"1\" class=\"dataframe\">\n",
       "  <thead>\n",
       "    <tr style=\"text-align: right;\">\n",
       "      <th></th>\n",
       "      <th>visitors</th>\n",
       "      <th>holiday_flg</th>\n",
       "      <th>reservations</th>\n",
       "      <th>year</th>\n",
       "      <th>month</th>\n",
       "      <th>day</th>\n",
       "      <th>day_of_week_Friday</th>\n",
       "      <th>day_of_week_Monday</th>\n",
       "      <th>day_of_week_Saturday</th>\n",
       "      <th>day_of_week_Sunday</th>\n",
       "      <th>day_of_week_Thursday</th>\n",
       "      <th>day_of_week_Tuesday</th>\n",
       "      <th>day_of_week_Wednesday</th>\n",
       "    </tr>\n",
       "  </thead>\n",
       "  <tbody>\n",
       "    <tr>\n",
       "      <th>0</th>\n",
       "      <td>25</td>\n",
       "      <td>0</td>\n",
       "      <td>-1.0</td>\n",
       "      <td>2016</td>\n",
       "      <td>1</td>\n",
       "      <td>13</td>\n",
       "      <td>0</td>\n",
       "      <td>0</td>\n",
       "      <td>0</td>\n",
       "      <td>0</td>\n",
       "      <td>0</td>\n",
       "      <td>0</td>\n",
       "      <td>1</td>\n",
       "    </tr>\n",
       "    <tr>\n",
       "      <th>1</th>\n",
       "      <td>32</td>\n",
       "      <td>0</td>\n",
       "      <td>-1.0</td>\n",
       "      <td>2016</td>\n",
       "      <td>1</td>\n",
       "      <td>14</td>\n",
       "      <td>0</td>\n",
       "      <td>0</td>\n",
       "      <td>0</td>\n",
       "      <td>0</td>\n",
       "      <td>1</td>\n",
       "      <td>0</td>\n",
       "      <td>0</td>\n",
       "    </tr>\n",
       "    <tr>\n",
       "      <th>2</th>\n",
       "      <td>29</td>\n",
       "      <td>0</td>\n",
       "      <td>-1.0</td>\n",
       "      <td>2016</td>\n",
       "      <td>1</td>\n",
       "      <td>15</td>\n",
       "      <td>1</td>\n",
       "      <td>0</td>\n",
       "      <td>0</td>\n",
       "      <td>0</td>\n",
       "      <td>0</td>\n",
       "      <td>0</td>\n",
       "      <td>0</td>\n",
       "    </tr>\n",
       "    <tr>\n",
       "      <th>3</th>\n",
       "      <td>22</td>\n",
       "      <td>0</td>\n",
       "      <td>-1.0</td>\n",
       "      <td>2016</td>\n",
       "      <td>1</td>\n",
       "      <td>16</td>\n",
       "      <td>0</td>\n",
       "      <td>0</td>\n",
       "      <td>1</td>\n",
       "      <td>0</td>\n",
       "      <td>0</td>\n",
       "      <td>0</td>\n",
       "      <td>0</td>\n",
       "    </tr>\n",
       "    <tr>\n",
       "      <th>4</th>\n",
       "      <td>6</td>\n",
       "      <td>0</td>\n",
       "      <td>-1.0</td>\n",
       "      <td>2016</td>\n",
       "      <td>1</td>\n",
       "      <td>18</td>\n",
       "      <td>0</td>\n",
       "      <td>1</td>\n",
       "      <td>0</td>\n",
       "      <td>0</td>\n",
       "      <td>0</td>\n",
       "      <td>0</td>\n",
       "      <td>0</td>\n",
       "    </tr>\n",
       "  </tbody>\n",
       "</table>\n",
       "</div>"
      ],
      "text/plain": [
       "   visitors  holiday_flg  reservations  year  month  day  day_of_week_Friday  \\\n",
       "0        25            0          -1.0  2016      1   13                   0   \n",
       "1        32            0          -1.0  2016      1   14                   0   \n",
       "2        29            0          -1.0  2016      1   15                   1   \n",
       "3        22            0          -1.0  2016      1   16                   0   \n",
       "4         6            0          -1.0  2016      1   18                   0   \n",
       "\n",
       "   day_of_week_Monday  day_of_week_Saturday  day_of_week_Sunday  \\\n",
       "0                   0                     0                   0   \n",
       "1                   0                     0                   0   \n",
       "2                   0                     0                   0   \n",
       "3                   0                     1                   0   \n",
       "4                   1                     0                   0   \n",
       "\n",
       "   day_of_week_Thursday  day_of_week_Tuesday  day_of_week_Wednesday  \n",
       "0                     0                    0                      1  \n",
       "1                     1                    0                      0  \n",
       "2                     0                    0                      0  \n",
       "3                     0                    0                      0  \n",
       "4                     0                    0                      0  "
      ]
     },
     "metadata": {},
     "output_type": "display_data"
    },
    {
     "data": {
      "image/png": "[encoded data removed]",
      "text/plain": [
       "<matplotlib.figure.Figure at 0x209046a6978>"
      ]
     },
     "metadata": {},
     "output_type": "display_data"
    }
   ],
   "source": [
    "# Select which features are going to be used from the Dataframe\n",
    "short_df = df[ ['air_store_id', 'visit_date', 'visitors', 'day_of_week', 'holiday_flg', 'reservations'] ].copy()\n",
    "#short_df = df[ ['air_store_id', 'visit_date', 'visitors', 'day_of_week', 'holiday_flg'] ].copy()\n",
    "\n",
    "short_df['year'] = df['visit_date'].dt.year\n",
    "short_df['month'] = df['visit_date'].dt.month\n",
    "short_df['day'] = df['visit_date'].dt.day\n",
    "del short_df['visit_date']\n",
    "\n",
    "# Delete restaurant's IDs\n",
    "del short_df['air_store_id']\n",
    "\n",
    "# Convert 'day_of_week' categorical feature into dummy variable\n",
    "short_df = pd.get_dummies(short_df, columns=['day_of_week'])\n",
    "\n",
    "print('>>> short_df shape=', short_df.shape)\n",
    "display(short_df.head(5))\n",
    "\n",
    "# Plot correlation between different features\n",
    "plt.figure(figsize=(8, 8))\n",
    "sns.heatmap(short_df.corr(), square=True, cmap='RdYlGn')\n",
    "plt.plot()\n",
    "plt.show()"
   ]
  },
  {
   "cell_type": "markdown",
   "metadata": {},
   "source": [
    "# 3. Linear Regression"
   ]
  },
  {
   "cell_type": "code",
   "execution_count": 4,
   "metadata": {},
   "outputs": [],
   "source": [
    "from sklearn.linear_model import LinearRegression\n",
    "\n",
    "# karl: linear regression model using only the 'PTRATIO'\n",
    "features = short_df.columns.values.tolist()\n",
    "features.remove('visitors')\n",
    "#print(features)\n",
    "\n",
    "X = short_df[features]\n",
    "y = short_df.visitors.values.reshape(-1, 1)"
   ]
  },
  {
   "cell_type": "markdown",
   "metadata": {},
   "source": [
    "### 3.1 Cross-validation\n",
    "\n",
    "Model performance is dependent on way the data is split and it does not represent well the model’s ability to generalize."
   ]
  },
  {
   "cell_type": "code",
   "execution_count": 5,
   "metadata": {},
   "outputs": [
    {
     "name": "stdout",
     "output_type": "stream",
     "text": [
      ">>> CV results: [ 0.05369184  0.03764405  0.04168206  0.04457251  0.0330738 ]\n",
      ">>> CV mean: 0.0421328524169\n"
     ]
    }
   ],
   "source": [
    "from sklearn.model_selection import cross_val_score\n",
    "reg = LinearRegression() \n",
    "cv_results = cross_val_score(reg, X, y, cv=5) \n",
    "print('>>> CV results:', cv_results)\n",
    "print('>>> CV mean:', np.mean(cv_results))"
   ]
  },
  {
   "cell_type": "markdown",
   "metadata": {},
   "source": [
    "### 3.2 Split into train/test"
   ]
  },
  {
   "cell_type": "code",
   "execution_count": 6,
   "metadata": {},
   "outputs": [],
   "source": [
    "# Split into train set, test set \n",
    "from sklearn.model_selection import train_test_split\n",
    "X_train, X_test, y_train, y_test = train_test_split(X, y, test_size=0.3, random_state=24)"
   ]
  },
  {
   "cell_type": "markdown",
   "metadata": {},
   "source": [
    "### 3.3 Linear Regression on all features"
   ]
  },
  {
   "cell_type": "code",
   "execution_count": 7,
   "metadata": {},
   "outputs": [
    {
     "name": "stdout",
     "output_type": "stream",
     "text": [
      ">>> Intercept    = [ 719.45758339] \n",
      ">>> Coefficients = [[ 3.59565045  0.53220592 -0.34663272 -0.02583522  0.04805365  2.21544919\n",
      "  -3.9007003   5.39456727  3.05214969 -2.07027267 -3.0998202  -1.59137298]]\n",
      "\n",
      ">>> Score: 0.0586610243819\n"
     ]
    }
   ],
   "source": [
    "# Fit the model to the data\n",
    "reg = LinearRegression()\n",
    "reg.fit(X_train, y_train)\n",
    "y_pred = reg.predict(X_test)\n",
    "\n",
    "print('>>> Intercept    =', reg.intercept_, '\\n>>> Coefficients =', reg.coef_)\n",
    "print('\\n>>> Score:', reg.score(X_test, y_test))"
   ]
  },
  {
   "cell_type": "markdown",
   "metadata": {},
   "source": [
    "# 4. Regularized Regression\n",
    "\n",
    "Linear regression minimizes a loss function. It chooses a coeﬃcient for each feature variable. Large coeﬃcients can lead to overﬁtting. Penalizing large coeﬃcients is called *regularization*."
   ]
  },
  {
   "cell_type": "markdown",
   "metadata": {},
   "source": [
    "### 4.1 Ridge"
   ]
  },
  {
   "cell_type": "code",
   "execution_count": 8,
   "metadata": {},
   "outputs": [
    {
     "name": "stdout",
     "output_type": "stream",
     "text": [
      "\n",
      ">>> Ridge Score: 0.0586610194931\n"
     ]
    }
   ],
   "source": [
    "from sklearn.linear_model import Ridge\n",
    "\n",
    "ridge = Ridge(alpha=0.1, normalize=False) \n",
    "ridge.fit(X_train, y_train) \n",
    "ridge_pred = ridge.predict(X_test) \n",
    "print('\\n>>> Ridge Score:', ridge.score(X_test, y_test))"
   ]
  },
  {
   "cell_type": "markdown",
   "metadata": {},
   "source": [
    "### 4.2 Lasso"
   ]
  },
  {
   "cell_type": "code",
   "execution_count": 9,
   "metadata": {},
   "outputs": [
    {
     "data": {
      "text/plain": [
       "0.05609535516096209"
      ]
     },
     "execution_count": 9,
     "metadata": {},
     "output_type": "execute_result"
    }
   ],
   "source": [
    "from sklearn.linear_model import Lasso\n",
    "\n",
    "lasso = Lasso(alpha=0.1, normalize=False) \n",
    "lasso.fit(X_train, y_train) \n",
    "lasso_pred = lasso.predict(X_test) \n",
    "lasso.score(X_test, y_test)"
   ]
  },
  {
   "cell_type": "markdown",
   "metadata": {},
   "source": [
    "#### 4.2.1 Lasso for feature selection "
   ]
  },
  {
   "cell_type": "code",
   "execution_count": 10,
   "metadata": {},
   "outputs": [
    {
     "data": {
      "image/png": "[encoded data removed]",
      "text/plain": [
       "<matplotlib.figure.Figure at 0x2090501fda0>"
      ]
     },
     "metadata": {},
     "output_type": "display_data"
    }
   ],
   "source": [
    "lasso = Lasso(alpha=0.1) \n",
    "lasso_coef = lasso.fit(X, y).coef_ \n",
    "\n",
    "plt.figure(figsize=(17,5))\n",
    "plt.plot(range(len(features)), lasso_coef) \n",
    "plt.xticks(range(len(features)), features, rotation=45) \n",
    "plt.ylabel('Coefficients') \n",
    "plt.show()"
   ]
  }
 ],
 "metadata": {
  "kernelspec": {
   "display_name": "Python 3",
   "language": "python",
   "name": "python3"
  },
  "language_info": {
   "codemirror_mode": {
    "name": "ipython",
    "version": 3
   },
   "file_extension": ".py",
   "mimetype": "text/x-python",
   "name": "python",
   "nbconvert_exporter": "python",
   "pygments_lexer": "ipython3",
   "version": "3.6.3"
  }
 },
 "nbformat": 4,
 "nbformat_minor": 2
}
