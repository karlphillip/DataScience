{
 "cells": [
  {
   "cell_type": "markdown",
   "metadata": {},
   "source": [
    "# Examining Racial Discrimination in the US Job Market\n",
    "\n",
    "### Background\n",
    "Racial discrimination continues to be pervasive in cultures throughout the world. Researchers examined the level of racial discrimination in the United States labor market by randomly assigning identical résumés to black-sounding or white-sounding names and observing the impact on requests for interviews from employers.\n",
    "\n",
    "### Data\n",
    "In the dataset provided, each row represents a resume. The 'race' column has two values, 'b' and 'w', indicating black-sounding and white-sounding. The column 'call' has two values, 1 and 0, indicating whether the resume received a call from employers or not.\n",
    "\n",
    "Note that the 'b' and 'w' values in race are assigned randomly to the resumes when presented to the employer."
   ]
  },
  {
   "cell_type": "markdown",
   "metadata": {},
   "source": [
    "<div class=\"span5 alert alert-info\">\n",
    "### Exercises\n",
    "You will perform a statistical analysis to establish whether race has a significant impact on the rate of callbacks for resumes.\n",
    "\n",
    "Answer the following questions **in this notebook below and submit to your Github account**. \n",
    "\n",
    "   1. What test is appropriate for this problem? Does CLT apply?\n",
    "   2. What are the null and alternate hypotheses?\n",
    "   3. Compute margin of error, confidence interval, and p-value. Try using both the bootstrapping and the frequentist statistical approaches.\n",
    "   4. Write a story describing the statistical significance in the context or the original problem.\n",
    "   5. Does your analysis mean that race/name is the most important factor in callback success? Why or why not? If not, how would you amend your analysis?\n",
    "\n",
    "You can include written notes in notebook cells using Markdown: \n",
    "   - In the control panel at the top, choose Cell > Cell Type > Markdown\n",
    "   - Markdown syntax: http://nestacms.com/docs/creating-content/markdown-cheat-sheet\n",
    "\n",
    "\n",
    "#### Resources\n",
    "+ Experiment information and data source: http://www.povertyactionlab.org/evaluation/discrimination-job-market-united-states\n",
    "+ Scipy statistical methods: http://docs.scipy.org/doc/scipy/reference/stats.html \n",
    "+ Markdown syntax: http://nestacms.com/docs/creating-content/markdown-cheat-sheet\n",
    "+ Formulas for the Bernoulli distribution: https://en.wikipedia.org/wiki/Bernoulli_distribution\n",
    "</div>\n",
    "---"
   ]
  },
  {
   "cell_type": "markdown",
   "metadata": {},
   "source": [
    "## Preliminary Visual Inspection\n",
    "Becoming familiar with the data:"
   ]
  },
  {
   "cell_type": "code",
   "execution_count": 1,
   "metadata": {},
   "outputs": [
    {
     "name": "stdout",
     "output_type": "stream",
     "text": [
      ">>> Shape = (4870, 65)\n"
     ]
    },
    {
     "data": {
      "text/html": [
       "<div>\n",
       "<style>\n",
       "    .dataframe thead tr:only-child th {\n",
       "        text-align: right;\n",
       "    }\n",
       "\n",
       "    .dataframe thead th {\n",
       "        text-align: left;\n",
       "    }\n",
       "\n",
       "    .dataframe tbody tr th {\n",
       "        vertical-align: top;\n",
       "    }\n",
       "</style>\n",
       "<table border=\"1\" class=\"dataframe\">\n",
       "  <thead>\n",
       "    <tr style=\"text-align: right;\">\n",
       "      <th></th>\n",
       "      <th>id</th>\n",
       "      <th>ad</th>\n",
       "      <th>education</th>\n",
       "      <th>ofjobs</th>\n",
       "      <th>yearsexp</th>\n",
       "      <th>honors</th>\n",
       "      <th>volunteer</th>\n",
       "      <th>military</th>\n",
       "      <th>empholes</th>\n",
       "      <th>occupspecific</th>\n",
       "      <th>...</th>\n",
       "      <th>compreq</th>\n",
       "      <th>orgreq</th>\n",
       "      <th>manuf</th>\n",
       "      <th>transcom</th>\n",
       "      <th>bankreal</th>\n",
       "      <th>trade</th>\n",
       "      <th>busservice</th>\n",
       "      <th>othservice</th>\n",
       "      <th>missind</th>\n",
       "      <th>ownership</th>\n",
       "    </tr>\n",
       "  </thead>\n",
       "  <tbody>\n",
       "    <tr>\n",
       "      <th>0</th>\n",
       "      <td>b</td>\n",
       "      <td>1</td>\n",
       "      <td>4</td>\n",
       "      <td>2</td>\n",
       "      <td>6</td>\n",
       "      <td>0</td>\n",
       "      <td>0</td>\n",
       "      <td>0</td>\n",
       "      <td>1</td>\n",
       "      <td>17</td>\n",
       "      <td>...</td>\n",
       "      <td>1.0</td>\n",
       "      <td>0.0</td>\n",
       "      <td>1.0</td>\n",
       "      <td>0.0</td>\n",
       "      <td>0.0</td>\n",
       "      <td>0.0</td>\n",
       "      <td>0.0</td>\n",
       "      <td>0.0</td>\n",
       "      <td>0.0</td>\n",
       "      <td></td>\n",
       "    </tr>\n",
       "    <tr>\n",
       "      <th>1</th>\n",
       "      <td>b</td>\n",
       "      <td>1</td>\n",
       "      <td>3</td>\n",
       "      <td>3</td>\n",
       "      <td>6</td>\n",
       "      <td>0</td>\n",
       "      <td>1</td>\n",
       "      <td>1</td>\n",
       "      <td>0</td>\n",
       "      <td>316</td>\n",
       "      <td>...</td>\n",
       "      <td>1.0</td>\n",
       "      <td>0.0</td>\n",
       "      <td>1.0</td>\n",
       "      <td>0.0</td>\n",
       "      <td>0.0</td>\n",
       "      <td>0.0</td>\n",
       "      <td>0.0</td>\n",
       "      <td>0.0</td>\n",
       "      <td>0.0</td>\n",
       "      <td></td>\n",
       "    </tr>\n",
       "    <tr>\n",
       "      <th>2</th>\n",
       "      <td>b</td>\n",
       "      <td>1</td>\n",
       "      <td>4</td>\n",
       "      <td>1</td>\n",
       "      <td>6</td>\n",
       "      <td>0</td>\n",
       "      <td>0</td>\n",
       "      <td>0</td>\n",
       "      <td>0</td>\n",
       "      <td>19</td>\n",
       "      <td>...</td>\n",
       "      <td>1.0</td>\n",
       "      <td>0.0</td>\n",
       "      <td>1.0</td>\n",
       "      <td>0.0</td>\n",
       "      <td>0.0</td>\n",
       "      <td>0.0</td>\n",
       "      <td>0.0</td>\n",
       "      <td>0.0</td>\n",
       "      <td>0.0</td>\n",
       "      <td></td>\n",
       "    </tr>\n",
       "    <tr>\n",
       "      <th>3</th>\n",
       "      <td>b</td>\n",
       "      <td>1</td>\n",
       "      <td>3</td>\n",
       "      <td>4</td>\n",
       "      <td>6</td>\n",
       "      <td>0</td>\n",
       "      <td>1</td>\n",
       "      <td>0</td>\n",
       "      <td>1</td>\n",
       "      <td>313</td>\n",
       "      <td>...</td>\n",
       "      <td>1.0</td>\n",
       "      <td>0.0</td>\n",
       "      <td>1.0</td>\n",
       "      <td>0.0</td>\n",
       "      <td>0.0</td>\n",
       "      <td>0.0</td>\n",
       "      <td>0.0</td>\n",
       "      <td>0.0</td>\n",
       "      <td>0.0</td>\n",
       "      <td></td>\n",
       "    </tr>\n",
       "    <tr>\n",
       "      <th>4</th>\n",
       "      <td>b</td>\n",
       "      <td>1</td>\n",
       "      <td>3</td>\n",
       "      <td>3</td>\n",
       "      <td>22</td>\n",
       "      <td>0</td>\n",
       "      <td>0</td>\n",
       "      <td>0</td>\n",
       "      <td>0</td>\n",
       "      <td>313</td>\n",
       "      <td>...</td>\n",
       "      <td>1.0</td>\n",
       "      <td>1.0</td>\n",
       "      <td>0.0</td>\n",
       "      <td>0.0</td>\n",
       "      <td>0.0</td>\n",
       "      <td>0.0</td>\n",
       "      <td>0.0</td>\n",
       "      <td>1.0</td>\n",
       "      <td>0.0</td>\n",
       "      <td>Nonprofit</td>\n",
       "    </tr>\n",
       "  </tbody>\n",
       "</table>\n",
       "<p>5 rows × 65 columns</p>\n",
       "</div>"
      ],
      "text/plain": [
       "  id ad  education  ofjobs  yearsexp  honors  volunteer  military  empholes  \\\n",
       "0  b  1          4       2         6       0          0         0         1   \n",
       "1  b  1          3       3         6       0          1         1         0   \n",
       "2  b  1          4       1         6       0          0         0         0   \n",
       "3  b  1          3       4         6       0          1         0         1   \n",
       "4  b  1          3       3        22       0          0         0         0   \n",
       "\n",
       "   occupspecific    ...      compreq  orgreq  manuf  transcom  bankreal trade  \\\n",
       "0             17    ...          1.0     0.0    1.0       0.0       0.0   0.0   \n",
       "1            316    ...          1.0     0.0    1.0       0.0       0.0   0.0   \n",
       "2             19    ...          1.0     0.0    1.0       0.0       0.0   0.0   \n",
       "3            313    ...          1.0     0.0    1.0       0.0       0.0   0.0   \n",
       "4            313    ...          1.0     1.0    0.0       0.0       0.0   0.0   \n",
       "\n",
       "  busservice othservice  missind  ownership  \n",
       "0        0.0        0.0      0.0             \n",
       "1        0.0        0.0      0.0             \n",
       "2        0.0        0.0      0.0             \n",
       "3        0.0        0.0      0.0             \n",
       "4        0.0        1.0      0.0  Nonprofit  \n",
       "\n",
       "[5 rows x 65 columns]"
      ]
     },
     "metadata": {},
     "output_type": "display_data"
    },
    {
     "name": "stdout",
     "output_type": "stream",
     "text": [
      "\n",
      ">>> Columns [ 65 ]\n",
      " Index(['id', 'ad', 'education', 'ofjobs', 'yearsexp', 'honors', 'volunteer',\n",
      "       'military', 'empholes', 'occupspecific', 'occupbroad', 'workinschool',\n",
      "       'email', 'computerskills', 'specialskills', 'firstname', 'sex', 'race',\n",
      "       'h', 'l', 'call', 'city', 'kind', 'adid', 'fracblack', 'fracwhite',\n",
      "       'lmedhhinc', 'fracdropout', 'fraccolp', 'linc', 'col', 'expminreq',\n",
      "       'schoolreq', 'eoe', 'parent_sales', 'parent_emp', 'branch_sales',\n",
      "       'branch_emp', 'fed', 'fracblack_empzip', 'fracwhite_empzip',\n",
      "       'lmedhhinc_empzip', 'fracdropout_empzip', 'fraccolp_empzip',\n",
      "       'linc_empzip', 'manager', 'supervisor', 'secretary', 'offsupport',\n",
      "       'salesrep', 'retailsales', 'req', 'expreq', 'comreq', 'educreq',\n",
      "       'compreq', 'orgreq', 'manuf', 'transcom', 'bankreal', 'trade',\n",
      "       'busservice', 'othservice', 'missind', 'ownership'],\n",
      "      dtype='object')\n"
     ]
    }
   ],
   "source": [
    "import pandas as pd\n",
    "import numpy as np\n",
    "from scipy import stats\n",
    "from IPython.display import display\n",
    "import matplotlib.pyplot as plt\n",
    "import seaborn as sns\n",
    "%matplotlib inline\n",
    "\n",
    "df = pd.io.stata.read_stata('data/us_job_market_discrimination.dta')\n",
    "\n",
    "print('>>> Shape =', df.shape)\n",
    "display(df.head(5))    \n",
    "print('\\n>>> Columns [', len(df.columns), ']\\n', df.columns)\n",
    "#print('\\n>>> Types\\n', df.dtypes)"
   ]
  },
  {
   "cell_type": "code",
   "execution_count": 2,
   "metadata": {},
   "outputs": [
    {
     "name": "stdout",
     "output_type": "stream",
     "text": [
      ">>> w_call_sum = 235.0  w_percent= 9.65 %  size= 2435\n",
      ">>> b_call_sum = 157.0  b_percent= 6.45 %  size= 2435\n"
     ]
    }
   ],
   "source": [
    "# number of callbacks for white-sounding names\n",
    "w_df       = df[df.race == 'w'] \n",
    "w_call_sum = np.sum(w_df.call)\n",
    "w_percent  = w_call_sum / w_df.shape[0] * 100\n",
    "\n",
    "# number of callbacks for black-sounding names\n",
    "b_df       = df[df.race == 'b']\n",
    "b_call_sum = np.sum(b_df.call)\n",
    "b_percent  = b_call_sum / b_df.shape[0] * 100\n",
    "\n",
    "print('>>> w_call_sum =', w_call_sum, ' w_percent=', round(w_percent, 2), '%', ' size=', w_df.shape[0])\n",
    "print('>>> b_call_sum =', b_call_sum, ' b_percent=', round(b_percent, 2), '%', ' size=', b_df.shape[0])"
   ]
  },
  {
   "cell_type": "code",
   "execution_count": 3,
   "metadata": {},
   "outputs": [],
   "source": [
    "# Plot yearsexp vs race\n",
    "def plot_yearsexp_vs_call(df, title):\n",
    "    series = df.groupby(['yearsexp']).aggregate(np.sum).call\n",
    "    \n",
    "    ax = series.plot(title=title, kind='bar', ylim=(0, 35))\n",
    "    ax.set_xlabel('Years of Experience')\n",
    "    ax.set_ylabel('Number of Callbacks')  \n",
    "    \n",
    "    # fix 90 degree rotation caused by standard parameters\n",
    "    loc, labels = plt.xticks()\n",
    "    ax.set_xticklabels(labels, rotation=0)"
   ]
  },
  {
   "cell_type": "code",
   "execution_count": 4,
   "metadata": {},
   "outputs": [
    {
     "data": {
      "image/png": "[encoded data removed]",
      "text/plain": [
       "<matplotlib.figure.Figure at 0x1878b4629b0>"
      ]
     },
     "metadata": {},
     "output_type": "display_data"
    }
   ],
   "source": [
    "sns.set()\n",
    "fig, ax = plt.subplots(figsize=(15,5))\n",
    "\n",
    "plt.subplot(1, 2, 1)\n",
    "plot_yearsexp_vs_call(w_df, 'Years of Experience vs Callbacks (White)')\n",
    "\n",
    "plt.subplot(1, 2, 2)\n",
    "plot_yearsexp_vs_call(b_df, 'Years of Experience vs Callbacks (Black)')\n",
    "\n",
    "plt.show()"
   ]
  },
  {
   "cell_type": "markdown",
   "metadata": {},
   "source": [
    "Implementation of helper functions:"
   ]
  },
  {
   "cell_type": "code",
   "execution_count": 5,
   "metadata": {},
   "outputs": [],
   "source": [
    "### plot_pdf(): plot a Probability Density Function\n",
    "def plot_pdf(data, mean, title):    \n",
    "    plt.hist(data, bins=30, normed = True, histtype='step', linewidth=1)\n",
    "    plt.axvline(mean, color='r', linestyle='--', linewidth=1, label='mean')\n",
    "    plt.legend(loc='upper left')\n",
    "    plt.title(title)\n",
    "    plt.xlabel('Callback percentage')\n",
    "    plt.ylabel('PDF')\n",
    "    plt.axis((0.045, 0.12, 0, 95))"
   ]
  },
  {
   "cell_type": "code",
   "execution_count": 6,
   "metadata": {},
   "outputs": [],
   "source": [
    "# plot_ci_cmp(): plot a 95%CI comparison of 2 proportions and the difference between them\n",
    "def plot_ci_cmp(p1, p2, diff, p1_std_err, p2_std_err, std_err_diff):    \n",
    "    x = [2, 4, 6]\n",
    "    y = [p1, p2, diff]\n",
    "    errors = [2*p1_std_err, 2*p2_std_err, 2*std_err_diff]\n",
    "\n",
    "    fig, ax = plt.subplots(figsize=(10,5))\n",
    "\n",
    "    plt.errorbar(x, y, yerr=errors, fmt='o', color='b', markerfacecolor='white', markeredgecolor='blue', markeredgewidth=1)\n",
    "    plt.title('95% CI Comparison of Two Proportions')\n",
    "    plt.ylabel('Proportion')\n",
    "    plt.ylim(0.0, 0.12)\n",
    "    plt.xticks((0, 2, 4, 6, 8), ('', 'Proportion 1', 'Proportion 2', 'Difference', ''))\n",
    "    plt.show()"
   ]
  },
  {
   "cell_type": "markdown",
   "metadata": {
    "collapsed": true
   },
   "source": [
    "---\n",
    "## 1. What test is appropriate for this problem? Does CLT apply?"
   ]
  },
  {
   "cell_type": "markdown",
   "metadata": {},
   "source": [
    "**Yes**, CLT does apply. An appropriate test for this problem is to determine if the [difference between two proportions](http://stattrek.com/hypothesis-test/difference-in-proportions.aspx) is significant. For this goal, a **two-proportion z-test** can be used. \n",
    "\n",
    "According to the **Central Limit Theorem** (CLT), the following conditions must be met:\n",
    "* **The samples must be independent**! They are, the races were randomly assigned to identical résumés. One observation does not provide any information about the other.\n",
    "* **10% Rule** - the sample size must not be bigger than 10% of the entire population! They are, the sample sizes are 9.65% and 6.45%.\n",
    "* Each sample includes at least **10 successes and 10 failures**! It does, there are 235 / 2435 successes in the first sample and 157 / 2435 on the other sample.\n",
    "\n",
    "This is what we know about the data:\n",
    "- From all 2435 resumes with white-sounding names, 9.65% received a call.\n",
    "- From all 2435 resumes with black-sounding names, 6.45% received a call."
   ]
  },
  {
   "cell_type": "code",
   "execution_count": 7,
   "metadata": {},
   "outputs": [
    {
     "name": "stdout",
     "output_type": "stream",
     "text": [
      ">>> Callbacks for W-names = 235.0 / 2435 ( 9.65 %)\n",
      ">>> Callbacks for B-names = 157.0 / 2435 ( 6.45 %)\n"
     ]
    }
   ],
   "source": [
    "print('>>> Callbacks for W-names =', w_call_sum, '/', w_df.shape[0], '(', round(w_percent, 2), '%)')\n",
    "print('>>> Callbacks for B-names =', b_call_sum, '/', b_df.shape[0], '(', round(b_percent, 2), '%)')"
   ]
  },
  {
   "cell_type": "markdown",
   "metadata": {},
   "source": [
    "## 2. What are the null and alternate hypotheses?\n",
    "- H0: There is no difference between the rate of callbacks of the two races (`P1 - P2 = 0`)\n",
    "- HA: There is a difference between the rate of callbacks of the two races (`P1 - P2 <> 0`)"
   ]
  },
  {
   "cell_type": "markdown",
   "metadata": {},
   "source": [
    "## 3. Compute margin of error, confidence interval, and p-value. Try using both the bootstrapping and the frequentist statistical approaches.\n",
    "### 3.1  Bootstrapping Approach\n",
    " Resampling from a given sample of data:"
   ]
  },
  {
   "cell_type": "code",
   "execution_count": 8,
   "metadata": {},
   "outputs": [],
   "source": [
    "# Generates boostrap replicates for N tests: each replicate returned is a tuple of (white_call_percent, black_call_percent)\n",
    "def gen_bootstrap_replicates(df, n):\n",
    "    bs_replicates = []\n",
    "    \n",
    "    for i in range(n):\n",
    "        indexes = np.arange(df.shape[0])\n",
    "        bs_indexes = np.random.choice(indexes, size=len(indexes))\n",
    "        bs_sample_df = df.iloc[bs_indexes]\n",
    "        \n",
    "        # break down the dataframe into W_DF and B_DF to make it easier to compute the callback percentage for each dataframe\n",
    "        w_df = bs_sample_df[bs_sample_df.race == 'w']    \n",
    "        b_df = bs_sample_df[bs_sample_df.race == 'b']\n",
    "        \n",
    "        w_call_percent = np.sum(w_df.call) / w_df.shape[0]                        \n",
    "        b_call_percent = np.sum(b_df.call) / b_df.shape[0]        \n",
    "        #print('>>> Callbacks for W-names =', np.sum(w_df.call), '/', w_df.shape[0], '(', round(w_call_percent, 3)*100, '%)')\n",
    "        #print('>>> Callbacks for B-names =', np.sum(b_df.call), '/', b_df.shape[0], '(', round(b_call_percent, 3)*100, '%)')\n",
    "        \n",
    "        bs_replicates.append((w_call_percent, b_call_percent))\n",
    "        \n",
    "    return bs_replicates"
   ]
  },
  {
   "cell_type": "code",
   "execution_count": 9,
   "metadata": {},
   "outputs": [],
   "source": [
    "###\n",
    "# Strip down the main DataFrame to just [race,call] columns and generate 1000 bootstrap replicates from it\n",
    "# Then, calculate the mean for both white/black bootstrap replicates\n",
    "###\n",
    "bs_replicates_percent = gen_bootstrap_replicates(df[['race', 'call']], 1000)\n",
    "\n",
    "# compute the mean for all the w_call_percent values in bs_replicates_percent\n",
    "bs_replicates_w_calls = list(t[0] for t in bs_replicates_percent)\n",
    "w_call_percent_mean = sum(bs_replicates_w_calls) / len(bs_replicates_percent)\n",
    "\n",
    "# compute the mean for all the b_call_percent values in bs_replicates_percent\n",
    "bs_replicates_b_calls = list(t[1] for t in bs_replicates_percent)\n",
    "b_call_percent_mean = sum(bs_replicates_b_calls) / len(bs_replicates_percent)\n",
    "\n",
    "# These values are also printed by the next cell, below the plot to make it more interesting\n",
    "# print('>>> Bootstrap replicates summary statistics:')\n",
    "# print('>>> W callbacks mean   = ', round(w_call_percent_mean, 4), '\\t95% CI =', np.percentile(bs_replicates_w_calls, [2.5, 97.5]))\n",
    "# print('>>> B callbacks mean   = ', round(b_call_percent_mean, 4), '\\t95% CI =', np.percentile(bs_replicates_b_calls, [2.5, 97.5]))"
   ]
  },
  {
   "cell_type": "code",
   "execution_count": 10,
   "metadata": {},
   "outputs": [
    {
     "data": {
      "image/png": "[encoded data removed]",
      "text/plain": [
       "<matplotlib.figure.Figure at 0x1878bc17390>"
      ]
     },
     "metadata": {},
     "output_type": "display_data"
    },
    {
     "name": "stdout",
     "output_type": "stream",
     "text": [
      ">>> Bootstrap replicates summary statistics:\n",
      ">>> W callbacks mean = 0.0962 \t95% CI = [ 0.08518169  0.10728955]\n",
      ">>> B callbacks mean = 0.0646 \t95% CI = [ 0.0552376   0.07489969]\n"
     ]
    }
   ],
   "source": [
    "### \n",
    "# Draw PDFs of white/black bootstrap replicates\n",
    "###\n",
    "fig, ax = plt.subplots(figsize=(15,5))\n",
    "\n",
    "# iterate the list of tuples returned by gen_bootstrap_replicates(), and retrieve a list with the 1st element of every tuple\n",
    "w_call_percent_list = [t[0] for t in bs_replicates_percent]\n",
    "plt.subplot(1, 2, 1)\n",
    "plot_pdf(w_call_percent_list, w_call_percent_mean, 'Bootstrap estimate of the callback (White)')\n",
    "\n",
    "# iterate the list of tuples returned by gen_bootstrap_replicates(), and retrieve a list with the 2nd element of every tuple\n",
    "b_call_percent_list = [t[1] for t in bs_replicates_percent]\n",
    "plt.subplot(1, 2, 2)\n",
    "plot_pdf(b_call_percent_list, b_call_percent_mean, 'Bootstrap estimate of the callback (Black)')\n",
    "\n",
    "plt.show()\n",
    "\n",
    "print('>>> Bootstrap replicates summary statistics:')\n",
    "print('>>> W callbacks mean =', round(w_call_percent_mean, 4), '\\t95% CI =', np.percentile(bs_replicates_w_calls, [2.5, 97.5]))\n",
    "print('>>> B callbacks mean =', round(b_call_percent_mean, 4), '\\t95% CI =', np.percentile(bs_replicates_b_calls, [2.5, 97.5]))"
   ]
  },
  {
   "cell_type": "code",
   "execution_count": 11,
   "metadata": {},
   "outputs": [
    {
     "name": "stdout",
     "output_type": "stream",
     "text": [
      ">>> p1 = 0.0961618797207 n1= 1000\n",
      ">>> p2 = 0.0645642156908 n2= 1000\n",
      ">>> Pooled sample size (p) = 0.0803630477057\n",
      ">>> Standard error         = 0.0121576994756\n",
      ">>> Z-Score                = 2.59898380392\n",
      ">>> P-Value                = 0.00935001846392\n"
     ]
    }
   ],
   "source": [
    "### Compute standard error between them\n",
    "p1 = w_call_percent_mean\n",
    "n1 = len(w_call_percent_list)\n",
    "print('>>> p1 =', p1, 'n1=', n1)\n",
    "\n",
    "p2 = b_call_percent_mean\n",
    "n2 = len(b_call_percent_list)\n",
    "print('>>> p2 =', p2, 'n2=', n2)\n",
    "\n",
    "# sample 1 std error (white)\n",
    "w_std_err  = np.sqrt((p1 * (1 - p1)) / n1)\n",
    "\n",
    "# sample 2 std error (black)\n",
    "b_std_err  = np.sqrt((p2 * (1 - p2)) / n2)\n",
    "\n",
    "# pooled sample size (i.e. the overall proportion)\n",
    "p_hat = (p1 * n1 + p2 * n2) / (n1 + n2)\n",
    "print('>>> Pooled sample size (p) =', p_hat)\n",
    "\n",
    "# standard error\n",
    "std_err = np.sqrt(p_hat * (1 - p_hat) * ((1/n1) + (1/n2)) )\n",
    "print('>>> Standard error         =', std_err)\n",
    "\n",
    "# test statistic: z-score\n",
    "z_score = (p1 - p2) / std_err\n",
    "print('>>> Z-Score                =', z_score)\n",
    "\n",
    "import scipy\n",
    "p_value = 2 * scipy.stats.norm.cdf(-np.abs(z_score))\n",
    "print('>>> P-Value                =', p_value)"
   ]
  },
  {
   "cell_type": "markdown",
   "metadata": {},
   "source": [
    "**Note**: the `p-value` 0.008 is much higher than the computed `p-value` on the *Frequentist Statistical Approach*.\n",
    "This is because on the bootstrap approach, `n1` and `n2` are defined as the size of the bootstrap replicates (1000) instead of the sample size (2435)."
   ]
  },
  {
   "cell_type": "code",
   "execution_count": 12,
   "metadata": {},
   "outputs": [
    {
     "name": "stdout",
     "output_type": "stream",
     "text": [
      ">>> Difference between the 2 proportions = 0.0315976640299\n",
      ">>> Standard error for difference        = 0.0121371516573\n"
     ]
    },
    {
     "data": {
      "image/png": "[encoded data removed]",
      "text/plain": [
       "<matplotlib.figure.Figure at 0x1878bdaa400>"
      ]
     },
     "metadata": {},
     "output_type": "display_data"
    },
    {
     "name": "stdout",
     "output_type": "stream",
     "text": [
      ">>> Proportion 1 (W) mean = 0.0962 \t95% CI = [ 0.08518169  0.10728955]\n",
      ">>> Proportion 2 (B) mean = 0.0646 \t95% CI = [ 0.0552376   0.07489969]\n",
      ">>> Difference            = 0.0316 \t95% CI = 0.0078 - 0.0554\n"
     ]
    }
   ],
   "source": [
    "# sample 3: difference of the other 2 proportions\n",
    "p_diff = p1 - p2  # 0.032\n",
    "print('>>> Difference between the 2 proportions =', p_diff)\n",
    "\n",
    "# standard error for difference between proportions\n",
    "std_err_diff = np.sqrt((w_std_err*w_std_err) + (b_std_err*b_std_err))\n",
    "print('>>> Standard error for difference        =', std_err_diff)\n",
    "\n",
    "plot_ci_cmp(p1, p2, p_diff, w_std_err, b_std_err, std_err_diff)\n",
    "\n",
    "# compute the 95% confidence interval for p_diff\n",
    "p_diff_95CI_min = p_diff - (1.96 * std_err_diff)\n",
    "p_diff_95CI_max = p_diff + (1.96 * std_err_diff)\n",
    "\n",
    "print('>>> Proportion 1 (W) mean =', round(w_call_percent_mean, 4), '\\t95% CI =', np.percentile(bs_replicates_w_calls, [2.5, 97.5]))\n",
    "print('>>> Proportion 2 (B) mean =', round(b_call_percent_mean, 4), '\\t95% CI =', np.percentile(bs_replicates_b_calls, [2.5, 97.5]))\n",
    "print('>>> Difference            =', round(p_diff, 4), '\\t95% CI =', round(p_diff_95CI_min, 4), '-', round(p_diff_95CI_max, 4))"
   ]
  },
  {
   "cell_type": "markdown",
   "metadata": {},
   "source": [
    "### 3.2 Frequentist Statistical Approach"
   ]
  },
  {
   "cell_type": "code",
   "execution_count": 13,
   "metadata": {},
   "outputs": [
    {
     "name": "stdout",
     "output_type": "stream",
     "text": [
      ">>> p1= 0.097   n1= 2435   std_err= 0.00598407217813   95%CI= 0.0848 - 0.1082\n",
      ">>> p2= 0.064   n2= 2435   std_err= 0.00497712144281   95%CI= 0.0547 - 0.0742\n",
      "\n",
      ">>> Pooled sample size (p) =  0.0804928131417\n",
      ">>> Standard error         =  0.00779689403617\n",
      ">>> Z-Score                =  4.10841215243\n",
      ">>> P-Value                =  3.98388683759e-05\n"
     ]
    }
   ],
   "source": [
    "p1 = w_call_sum / w_df.shape[0]\n",
    "n1 = w_df.shape[0]\n",
    "p2 = b_call_sum / b_df.shape[0]\n",
    "n2 = b_df.shape[0]\n",
    "# print('>>> p1 =', p1, 'n1=', n1)\n",
    "# print('>>> p2 =', p2, 'n2=', n2)\n",
    "\n",
    "# sample 1 (White-names) 95% CI\n",
    "p1_std_err  = np.sqrt((p1 * (1 - p1)) / n1)\n",
    "p1_95CI_min = p1 - (1.96 * p1_std_err)\n",
    "p1_95CI_max = p1 + (1.96 * p1_std_err)\n",
    "print('>>> p1=', round(p1, 3), '  n1=', n1, '  std_err=', p1_std_err, '  95%CI=', round(p1_95CI_min, 4), '-', round(p1_95CI_max, 4))\n",
    "\n",
    "# sample 2 (Black-names) 95% CI\n",
    "p2_std_err  = np.sqrt((p2 * (1 - p2)) / n2)\n",
    "p2_95CI_min = p2 - (1.96 * p2_std_err)\n",
    "p2_95CI_max = p2 + (1.96 * p2_std_err)\n",
    "print('>>> p2=', round(p2, 3), '  n2=', n2, '  std_err=', p2_std_err,'  95%CI=', round(p2_95CI_min, 4), '-', round(p2_95CI_max, 4))\n",
    "print('')\n",
    "\n",
    "# pooled sample size (i.e. the overall proportion)\n",
    "p_hat = (p1 * n1 + p2 * n2) / (n1 + n2)\n",
    "print('>>> Pooled sample size (p) = ', p_hat)\n",
    "\n",
    "# standard error\n",
    "std_err = np.sqrt(p_hat * (1 - p_hat) * ((1/n1) + (1/n2)) )\n",
    "print('>>> Standard error         = ', std_err)\n",
    "\n",
    "# test statistic: z-score\n",
    "z_score = (p1 - p2) / std_err\n",
    "print('>>> Z-Score                = ', z_score)\n",
    "\n",
    "import scipy\n",
    "p_value = 2 * scipy.stats.norm.cdf(-np.abs(z_score))\n",
    "print('>>> P-Value                = ', p_value)"
   ]
  },
  {
   "cell_type": "markdown",
   "metadata": {},
   "source": [
    "The [2-sample z-test to compare sample proportion calculator](http://epitools.ausvet.com.au/content.php?page=z-test-2&p1=0.0965&p2=0.0644&n1=2435+&n2=2435+&Conf=0.05&tails=2&samples=2) can be used to validate these results."
   ]
  },
  {
   "cell_type": "code",
   "execution_count": 14,
   "metadata": {},
   "outputs": [
    {
     "name": "stdout",
     "output_type": "stream",
     "text": [
      ">>> Difference between the 2 proportions = 0.0320328542094\n",
      ">>> Difference standard error            = 0.00778337058668\n",
      ">>> Difference 95% CI                    = 0.0168 - 0.0473\n"
     ]
    },
    {
     "data": {
      "image/png": "[encoded data removed]",
      "text/plain": [
       "<matplotlib.figure.Figure at 0x1878bd83eb8>"
      ]
     },
     "metadata": {},
     "output_type": "display_data"
    },
    {
     "name": "stdout",
     "output_type": "stream",
     "text": [
      ">>> Proportion 1 (W) mean = 0.0965 \t95% CI = 0.0848 - 0.1082\n",
      ">>> Proportion 2 (B) mean = 0.0645 \t95% CI = 0.0547 - 0.0742\n",
      ">>> Difference            = 0.032 \t95% CI = 0.0168 - 0.0473\n"
     ]
    }
   ],
   "source": [
    "# sample 3: difference of the other 2 proportions\n",
    "p_diff = p1 - p2  # 0.032\n",
    "print('>>> Difference between the 2 proportions =', p_diff)\n",
    "\n",
    "# standard error for difference between proportions\n",
    "std_err_diff = np.sqrt((p1_std_err*p1_std_err) + (p2_std_err*p2_std_err))\n",
    "print('>>> Difference standard error            =', std_err_diff)\n",
    "\n",
    "# compute the confidence interval for 95%\n",
    "p_diff_95CI_min = p_diff - (1.96 * std_err_diff)\n",
    "p_diff_95CI_max = p_diff + (1.96 * std_err_diff)\n",
    "print('>>> Difference 95% CI                    =', round(p_diff_95CI_min, 4), '-', round(p_diff_95CI_max, 4))\n",
    "\n",
    "plot_ci_cmp(p1, p2, p_diff, p1_std_err, p2_std_err, std_err_diff)\n",
    "\n",
    "print('>>> Proportion 1 (W) mean =', round(p1, 4), '\\t95% CI =', round(p1_95CI_min, 4), '-', round(p1_95CI_max, 4))\n",
    "print('>>> Proportion 2 (B) mean =', round(p2, 4), '\\t95% CI =', round(p2_95CI_min, 4), '-', round(p2_95CI_max, 4))\n",
    "print('>>> Difference            =', round(p_diff, 4), '\\t95% CI =', round(p_diff_95CI_min, 4), '-', round(p_diff_95CI_max, 4))"
   ]
  },
  {
   "cell_type": "markdown",
   "metadata": {},
   "source": [
    "## 4. Write a story describing the statistical significance in the context or the original problem\n",
    "On this **two-tailed test**, the `p-value` is the probability that the `z-score` is less than **-4.11** or greater than **4.11**. Since the `p-value` (< 0.0001) is smaller than the significance level (0.05), we cannot accept the null hypothesis: the difference between samples is statistically significant and we reject the idea that sample proportions are equal.\n",
    "\n",
    "In other words, it seems that race could be having an impact on the decision making process of job recruiters to callback."
   ]
  },
  {
   "cell_type": "markdown",
   "metadata": {},
   "source": [
    "## 5. Does your analysis mean that race/name is the most important factor in callback success? Why or why not? If not, how would you amend your analysis?\n",
    "**No**! It simply means that race/name **could be** one of the factors responsible for the difference in callbacks, but there's no guarantee that it is even one of the factors.\n",
    "\n",
    "It is reasonable to think that other variables in the dataset could be influenting the callback decision from job recruiters. In this exercise, we tested only 1 variable out of 63: many more tests are required before we can conclude that race is the most important factor behind callbacks."
   ]
  }
 ],
 "metadata": {
  "kernelspec": {
   "display_name": "Python 3",
   "language": "python",
   "name": "python3"
  },
  "language_info": {
   "codemirror_mode": {
    "name": "ipython",
    "version": 3
   },
   "file_extension": ".py",
   "mimetype": "text/x-python",
   "name": "python",
   "nbconvert_exporter": "python",
   "pygments_lexer": "ipython3",
   "version": "3.6.3"
  }
 },
 "nbformat": 4,
 "nbformat_minor": 1
}
