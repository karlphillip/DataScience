{
 "cells": [
  {
   "cell_type": "markdown",
   "metadata": {},
   "source": [
    "# What is the True Normal Human Body Temperature? (*solution*)\n",
    "\n",
    "#### Background\n",
    "\n",
    "The mean normal body temperature was held to be 37$^{\\circ}$C or 98.6$^{\\circ}$F for more than 120 years since it was first conceptualized and reported by Carl Wunderlich in a famous 1868 book. But, is this value statistically correct?"
   ]
  },
  {
   "cell_type": "markdown",
   "metadata": {},
   "source": [
    "<h3>Exercises</h3>\n",
    "\n",
    "<p>In this exercise, you will analyze a dataset of human body temperatures and employ the concepts of hypothesis testing, confidence intervals, and statistical significance.</p>\n",
    "\n",
    "<p>Answer the following questions <b>in this notebook below and submit to your Github account</b>.</p> \n",
    "\n",
    "<ol>\n",
    "<li>  Is the distribution of body temperatures normal? \n",
    "    <ul>\n",
    "    <li> Although this is not a requirement for the Central Limit Theorem to hold (read the introduction on Wikipedia's page about the CLT carefully: https://en.wikipedia.org/wiki/Central_limit_theorem), it gives us some peace of mind that the population may also be normally distributed if we assume that this sample is representative of the population.\n",
    "    <li> Think about the way you're going to check for the normality of the distribution. Graphical methods are usually used first, but there are also other ways: https://en.wikipedia.org/wiki/Normality_test\n",
    "    </ul>\n",
    "<li>  Is the sample size large? Are the observations independent?\n",
    "    <ul>\n",
    "    <li> Remember that this is a condition for the Central Limit Theorem, and hence the statistical tests we are using, to apply.\n",
    "    </ul>\n",
    "<li>  Is the true population mean really 98.6 degrees F?\n",
    "    <ul>\n",
    "    <li> First, try a bootstrap hypothesis test.\n",
    "    <li> Now, let's try frequentist statistical testing. Would you use a one-sample or two-sample test? Why?\n",
    "    <li> In this situation, is it appropriate to use the $t$ or $z$ statistic? \n",
    "    <li> Now try using the other test. How is the result be different? Why?\n",
    "    </ul>\n",
    "<li>  Draw a small sample of size 10 from the data and repeat both frequentist tests. \n",
    "    <ul>\n",
    "    <li> Which one is the correct one to use? \n",
    "    <li> What do you notice? What does this tell you about the difference in application of the $t$ and $z$ statistic?\n",
    "    </ul>\n",
    "<li>  At what temperature should we consider someone's temperature to be \"abnormal\"?\n",
    "    <ul>\n",
    "    <li> As in the previous example, try calculating everything using the boostrap approach, as well as the frequentist approach.\n",
    "    <li> Start by computing the margin of error and confidence interval. When calculating the confidence interval, keep in mind that you should use the appropriate formula for one draw, and not N draws.\n",
    "    </ul>\n",
    "<li>  Is there a significant difference between males and females in normal temperature?\n",
    "    <ul>\n",
    "    <li> What testing approach did you use and why?\n",
    "    <li> Write a story with your conclusion in the context of the original problem.\n",
    "    </ul>\n",
    "</ol>\n",
    "\n",
    "You can include written notes in notebook cells using Markdown: \n",
    "   - In the control panel at the top, choose Cell > Cell Type > Markdown\n",
    "   - Markdown syntax: http://nestacms.com/docs/creating-content/markdown-cheat-sheet\n",
    "\n",
    "#### Resources\n",
    "\n",
    "+ Information and data sources: http://www.amstat.org/publications/jse/datasets/normtemp.txt, http://www.amstat.org/publications/jse/jse_data_archive.htm\n",
    "+ Markdown syntax: http://nestacms.com/docs/creating-content/markdown-cheat-sheet\n",
    "\n",
    "****"
   ]
  },
  {
   "cell_type": "markdown",
   "metadata": {},
   "source": [
    "## Preliminary Visual Inspection\n",
    "Becoming familiar with the data:"
   ]
  },
  {
   "cell_type": "code",
   "execution_count": 1,
   "metadata": {},
   "outputs": [
    {
     "name": "stdout",
     "output_type": "stream",
     "text": [
      ">>> Shape = (130, 3)\n"
     ]
    },
    {
     "data": {
      "text/html": [
       "<div>\n",
       "<style>\n",
       "    .dataframe thead tr:only-child th {\n",
       "        text-align: right;\n",
       "    }\n",
       "\n",
       "    .dataframe thead th {\n",
       "        text-align: left;\n",
       "    }\n",
       "\n",
       "    .dataframe tbody tr th {\n",
       "        vertical-align: top;\n",
       "    }\n",
       "</style>\n",
       "<table border=\"1\" class=\"dataframe\">\n",
       "  <thead>\n",
       "    <tr style=\"text-align: right;\">\n",
       "      <th></th>\n",
       "      <th>temperature</th>\n",
       "      <th>gender</th>\n",
       "      <th>heart_rate</th>\n",
       "    </tr>\n",
       "  </thead>\n",
       "  <tbody>\n",
       "    <tr>\n",
       "      <th>0</th>\n",
       "      <td>99.3</td>\n",
       "      <td>F</td>\n",
       "      <td>68.0</td>\n",
       "    </tr>\n",
       "    <tr>\n",
       "      <th>1</th>\n",
       "      <td>98.4</td>\n",
       "      <td>F</td>\n",
       "      <td>81.0</td>\n",
       "    </tr>\n",
       "    <tr>\n",
       "      <th>2</th>\n",
       "      <td>97.8</td>\n",
       "      <td>M</td>\n",
       "      <td>73.0</td>\n",
       "    </tr>\n",
       "    <tr>\n",
       "      <th>3</th>\n",
       "      <td>99.2</td>\n",
       "      <td>F</td>\n",
       "      <td>66.0</td>\n",
       "    </tr>\n",
       "    <tr>\n",
       "      <th>4</th>\n",
       "      <td>98.0</td>\n",
       "      <td>F</td>\n",
       "      <td>73.0</td>\n",
       "    </tr>\n",
       "  </tbody>\n",
       "</table>\n",
       "</div>"
      ],
      "text/plain": [
       "   temperature gender  heart_rate\n",
       "0         99.3      F        68.0\n",
       "1         98.4      F        81.0\n",
       "2         97.8      M        73.0\n",
       "3         99.2      F        66.0\n",
       "4         98.0      F        73.0"
      ]
     },
     "metadata": {},
     "output_type": "display_data"
    },
    {
     "name": "stdout",
     "output_type": "stream",
     "text": [
      "\n",
      ">>> Types\n",
      " temperature    float64\n",
      "gender          object\n",
      "heart_rate     float64\n",
      "dtype: object\n"
     ]
    }
   ],
   "source": [
    "import math\n",
    "import pandas as pd\n",
    "import numpy as np\n",
    "from IPython.display import display\n",
    "import matplotlib.pyplot as plt\n",
    "import seaborn as sns\n",
    "%matplotlib inline\n",
    "\n",
    "df = pd.read_csv('data/human_body_temperature.csv')\n",
    "\n",
    "print('>>> Shape =', df.shape)\n",
    "display(df.head(5))    \n",
    "print('\\n>>> Types\\n', df.dtypes)"
   ]
  },
  {
   "cell_type": "markdown",
   "metadata": {},
   "source": [
    "### Plotting categorical data:"
   ]
  },
  {
   "cell_type": "code",
   "execution_count": 2,
   "metadata": {},
   "outputs": [
    {
     "data": {
      "image/png": "[encoded data removed]",
      "text/plain": [
       "<matplotlib.figure.Figure at 0x232c2f4cf28>"
      ]
     },
     "metadata": {},
     "output_type": "display_data"
    }
   ],
   "source": [
    "# initialize seaborn style for matplotlib\n",
    "sns.set() \n",
    "fig, ax = plt.subplots(figsize=(10,5))\n",
    "\n",
    "plt.subplot(1, 2, 1)\n",
    "sns.boxplot(x=\"gender\", y=\"heart_rate\", data=df)\n",
    "sns.swarmplot(x=\"gender\", y=\"heart_rate\", data=df, palette=\"Set1\");\n",
    "\n",
    "plt.subplot(1, 2, 2)\n",
    "sns.boxplot(x=\"gender\", y=\"temperature\", data=df)\n",
    "sns.swarmplot(x=\"gender\", y=\"temperature\", data=df, palette=\"Set1\");\n",
    "\n",
    "plt.tight_layout()\n",
    "plt.show()"
   ]
  },
  {
   "cell_type": "code",
   "execution_count": 3,
   "metadata": {},
   "outputs": [
    {
     "data": {
      "image/png": "[encoded data removed]",
      "text/plain": [
       "<matplotlib.figure.Figure at 0x232c35f82b0>"
      ]
     },
     "metadata": {},
     "output_type": "display_data"
    }
   ],
   "source": [
    "male_df = df.loc[df.gender == 'M']\n",
    "female_df = df.loc[df.gender == 'F']\n",
    "\n",
    "fig, ax = plt.subplots(figsize=(10,5))\n",
    "\n",
    "plt.subplot(1, 2, 1)\n",
    "plt.plot(male_df.heart_rate, male_df.temperature, marker='.', linestyle='none', color='blue')\n",
    "plt.title('Heart rate vs Temperature (Male)')\n",
    "plt.xlabel('Heart rate (bpm)')\n",
    "plt.ylabel('Temperature (F)')\n",
    "plt.axis((50, 90, 95, 102))\n",
    "\n",
    "plt.subplot(1, 2, 2)\n",
    "plt.plot(female_df.heart_rate, female_df.temperature, marker='.', linestyle='none', color='red')\n",
    "plt.title('Heart rate vs Temperature (Female)')\n",
    "plt.xlabel('Heart rate (bpm)')\n",
    "plt.ylabel('Temperature (F)')\n",
    "plt.axis((50, 90, 95, 102))\n",
    "\n",
    "plt.tight_layout()\n",
    "plt.show()"
   ]
  },
  {
   "cell_type": "markdown",
   "metadata": {},
   "source": [
    "---\n",
    "## 1. Is the distribution of body temperatures normal?"
   ]
  },
  {
   "cell_type": "markdown",
   "metadata": {},
   "source": [
    "Yes, the theoretical CDF and the ECDF of the data (ploted below) suggest that the body temperatures are **normally distributed**."
   ]
  },
  {
   "cell_type": "code",
   "execution_count": 4,
   "metadata": {},
   "outputs": [],
   "source": [
    "### ecdf(): returns a one-dimensional array of measurements\n",
    "def ecdf(data):       \n",
    "    n = len(data)                # number of data points: n\n",
    "    x = np.sort(data)            # x-data for the ECDF: x    \n",
    "    y = np.arange(1, n+1/n) / n  # y-data for the ECDF: y\n",
    "    return x, y"
   ]
  },
  {
   "cell_type": "code",
   "execution_count": 5,
   "metadata": {},
   "outputs": [],
   "source": [
    "### Compute summary statistics\n",
    "mean    = np.mean(df.temperature) \n",
    "std     = np.std(df.temperature) "
   ]
  },
  {
   "cell_type": "code",
   "execution_count": 6,
   "metadata": {},
   "outputs": [
    {
     "name": "stdout",
     "output_type": "stream",
     "text": [
      ">>> mean    = 98.24923076923078\n",
      ">>> std dev = 0.7303577789050377\n",
      ">>> derived samples = 5000\n"
     ]
    },
    {
     "data": {
      "image/png": "[encoded data removed]",
      "text/plain": [
       "<matplotlib.figure.Figure at 0x232c350ba58>"
      ]
     },
     "metadata": {},
     "output_type": "display_data"
    }
   ],
   "source": [
    "### Simulate a larger dataset with the same mean and std deviation to plot ECDF and later PDF\n",
    "samples = np.random.normal(mean, std, size=5000) \n",
    "x, y    = ecdf(df.temperature) \n",
    "x_theor, y_theor = ecdf(samples) \n",
    "\n",
    "print('>>> mean    =', mean)\n",
    "print('>>> std dev =', std)\n",
    "print('>>> derived samples =', len(samples))\n",
    "\n",
    "### Plot ECDF\n",
    "fig, ax = plt.subplots(figsize=(10,5))\n",
    "plt.plot(x_theor, y_theor) \n",
    "plt.plot(x, y, marker='.', linestyle='none') \n",
    "plt.axvline(mean, color='r', linewidth=1)\n",
    "plt.xlabel('temperature (F)') \n",
    "plt.ylabel('CDF') \n",
    "plt.show() "
   ]
  },
  {
   "cell_type": "code",
   "execution_count": 7,
   "metadata": {},
   "outputs": [
    {
     "name": "stdout",
     "output_type": "stream",
     "text": [
      ">>> mean    = 98.24923076923078\n",
      ">>> std dev = 0.7303577789050377\n",
      ">>> derived samples = 5000\n"
     ]
    },
    {
     "data": {
      "image/png": "[encoded data removed]",
      "text/plain": [
       "<matplotlib.figure.Figure at 0x232c3607c18>"
      ]
     },
     "metadata": {},
     "output_type": "display_data"
    }
   ],
   "source": [
    "print('>>> mean    =', mean)\n",
    "print('>>> std dev =', std)\n",
    "print('>>> derived samples =', len(samples))\n",
    "\n",
    "### Plot PDF\n",
    "fig, ax = plt.subplots(figsize=(10,5))\n",
    "result = plt.hist(samples, bins=25, normed=True, histtype='step', linewidth=1)\n",
    "plt.axvline(mean, color='r', linewidth=1)\n",
    "\n",
    "plt.xlabel('temperature (F)')\n",
    "plt.ylabel('PDF')\n",
    "plt.show()"
   ]
  },
  {
   "cell_type": "markdown",
   "metadata": {},
   "source": [
    "In a normal distribution, the **mean** and the **median** have always the same value. In this particular case, they are so close to each other that I believe we can say that it is a normal distribution."
   ]
  },
  {
   "cell_type": "code",
   "execution_count": 8,
   "metadata": {},
   "outputs": [
    {
     "name": "stdout",
     "output_type": "stream",
     "text": [
      ">>> mean    = 98.249\n",
      ">>> median  = 98.300\n"
     ]
    }
   ],
   "source": [
    "print('>>> mean    = %.3f' % np.mean(df.temperature))\n",
    "print('>>> median  = %.3f' % np.median(df.temperature))"
   ]
  },
  {
   "cell_type": "markdown",
   "metadata": {},
   "source": [
    "On the other hand, in a *perfectly symmetrical bell curve*, the **mean**, **median** and **mode** are all the same value. However, this is not the case with the distribution of body temperatures. Even though the mean and median are relatively close values, the mode is not:"
   ]
  },
  {
   "cell_type": "code",
   "execution_count": 9,
   "metadata": {},
   "outputs": [
    {
     "name": "stdout",
     "output_type": "stream",
     "text": [
      ">>> mean    = 98.249\n",
      ">>> median  = 98.300\n",
      ">>> mode    = 98.000\n"
     ]
    }
   ],
   "source": [
    "import scipy\n",
    "print('>>> mean    = %.3f' % np.mean(df.temperature))\n",
    "print('>>> median  = %.3f' % np.median(df.temperature))\n",
    "print('>>> mode    = %.3f' % scipy.stats.mode(df.temperature)[0][0])"
   ]
  },
  {
   "cell_type": "markdown",
   "metadata": {},
   "source": [
    "The summary statistics in table below suggests only one outlier, value 100.8, easilly spotted in the boxplot above.\n",
    "\n",
    "Almost all observations are within 2.5 standard deviations of the mean. Based on this evidence, the normality assumption seems reasonable:"
   ]
  },
  {
   "cell_type": "code",
   "execution_count": 10,
   "metadata": {},
   "outputs": [
    {
     "name": "stdout",
     "output_type": "stream",
     "text": [
      ">>> Range of values for 2.5 std dev: [ 95.74923076923078 ,  100.74923076923078 ]\n"
     ]
    },
    {
     "data": {
      "text/html": [
       "<table border=\"1\" class=\"dataframe\">\n",
       "  <thead>\n",
       "    <tr style=\"text-align: right;\">\n",
       "      <th>samples</th>\n",
       "      <th>mean</th>\n",
       "      <th>std dev</th>\n",
       "      <th>min Temp</th>\n",
       "      <th>max Temp</th>\n",
       "    </tr>\n",
       "  </thead>\n",
       "  <tbody>\n",
       "    <tr>\n",
       "      <td>130</td>\n",
       "      <td>98.249231</td>\n",
       "      <td>0.730358</td>\n",
       "      <td>96.3</td>\n",
       "      <td>100.8</td>\n",
       "    </tr>\n",
       "  </tbody>\n",
       "</table>"
      ],
      "text/plain": [
       "<IPython.core.display.HTML object>"
      ]
     },
     "execution_count": 10,
     "metadata": {},
     "output_type": "execute_result"
    }
   ],
   "source": [
    "print('>>> Range of values for 2.5 std dev: [', np.mean(df.temperature)-2.5, ', ', np.mean(df.temperature)+2.5, ']')\n",
    "\n",
    "summary_df = pd.DataFrame({ 'samples' : df.temperature.shape[0],\n",
    "                            'mean'    : np.mean(df.temperature),\n",
    "                            'std dev' : np.std(df.temperature),\n",
    "                            'min Temp': df.temperature.min(),\n",
    "                            'max Temp': df.temperature.max() }, \n",
    "                          index=[0])\n",
    "\n",
    "# specify columns orders\n",
    "summary_df = summary_df[['samples', 'mean', 'std dev', 'min Temp', 'max Temp']]\n",
    "\n",
    "# hide index when display the table\n",
    "from IPython.display import HTML \n",
    "HTML(summary_df.to_html(index=False))"
   ]
  },
  {
   "cell_type": "markdown",
   "metadata": {},
   "source": [
    "Another confirmation of the normal distribution comes from the **Shapiro-Wilk** normality test. It provides a good evidence that for these 5000 samples the null hypothesis is true: it is a normal distribution."
   ]
  },
  {
   "cell_type": "code",
   "execution_count": 11,
   "metadata": {},
   "outputs": [
    {
     "name": "stdout",
     "output_type": "stream",
     "text": [
      "(0.9865769743919373, 0.2331680953502655)\n"
     ]
    }
   ],
   "source": [
    "print(scipy.stats.shapiro(df.temperature)) # Outputs: (statistic test, p-value)"
   ]
  },
  {
   "cell_type": "markdown",
   "metadata": {},
   "source": [
    "---\n",
    "## 2. Is the sample size large? Are the observations independent?"
   ]
  },
  {
   "cell_type": "markdown",
   "metadata": {},
   "source": [
    "**Yes** and **yes**. Several [authors](https://www.researchgate.net/post/What_is_the_rationale_behind_the_magic_number_30_in_statistics) suggests that a sufficiently large sample size must have at least 30 samples. Even though there are authors that say that 20 or 50 are enough, there's no formal proof that validates any of these magic numbers. The fact that our sample size is 130 and much larger then the recommended sizes, is a good indication that 130 samples are more than enough.\n",
    "\n",
    "Another indication that this a sufficiently large dataset comes from comparing the mean temperatures of this dataset (98.25 F) with the original dataset (98.6 F). There's a reduction of the mean by less than **0.4%** on these datasets, which is a pretty small change to have any dramatic effect on our statistical analysis."
   ]
  },
  {
   "cell_type": "code",
   "execution_count": 12,
   "metadata": {},
   "outputs": [
    {
     "name": "stdout",
     "output_type": "stream",
     "text": [
      ">>> Sample size = 130\n"
     ]
    }
   ],
   "source": [
    "print('>>> Sample size =', df.shape[0])"
   ]
  },
  {
   "cell_type": "markdown",
   "metadata": {},
   "source": [
    "Two observations are said to be **independent** if the occurrence of one provides no information about the occurrence of the other. As far as we can tell from the exercise and searching online about Carl Wunderlich's work, these observations weren't made on the same person (over time) Therefore, it makes sense to assume **they are independent observations**, probably gathered from hospital patients where he was a physician."
   ]
  },
  {
   "cell_type": "markdown",
   "metadata": {},
   "source": [
    "## 3. Is the true population mean really 98.6 degrees F?"
   ]
  },
  {
   "cell_type": "markdown",
   "metadata": {},
   "source": [
    "> **First, a bootstrap hypothesis test:**"
   ]
  },
  {
   "cell_type": "code",
   "execution_count": 13,
   "metadata": {},
   "outputs": [],
   "source": [
    "# Generates boostrap replicates for N tests\n",
    "def gen_bootstrap_replicates(data, n, func):\n",
    "    bs_replicates = np.empty(n)\n",
    "    \n",
    "    for i in range(n):\n",
    "        bs_sample = np.random.choice(data, size=len(data))\n",
    "        bs_replicates[i] = func(bs_sample) # apply the \n",
    "        \n",
    "    return bs_replicates"
   ]
  },
  {
   "cell_type": "code",
   "execution_count": 14,
   "metadata": {},
   "outputs": [
    {
     "name": "stdout",
     "output_type": "stream",
     "text": [
      ">>> Bootstrap replicates (mean) = 98.25\n"
     ]
    },
    {
     "data": {
      "image/png": "[encoded data removed]",
      "text/plain": [
       "<matplotlib.figure.Figure at 0x232c3593240>"
      ]
     },
     "metadata": {},
     "output_type": "display_data"
    }
   ],
   "source": [
    "### Compute the approximate PDF of the mean temperature we would expect if we performed the measurements again.\n",
    "bs_replicates_mean = gen_bootstrap_replicates(df.temperature, 10000, np.mean)\n",
    "#print(bs_replicates_mean[:5]) # print head\n",
    "\n",
    "bs_rep_mean = np.mean(bs_replicates_mean)\n",
    "print('>>> Bootstrap replicates (mean) = %.2f' % bs_rep_mean)\n",
    "\n",
    "### Plot PDF\n",
    "fig, ax = plt.subplots(figsize=(10,5))\n",
    "plt.hist(bs_replicates_mean, bins=30, normed = True, histtype='step', linewidth=1)\n",
    "plt.axvline(bs_rep_mean, color='r', linewidth=1)\n",
    "plt.title('Bootstrap estimate of the mean')\n",
    "plt.xlabel('mean temperature (F)')\n",
    "plt.ylabel('PDF')\n",
    "plt.show()"
   ]
  },
  {
   "cell_type": "markdown",
   "metadata": {},
   "source": [
    "To summarise this graphical result, we compute the 95% confidence interval of the means:"
   ]
  },
  {
   "cell_type": "code",
   "execution_count": 15,
   "metadata": {},
   "outputs": [
    {
     "name": "stdout",
     "output_type": "stream",
     "text": [
      ">>> Bootstrap confidence intervals:  [ 98.12615385  98.37538462]\n"
     ]
    }
   ],
   "source": [
    "# if we repeated measurements over and over again, p% of the observed values would stay within the p% confidence interval\n",
    "print('>>> Bootstrap confidence intervals: ', np.percentile(bs_replicates_mean, [2.5, 97.5]))"
   ]
  },
  {
   "cell_type": "markdown",
   "metadata": {},
   "source": [
    "**Hypothesis**: is the population mean of the bootstrap replicates really the same as in the original dataset?\n",
    "\n",
    "**Most likely!** There is always a fluctuation from one sample of the original dataset to another, and it is unlikely that the sample mean will be exactly the same between them or even exactly equal to the original dataset. The difference between the bootstrap replicates mean and the population mean of the dataset could be due to sampling variation.\n",
    "\n",
    "After computing the bootstrap confidence intervals for the mean, we have a 95% confidence that the average temperature stays between **[98.1, 98.4] F**. It's important to note that the upper threshold value is only 0.02% away from the true population mean (98.6 F). Given that the distance between them is only a fraction of 1% of the mean, it seems likely that the population mean of the original dataset really was 98.6 F."
   ]
  },
  {
   "cell_type": "markdown",
   "metadata": {},
   "source": [
    "> **Now, let's try frequentist statistical testing. Would you use a one-sample or two-sample test? Why?**\n",
    "\n",
    "This is a typical **two-sample** (a.k.a. **two-sided**) hypothesis test! Why? Because we are interested in learning if the mean is different than 98.6 F. \n",
    "\n",
    "To characterize something as \"being different\", we must perform a *not-equal-to* comparison that employs two *relacional operators* that helps evaluate this condition: \n",
    "\n",
    "- A value that is considered *different* from 98.6 F is a value that is *lesser than* 98.6;\n",
    "- A value that is considered *different* from 98.6 F can also be a value that is *greater than* 98.6;\n",
    "\n",
    "A **one-sample** test would perform only one of these comparisons. Therefore, it wouldn't be sufficient to answer the question.\n",
    "\n",
    "#### Therefore, the hypothesis we want to test is:\n",
    "\n",
    "- *H0*: The mean of the population is 98.6 F; (`µ = 98.6`);\n",
    "- *HA*: The mean of the population is different from 98.6 F; (`µ <> 98.6`);\n",
    "\n",
    "So in practice, `µ <> 98.6` is evaluated as: (`µ < 98.6`, or `µ > 98.6`)."
   ]
  },
  {
   "cell_type": "markdown",
   "metadata": {},
   "source": [
    "> * **In this situation, is it appropriate to use the $t$ or $z$ statistic?**\n",
    "\n",
    "The answer is ** *z* statistic**! \n",
    "\n",
    "- The **Z-test** is used to compare the population mean against a sample or compare the population mean of two distributions with a sample size greater than 30, when std deviations are known;\n",
    "- The **T-test** is used to compare the population mean against a sample, or compare the population mean of two distributions with a sample size less than 30, or when you don't know the population's standard deviation.\n",
    "\n",
    "We should use the **Z-test** and the normal probability table (z-score) when:\n",
    "- When the dataset has a sufficiently large amout of samples (>= 30);\n",
    "- When the data has a normal distribution;\n",
    "\n",
    "Since the Z-test requires the population std deviation, which we don't have, we approximate it using the sample std deviation: [this is OK](https://www.khanacademy.org/math/statistics-probability/significance-tests-one-sample/more-significance-testing-videos/v/z-statistics-vs-t-statistics) since our sample size is >= 30."
   ]
  },
  {
   "cell_type": "code",
   "execution_count": 16,
   "metadata": {},
   "outputs": [],
   "source": [
    "# Z-test\n",
    "def z_test(sample_mean, sample_sz, sample_std, pop_mean):\n",
    "    # Standard Error\n",
    "    SE = sample_std / np.sqrt(sample_sz)          \n",
    "    print('>>> std error  =', SE)\n",
    "\n",
    "    # Z-Score (the z-statistic)\n",
    "    z_score = (pop_mean - mean) / SE\n",
    "    print('>>> z-score    =', z_score)   \n",
    "    \n",
    "    p = -2 * scipy.stats.norm.cdf(-np.abs(z_score))\n",
    "    print('>>> p-value    =', p)"
   ]
  },
  {
   "cell_type": "code",
   "execution_count": 17,
   "metadata": {},
   "outputs": [
    {
     "name": "stdout",
     "output_type": "stream",
     "text": [
      ">>> std error  = 0.0640566146952\n",
      ">>> z-score    = 5.47592520208\n",
      ">>> p-value    = -4.35231516588e-08\n"
     ]
    }
   ],
   "source": [
    "sample_mean = np.mean(df.temperature)\n",
    "sample_std = np.std(df.temperature)\n",
    "sample_sz = df.temperature.shape[0]\n",
    "pop_mean = 98.6\n",
    "z_test(sample_mean, sample_sz, sample_std, pop_mean)"
   ]
  },
  {
   "cell_type": "markdown",
   "metadata": {},
   "source": [
    "With a **significance level** of **0.05** (i.e *alpha*), the critical values of `z_score` are **-1.96** and **+1.96**. That means that we reject *H0* if `z_score < -1.96` or `z_score > +1.96`.\n",
    "\n",
    "The final statistical decision is to reject the null hypothesis (*H0*) because:\n",
    "- The `z_score` 5.47 is greater than 1.96;\n",
    "- The `p-value` is much smaller than the alpha (0.05);\n",
    "\n",
    "Thus, the data favors the alternative hypothesis (*HA*), that says that the means are different."
   ]
  },
  {
   "cell_type": "markdown",
   "metadata": {},
   "source": [
    "> * **Now try using the other test. How is the result be different? Why?**\n",
    "\n",
    "According to [Amulya Aankul](https://towardsdatascience.com/inferential-statistics-series-t-test-using-numpy-2718f8f9bf2f), the **t-test** (aka. Student’s T Test) compares two averages (means) and tells if they are different from each other. The t-test also tells how significant the differences are. In other words, it says if those differences could have happened by chance.\n",
    "\n",
    "The **t-score** is the ratio of the difference between two groups and the difference within the groups. The larger the t-score, the more difference there are between groups. The smaller the t-score, the more similar the groups are. A t-score of 3 means that the groups are three times as different from each other as they are within each other. \n",
    "\n",
    "After analysing the data below, the final statistical decision is to **reject the null hypothesis (H0)** because:\n",
    "- The `t_score` of **5.47** implies that the means are very distant from each other. This is a strong evidence that the mean temperature of the samples is different from the original population;\n",
    "- Comparing the `t_score` with the `p-value` makes it clear that the `p-value` is a lot smaller. \n",
    "\n",
    "The test concludes that there is a statistical significant difference between the two means."
   ]
  },
  {
   "cell_type": "code",
   "execution_count": 18,
   "metadata": {},
   "outputs": [],
   "source": [
    "# T-test\n",
    "def t_test(sample_mean, sample_sz, sample_std, pop_mean):\n",
    "    # Standard Error\n",
    "    SE = sample_std / np.sqrt(sample_sz)          \n",
    "    print('>>> std error  =', SE)\n",
    "\n",
    "    # T-Score (the t-statistic)\n",
    "    t_score = (pop_mean - mean) / SE\n",
    "    print('>>> t-score    =', t_score)\n",
    "\n",
    "    # Compare with the critical t-value\n",
    "    degrees_of_freedom = sample_sz - 1\n",
    "    p = 1 - scipy.stats.t.cdf(t_score, df=degrees_of_freedom) #p-value after comparison with the t \n",
    "    print('>>> p-value    =', p)"
   ]
  },
  {
   "cell_type": "code",
   "execution_count": 19,
   "metadata": {},
   "outputs": [
    {
     "name": "stdout",
     "output_type": "stream",
     "text": [
      ">>> std error  = 0.0640566146952\n",
      ">>> t-score    = 5.47592520208\n",
      ">>> p-value    = 1.09437323204e-07\n"
     ]
    }
   ],
   "source": [
    "sample_mean = np.mean(df.temperature)\n",
    "sample_std = np.std(df.temperature)\n",
    "sample_sz = df.temperature.shape[0]\n",
    "pop_mean = 98.6\n",
    "t_test(sample_mean, sample_sz, sample_std, pop_mean)"
   ]
  },
  {
   "cell_type": "markdown",
   "metadata": {},
   "source": [
    "## 4. Draw a small sample of size 10 from the data and repeat both frequentist tests\n",
    "> Which one is the correct one to use?\n",
    "\n",
    "Because of the small size of this dataset, we can only perform the **t-test** for reasons explained earlier."
   ]
  },
  {
   "cell_type": "code",
   "execution_count": 20,
   "metadata": {},
   "outputs": [
    {
     "name": "stdout",
     "output_type": "stream",
     "text": [
      ">>> Bootstrap replicates (mean) = 98.25\n"
     ]
    },
    {
     "data": {
      "image/png": "[encoded data removed]",
      "text/plain": [
       "<matplotlib.figure.Figure at 0x232c386b2e8>"
      ]
     },
     "metadata": {},
     "output_type": "display_data"
    },
    {
     "name": "stdout",
     "output_type": "stream",
     "text": [
      ">>> std error  = 0.0227529177529\n",
      ">>> t-score    = 15.416450522\n",
      ">>> p-value    = 4.44557451962e-08\n"
     ]
    }
   ],
   "source": [
    "sample_sz = 10\n",
    "bs_replicates_mean = gen_bootstrap_replicates(df.temperature, sample_sz, np.mean)\n",
    "sample_mean = np.mean(bs_replicates_mean)\n",
    "print('>>> Bootstrap replicates (mean) = %.2f' % sample_mean)\n",
    "\n",
    "### Plot PDF\n",
    "fig, ax = plt.subplots(figsize=(10,5))\n",
    "plt.hist(bs_replicates_mean, bins=30, normed = True, histtype='step', linewidth=1)\n",
    "plt.axvline(sample_mean, color='r', linewidth=1)\n",
    "plt.title('Bootstrap estimate of the mean')\n",
    "plt.xlabel('mean temperature (F)')\n",
    "plt.ylabel('PDF')\n",
    "plt.show()\n",
    "\n",
    "### T-test\n",
    "sample_std = np.std(bs_replicates_mean)\n",
    "pop_mean = 98.6\n",
    "t_test(sample_mean, sample_sz, sample_std, pop_mean)"
   ]
  },
  {
   "cell_type": "markdown",
   "metadata": {},
   "source": [
    "> What do you notice? What does this tell you about the difference in application of the t and z statistic?\n",
    "\n",
    "The test results makes it clear: the extremelly high value of `t_score` shows that the sample mean and the population mean are very distant from each other. Also, because the `p-value` is much smaller than the *significance level* (0.05), the results effectivelly **reject the null hyphotesis** (*H0*) in favor of *HA*, indicating that the means are probably different."
   ]
  },
  {
   "cell_type": "markdown",
   "metadata": {},
   "source": [
    "## 5. At what temperature should we consider someone's temperature to be \"abnormal\"?\n",
    "> As in the previous example, try calculating everything using the boostrap approach, as well as the frequentist approach.\n",
    "\n",
    "> Start by computing the margin of error and confidence interval. When calculating the confidence interval, keep in mind that you should use the appropriate formula for one draw, and not N draws.\n",
    "\n",
    "The answer is **it depends**! The confidence interval chosen and the outlier detection method that is preferred can have a dramatic change on the limits that define the normal temperature.\n",
    "\n",
    "Below we compute the 95% and 99.7% confidence intervals for 10000 bootstrap replicates of the mean to illustrate how subtle sometimes these variations can be:"
   ]
  },
  {
   "cell_type": "code",
   "execution_count": 21,
   "metadata": {},
   "outputs": [
    {
     "name": "stdout",
     "output_type": "stream",
     "text": [
      ">>> Bootstrap replicates (mean) = 98.25\n",
      ">>> Bootstrap 95%   CI: [ 98.12615385  98.37538462]\n",
      ">>> Number of outliers found within the 95% CI: 115\n",
      ">>> Bootstrap 99.7% CI: [ 98.06615385  98.43307692]\n",
      ">>> Number of outliers found within the 99.7% CI: 103\n"
     ]
    }
   ],
   "source": [
    "bs_replicates_mean = gen_bootstrap_replicates(df.temperature, 10000, np.mean)\n",
    "bs_rep_mean = np.mean(bs_replicates_mean)\n",
    "print('>>> Bootstrap replicates (mean) = %.2f' % bs_rep_mean)\n",
    "\n",
    "range95 = np.percentile(bs_replicates_mean, [2.5, 97.5])\n",
    "range95_outliers_count = len(df.temperature[df.temperature < range95[0]].values) + len(df.temperature[df.temperature > range95[1]].values)\n",
    "print('>>> Bootstrap 95%   CI:', range95)\n",
    "print('>>> Number of outliers found within the 95% CI:', range95_outliers_count) \n",
    "\n",
    "range99 = np.percentile(bs_replicates_mean, [0.15, 99.85])\n",
    "range99_outliers_count = len(df.temperature[df.temperature < range99[0]].values) + len(df.temperature[df.temperature > range99[1]].values)\n",
    "print('>>> Bootstrap 99.7% CI:', range99)\n",
    "print('>>> Number of outliers found within the 99.7% CI:', range99_outliers_count) "
   ]
  },
  {
   "cell_type": "markdown",
   "metadata": {},
   "source": [
    "When a value falls below or above the 95% CI or the 99.7% CI, the value is considered to be abnormal (or an outlier):\n",
    "- According to the 95%   CI, temperatures below **98.12** or above **98.37** are outliers.\n",
    "- According to the 99.7% CI, temperatures below **98.05** or above **98.43** are outliers.\n",
    "\n",
    "However, there's a number of different methods that can be used to detect outliers. Another outlier detection technique, very popular and mostly known for it's simplicity and robustness, is the **IQR method**. Created by John Tukey, the pioneer of exploratory data analysis, its the method behind *boxplots* and is what makes it easy to spot outliers. In fact, in the beginning of this report a boxplot is displayed and its very easy to spot a few potential abnormal values.\n",
    "\n",
    "For education purposes, we implement a naive IQR (Inter-Quartile Range) function that returns the lower and upper limits of the values considered to be normal:"
   ]
  },
  {
   "cell_type": "code",
   "execution_count": 22,
   "metadata": {},
   "outputs": [],
   "source": [
    "### Inter-Quartile Range for detecting outliers\n",
    "def iqr_outlier_range(data):\n",
    "    median = np.median(data)\n",
    "        \n",
    "    lower_quartile = np.mean(data[data < median])\n",
    "    upper_quartile = np.mean(data[data > median])\n",
    "    \n",
    "    iqr = upper_quartile - lower_quartile # iqr range\n",
    "    \n",
    "    min_lim = lower_quartile - 1.5 * iqr\n",
    "    max_lim = upper_quartile + 1.5 * iqr\n",
    "    return (min_lim, max_lim)    "
   ]
  },
  {
   "cell_type": "code",
   "execution_count": 23,
   "metadata": {},
   "outputs": [
    {
     "name": "stdout",
     "output_type": "stream",
     "text": [
      ">>> Lowest  acceptable/normal temperature: 95.90\n",
      ">>> Highest acceptable/normal temperature: 100.63\n",
      ">>> Abnormal temperatures found below the acceptable limit: []\n",
      ">>> Abnormal temperatures found above the acceptable limit: [ 100.8]\n"
     ]
    }
   ],
   "source": [
    "min_limit, max_limit = iqr_outlier_range(df.temperature)\n",
    "print('>>> Lowest  acceptable/normal temperature: %.2f' % min_limit)\n",
    "print('>>> Highest acceptable/normal temperature: %.2f' % max_limit)\n",
    "\n",
    "print('>>> Abnormal temperatures found below the acceptable limit:', df.temperature[df.temperature < min_limit].values)\n",
    "print('>>> Abnormal temperatures found above the acceptable limit:', df.temperature[df.temperature > max_limit].values)"
   ]
  },
  {
   "cell_type": "markdown",
   "metadata": {},
   "source": [
    "It's clear that this method has a more permissive range of values considered \"normal\". In fact, listing all the outliers from the samples dataset shows only one result: **100.8**."
   ]
  },
  {
   "cell_type": "markdown",
   "metadata": {},
   "source": [
    "## 6. Is there a significant difference between males and females in normal temperature?\n",
    "**Yes, there is!** \n",
    "\n",
    "To answer this question we employ a **two-sample T-test** since we want to compare two groups. The **null hypothesis** represents the case of no difference between the groups:\n",
    "- *H0*: There is no difference in average temperature between males and females; (µm −µf = 0)\n",
    "- *HA*: There is some difference in average temperates between males and females (µm − µf <> 0).\n",
    "\n",
    "Because of the comparison required in *HA*, this is a **two-sided** test. \n",
    "\n",
    "First, we observe that there is a small difference between the sample means of male/female temperatures of just **~0.29%**. This information is our *point estimate*."
   ]
  },
  {
   "cell_type": "code",
   "execution_count": 24,
   "metadata": {},
   "outputs": [
    {
     "name": "stdout",
     "output_type": "stream",
     "text": [
      ">>> Male    sample sz= 65   mean= 98.10   std dev= 0.6987557623265908\n",
      ">>> Female  sample sz= 65   mean= 98.39   std dev= 0.7434877527313665\n",
      ">>> Male/Female mean difference = 0.29\n"
     ]
    },
    {
     "data": {
      "image/png": "[encoded data removed]",
      "text/plain": [
       "<matplotlib.figure.Figure at 0x232c38cbe80>"
      ]
     },
     "metadata": {},
     "output_type": "display_data"
    }
   ],
   "source": [
    "male_temp_df = df[df.gender == 'M'].temperature\n",
    "m_mean = np.mean(male_temp_df)\n",
    "m_std = np.std(male_temp_df, ddof=1)\n",
    "print('>>> Male    sample sz=', male_temp_df.shape[0], '  mean= %.2f' % m_mean, '  std dev=', m_std)\n",
    "\n",
    "female_temp_df = df[df.gender == 'F'].temperature\n",
    "f_mean = np.mean(female_temp_df)\n",
    "f_std = np.std(female_temp_df, ddof=1)\n",
    "print('>>> Female  sample sz=', female_temp_df.shape[0], '  mean= %.2f' % f_mean, '  std dev=', f_std)\n",
    "\n",
    "print('>>> Male/Female mean difference = %.2f' % abs(m_mean - f_mean))\n",
    "\n",
    "fig, ax = plt.subplots(figsize=(15,5))\n",
    "\n",
    "plt.subplot(1, 2, 1)\n",
    "plt.hist(male_temp_df, bins=20, normed = True, histtype='step', linewidth=1)\n",
    "plt.title('Male Temperatures')\n",
    "plt.xlabel('mean temperature (F)')\n",
    "plt.ylabel('PDF')\n",
    "plt.axis((96, 101, 0, 1.3))\n",
    "plt.axvline(m_mean, color='r', linewidth=1)\n",
    "\n",
    "plt.subplot(1, 2, 2)\n",
    "plt.hist(female_temp_df, bins=20, normed = True, histtype='step', linewidth=1)\n",
    "plt.title('Female Temperatures')\n",
    "plt.xlabel('mean temperature (F)')\n",
    "plt.ylabel('PDF')\n",
    "plt.axis((96, 101, 0, 1.3))\n",
    "plt.axvline(f_mean, color='r', linewidth=1)\n",
    "\n",
    "plt.show()"
   ]
  },
  {
   "cell_type": "markdown",
   "metadata": {},
   "source": [
    "Then, we compute the **standard error** of the point estimate to help inform us if the difference between the samples \n",
    " might be explained by how spread out the data is:"
   ]
  },
  {
   "cell_type": "code",
   "execution_count": 25,
   "metadata": {},
   "outputs": [
    {
     "name": "stdout",
     "output_type": "stream",
     "text": [
      ">>> Std Error = 0.12655395042\n"
     ]
    }
   ],
   "source": [
    "# assert that both samples have the same size\n",
    "assert(male_temp_df.shape[0] == female_temp_df.shape[0])\n",
    "n = female_temp_df.shape[0] \n",
    " \n",
    "# Calculate group variability: how much variability is in the samples\n",
    "SE = np.sqrt( (m_std**2 / n) + (f_std**2 / n) )\n",
    "print('>>> Std Error =', SE)"
   ]
  },
  {
   "cell_type": "markdown",
   "metadata": {},
   "source": [
    "Next, we calculate the `t-score` and `degrees_of_freedom`. Remember to use the smaller of the sample sizes as the **degrees of freedom**:"
   ]
  },
  {
   "cell_type": "code",
   "execution_count": 26,
   "metadata": {},
   "outputs": [
    {
     "name": "stdout",
     "output_type": "stream",
     "text": [
      ">>> t-score= 2.2854\n",
      ">>> degrees_of_freedom= 127.5103008303909\n"
     ]
    }
   ],
   "source": [
    "# Calculate t-value\n",
    "t_score = (f_mean - m_mean) / SE\n",
    "print('>>> t-score= %.4f' % t_score)\n",
    "\n",
    "### degrees of freedom (DOF): the number of scores used after calculation\n",
    "# simple DOF: the sample size of the smaller of the 2 groups -1\n",
    "if (male_temp_df.shape[0] < female_temp_df.shape[0]):\n",
    "    degrees_of_freedom = male_temp_df.shape[0]-1;\n",
    "else:\n",
    "    degrees_of_freedom = female_temp_df.shape[0]-1;\n",
    "\n",
    "### optional: adjust the DOF to be as accurate as the implementation of scipy.stats.ttest_ind()\n",
    "eq1 = ( ((m_std**2 / n)+(f_std**2 / n)) ** 2 )\n",
    "eq2 =  ( (m_std**2 ** 2) / ((n ** 2) * degrees_of_freedom)) + ((f_std**2 ** 2) / ((n ** 2) * degrees_of_freedom) )\n",
    "degrees_of_freedom = eq1 / eq2\n",
    "    \n",
    "print('>>> degrees_of_freedom=', degrees_of_freedom)  "
   ]
  },
  {
   "cell_type": "markdown",
   "metadata": {},
   "source": [
    "Searching the [T-table](http://www.sjsu.edu/faculty/gerstman/StatPrimer/t-table.pdf) reveals that `t_score=2.30` falls between the tail areas of **0.02** and **0.05** when using `degrees_of_freedom=64`, which is equivalent to the **95%** and **98%** confidence levels."
   ]
  },
  {
   "cell_type": "code",
   "execution_count": 27,
   "metadata": {},
   "outputs": [
    {
     "name": "stdout",
     "output_type": "stream",
     "text": [
      ">>> p_value= 0.0239\n"
     ]
    }
   ],
   "source": [
    "# Finally, compute the probability of getting a t_score as large or larger than 2.303 or as small or smaller than -2.303\n",
    "confidence_level = scipy.stats.t.cdf(t_score, df=degrees_of_freedom)\n",
    "p_value = (1 - confidence_level) * 2     # for a two-tailed test, multiply the resulting p-value by 2\n",
    "print('>>> p_value= %.4f' % p_value)"
   ]
  },
  {
   "cell_type": "markdown",
   "metadata": {},
   "source": [
    "This `p-value` is smaller than the **significance value** (0.05), so the test concludes that we must **reject the null hypothesis** in favor of the alternative hypothesis: there is some difference in temperature between males and females.\n",
    "\n",
    "As a final step, we check the validity of our results by comparing them to the results we get from SciPy T-test implementation:"
   ]
  },
  {
   "cell_type": "code",
   "execution_count": 28,
   "metadata": {},
   "outputs": [
    {
     "name": "stdout",
     "output_type": "stream",
     "text": [
      ">>>    My t-score= 2.28543453817     My p-value= 0.023938264183\n",
      ">>> SciPy t-score= 2.28543453817  SciPy p-value= 0.0239318831224\n",
      ">>> Is the t-score almost identical?  True\n",
      ">>> Is the p-value almost identical?  True\n"
     ]
    }
   ],
   "source": [
    "scipy_t_score, scipy_p_value = scipy.stats.ttest_ind(female_temp_df, male_temp_df)\n",
    "\n",
    "print('>>>    My t-score=', t_score, '    My p-value=', p_value)\n",
    "print('>>> SciPy t-score=', scipy_t_score, ' SciPy p-value=', scipy_p_value)\n",
    "\n",
    "# np.isclose() is a great way to compare floats: compare just the first 5 decimal places for equality\n",
    "print('>>> Is the t-score almost identical? ', np.isclose(t_score, scipy_t_score, rtol=1e-05, atol=1e-05, equal_nan=False))\n",
    "print('>>> Is the p-value almost identical? ', np.isclose(p_value, scipy_p_value, rtol=1e-05, atol=1e-05, equal_nan=False))"
   ]
  },
  {
   "cell_type": "code",
   "execution_count": null,
   "metadata": {},
   "outputs": [],
   "source": []
  }
 ],
 "metadata": {
  "kernelspec": {
   "display_name": "Python 3",
   "language": "python",
   "name": "python3"
  },
  "language_info": {
   "codemirror_mode": {
    "name": "ipython",
    "version": 3
   },
   "file_extension": ".py",
   "mimetype": "text/x-python",
   "name": "python",
   "nbconvert_exporter": "python",
   "pygments_lexer": "ipython3",
   "version": "3.6.3"
  }
 },
 "nbformat": 4,
 "nbformat_minor": 1
}
