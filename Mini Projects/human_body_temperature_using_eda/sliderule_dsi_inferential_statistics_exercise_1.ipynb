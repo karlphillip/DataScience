{
 "cells": [
  {
   "cell_type": "markdown",
   "metadata": {},
   "source": [
    "# What is the True Normal Human Body Temperature? (*solution*)\n",
    "\n",
    "#### Background\n",
    "\n",
    "The mean normal body temperature was held to be 37$^{\\circ}$C or 98.6$^{\\circ}$F for more than 120 years since it was first conceptualized and reported by Carl Wunderlich in a famous 1868 book. But, is this value statistically correct?"
   ]
  },
  {
   "cell_type": "markdown",
   "metadata": {},
   "source": [
    "<h3>Exercises</h3>\n",
    "\n",
    "<p>In this exercise, you will analyze a dataset of human body temperatures and employ the concepts of hypothesis testing, confidence intervals, and statistical significance.</p>\n",
    "\n",
    "<p>Answer the following questions <b>in this notebook below and submit to your Github account</b>.</p> \n",
    "\n",
    "<ol>\n",
    "<li>  Is the distribution of body temperatures normal? \n",
    "    <ul>\n",
    "    <li> Although this is not a requirement for the Central Limit Theorem to hold (read the introduction on Wikipedia's page about the CLT carefully: https://en.wikipedia.org/wiki/Central_limit_theorem), it gives us some peace of mind that the population may also be normally distributed if we assume that this sample is representative of the population.\n",
    "    <li> Think about the way you're going to check for the normality of the distribution. Graphical methods are usually used first, but there are also other ways: https://en.wikipedia.org/wiki/Normality_test\n",
    "    </ul>\n",
    "<li>  Is the sample size large? Are the observations independent?\n",
    "    <ul>\n",
    "    <li> Remember that this is a condition for the Central Limit Theorem, and hence the statistical tests we are using, to apply.\n",
    "    </ul>\n",
    "<li>  Is the true population mean really 98.6 degrees F?\n",
    "    <ul>\n",
    "    <li> First, try a bootstrap hypothesis test.\n",
    "    <li> Now, let's try frequentist statistical testing. Would you use a one-sample or two-sample test? Why?\n",
    "    <li> In this situation, is it appropriate to use the $t$ or $z$ statistic? \n",
    "    <li> Now try using the other test. How is the result be different? Why?\n",
    "    </ul>\n",
    "<li>  Draw a small sample of size 10 from the data and repeat both frequentist tests. \n",
    "    <ul>\n",
    "    <li> Which one is the correct one to use? \n",
    "    <li> What do you notice? What does this tell you about the difference in application of the $t$ and $z$ statistic?\n",
    "    </ul>\n",
    "<li>  At what temperature should we consider someone's temperature to be \"abnormal\"?\n",
    "    <ul>\n",
    "    <li> As in the previous example, try calculating everything using the boostrap approach, as well as the frequentist approach.\n",
    "    <li> Start by computing the margin of error and confidence interval. When calculating the confidence interval, keep in mind that you should use the appropriate formula for one draw, and not N draws.\n",
    "    </ul>\n",
    "<li>  Is there a significant difference between males and females in normal temperature?\n",
    "    <ul>\n",
    "    <li> What testing approach did you use and why?\n",
    "    <li> Write a story with your conclusion in the context of the original problem.\n",
    "    </ul>\n",
    "</ol>\n",
    "\n",
    "You can include written notes in notebook cells using Markdown: \n",
    "   - In the control panel at the top, choose Cell > Cell Type > Markdown\n",
    "   - Markdown syntax: http://nestacms.com/docs/creating-content/markdown-cheat-sheet\n",
    "\n",
    "#### Resources\n",
    "\n",
    "+ Information and data sources: http://www.amstat.org/publications/jse/datasets/normtemp.txt, http://www.amstat.org/publications/jse/jse_data_archive.htm\n",
    "+ Markdown syntax: http://nestacms.com/docs/creating-content/markdown-cheat-sheet\n",
    "\n",
    "****"
   ]
  },
  {
   "cell_type": "markdown",
   "metadata": {},
   "source": [
    "## Preliminary Visual Inspection\n",
    "Becoming familiar with the data:"
   ]
  },
  {
   "cell_type": "code",
   "execution_count": 22,
   "metadata": {},
   "outputs": [
    {
     "name": "stdout",
     "output_type": "stream",
     "text": [
      ">>> Shape = (130, 3)\n"
     ]
    },
    {
     "data": {
      "text/html": [
       "<div>\n",
       "<style>\n",
       "    .dataframe thead tr:only-child th {\n",
       "        text-align: right;\n",
       "    }\n",
       "\n",
       "    .dataframe thead th {\n",
       "        text-align: left;\n",
       "    }\n",
       "\n",
       "    .dataframe tbody tr th {\n",
       "        vertical-align: top;\n",
       "    }\n",
       "</style>\n",
       "<table border=\"1\" class=\"dataframe\">\n",
       "  <thead>\n",
       "    <tr style=\"text-align: right;\">\n",
       "      <th></th>\n",
       "      <th>temperature</th>\n",
       "      <th>gender</th>\n",
       "      <th>heart_rate</th>\n",
       "    </tr>\n",
       "  </thead>\n",
       "  <tbody>\n",
       "    <tr>\n",
       "      <th>0</th>\n",
       "      <td>99.3</td>\n",
       "      <td>F</td>\n",
       "      <td>68.0</td>\n",
       "    </tr>\n",
       "    <tr>\n",
       "      <th>1</th>\n",
       "      <td>98.4</td>\n",
       "      <td>F</td>\n",
       "      <td>81.0</td>\n",
       "    </tr>\n",
       "    <tr>\n",
       "      <th>2</th>\n",
       "      <td>97.8</td>\n",
       "      <td>M</td>\n",
       "      <td>73.0</td>\n",
       "    </tr>\n",
       "    <tr>\n",
       "      <th>3</th>\n",
       "      <td>99.2</td>\n",
       "      <td>F</td>\n",
       "      <td>66.0</td>\n",
       "    </tr>\n",
       "    <tr>\n",
       "      <th>4</th>\n",
       "      <td>98.0</td>\n",
       "      <td>F</td>\n",
       "      <td>73.0</td>\n",
       "    </tr>\n",
       "  </tbody>\n",
       "</table>\n",
       "</div>"
      ],
      "text/plain": [
       "   temperature gender  heart_rate\n",
       "0         99.3      F        68.0\n",
       "1         98.4      F        81.0\n",
       "2         97.8      M        73.0\n",
       "3         99.2      F        66.0\n",
       "4         98.0      F        73.0"
      ]
     },
     "metadata": {},
     "output_type": "display_data"
    },
    {
     "name": "stdout",
     "output_type": "stream",
     "text": [
      "\n",
      ">>> Types\n",
      " temperature    float64\n",
      "gender          object\n",
      "heart_rate     float64\n",
      "dtype: object\n"
     ]
    }
   ],
   "source": [
    "import math\n",
    "import pandas as pd\n",
    "import numpy as np\n",
    "from IPython.display import display\n",
    "import matplotlib.pyplot as plt\n",
    "import seaborn as sns\n",
    "%matplotlib inline\n",
    "\n",
    "df = pd.read_csv('data/human_body_temperature.csv')\n",
    "\n",
    "print('>>> Shape =', df.shape)\n",
    "display(df.head(5))    \n",
    "print('\\n>>> Types\\n', df.dtypes)"
   ]
  },
  {
   "cell_type": "markdown",
   "metadata": {},
   "source": [
    "### Plotting categorical data:"
   ]
  },
  {
   "cell_type": "code",
   "execution_count": 23,
   "metadata": {},
   "outputs": [
    {
     "data": {
      "image/png": "[encoded data removed]",
      "text/plain": [
       "<matplotlib.figure.Figure at 0x1b4f64cb278>"
      ]
     },
     "metadata": {},
     "output_type": "display_data"
    }
   ],
   "source": [
    "# initialize seaborn style for matplotlib\n",
    "sns.set() \n",
    "fig, ax = plt.subplots(figsize=(10,5))\n",
    "\n",
    "plt.subplot(1, 2, 1)\n",
    "sns.boxplot(x=\"gender\", y=\"heart_rate\", data=df)\n",
    "sns.swarmplot(x=\"gender\", y=\"heart_rate\", data=df, palette=\"Set1\");\n",
    "\n",
    "plt.subplot(1, 2, 2)\n",
    "sns.boxplot(x=\"gender\", y=\"temperature\", data=df)\n",
    "sns.swarmplot(x=\"gender\", y=\"temperature\", data=df, palette=\"Set1\");\n",
    "\n",
    "plt.tight_layout()\n",
    "plt.show()"
   ]
  },
  {
   "cell_type": "code",
   "execution_count": 24,
   "metadata": {},
   "outputs": [
    {
     "data": {
      "image/png": "[encoded data removed]",
      "text/plain": [
       "<matplotlib.figure.Figure at 0x1b4f601c748>"
      ]
     },
     "metadata": {},
     "output_type": "display_data"
    }
   ],
   "source": [
    "male_df = df.loc[df.gender == 'M']\n",
    "female_df = df.loc[df.gender == 'F']\n",
    "\n",
    "fig, ax = plt.subplots(figsize=(10,5))\n",
    "\n",
    "plt.subplot(1, 2, 1)\n",
    "plt.plot(male_df.heart_rate, male_df.temperature, marker='.', linestyle='none', color='blue')\n",
    "plt.title('Heart rate vs Temperature (Male)')\n",
    "plt.xlabel('Heart rate (bpm)')\n",
    "plt.ylabel('Temperature (F)')\n",
    "plt.axis((50, 90, 95, 102))\n",
    "\n",
    "plt.subplot(1, 2, 2)\n",
    "plt.plot(female_df.heart_rate, female_df.temperature, marker='.', linestyle='none', color='red')\n",
    "plt.title('Heart rate vs Temperature (Female)')\n",
    "plt.xlabel('Heart rate (bpm)')\n",
    "plt.ylabel('Temperature (F)')\n",
    "plt.axis((50, 90, 95, 102))\n",
    "\n",
    "plt.tight_layout()\n",
    "plt.show()"
   ]
  },
  {
   "cell_type": "markdown",
   "metadata": {},
   "source": [
    "---\n",
    "## 1. Is the distribution of body temperatures normal?"
   ]
  },
  {
   "cell_type": "markdown",
   "metadata": {},
   "source": [
    "Yes, the theoretical CDF and the ECDF of the data (ploted below) suggest that the body temperatures are **normally distributed**."
   ]
  },
  {
   "cell_type": "code",
   "execution_count": 25,
   "metadata": {},
   "outputs": [],
   "source": [
    "### ecdf(): returns a one-dimensional array of measurements\n",
    "def ecdf(data):       \n",
    "    n = len(data)                # number of data points: n\n",
    "    x = np.sort(data)            # x-data for the ECDF: x    \n",
    "    y = np.arange(1, n+1/n) / n  # y-data for the ECDF: y\n",
    "    return x, y"
   ]
  },
  {
   "cell_type": "code",
   "execution_count": 26,
   "metadata": {},
   "outputs": [],
   "source": [
    "### Compute summary statistics\n",
    "mean    = np.mean(df.temperature) \n",
    "std     = np.std(df.temperature) "
   ]
  },
  {
   "cell_type": "code",
   "execution_count": 27,
   "metadata": {},
   "outputs": [
    {
     "name": "stdout",
     "output_type": "stream",
     "text": [
      ">>> mean    = 98.24923076923078\n",
      ">>> std dev = 0.7303577789050377\n",
      ">>> derived samples = 5000\n"
     ]
    },
    {
     "data": {
      "image/png": "[encoded data removed]",
      "text/plain": [
       "<matplotlib.figure.Figure at 0x1b4f66c0668>"
      ]
     },
     "metadata": {},
     "output_type": "display_data"
    }
   ],
   "source": [
    "### Simulate a larger dataset with the same mean and std deviation to plot ECDF and later PDF\n",
    "samples = np.random.normal(mean, std, size=5000) \n",
    "x, y    = ecdf(df.temperature) \n",
    "x_theor, y_theor = ecdf(samples) \n",
    "\n",
    "print('>>> mean    =', mean)\n",
    "print('>>> std dev =', std)\n",
    "print('>>> derived samples =', len(samples))\n",
    "\n",
    "### Plot ECDF\n",
    "fig, ax = plt.subplots(figsize=(10,5))\n",
    "plt.plot(x_theor, y_theor) \n",
    "plt.plot(x, y, marker='.', linestyle='none') \n",
    "plt.axvline(mean, color='r', linewidth=1)\n",
    "plt.xlabel('temperature (F)') \n",
    "plt.ylabel('CDF') \n",
    "plt.show() "
   ]
  },
  {
   "cell_type": "code",
   "execution_count": 28,
   "metadata": {},
   "outputs": [
    {
     "name": "stdout",
     "output_type": "stream",
     "text": [
      ">>> mean    = 98.24923076923078\n",
      ">>> std dev = 0.7303577789050377\n",
      ">>> derived samples = 5000\n"
     ]
    },
    {
     "data": {
      "image/png": "[encoded data removed]",
      "text/plain": [
       "<matplotlib.figure.Figure at 0x1b4f65fd748>"
      ]
     },
     "metadata": {},
     "output_type": "display_data"
    }
   ],
   "source": [
    "print('>>> mean    =', mean)\n",
    "print('>>> std dev =', std)\n",
    "print('>>> derived samples =', len(samples))\n",
    "\n",
    "### Plot PDF\n",
    "fig, ax = plt.subplots(figsize=(10,5))\n",
    "result = plt.hist(samples, bins=25, normed=True, histtype='step', linewidth=1)\n",
    "plt.axvline(mean, color='r', linewidth=1)\n",
    "\n",
    "plt.xlabel('temperature (F)')\n",
    "plt.ylabel('PDF')\n",
    "plt.show()"
   ]
  },
  {
   "cell_type": "markdown",
   "metadata": {},
   "source": [
    "In a normal distribution, the **mean** and the **median** have always the same value. In this particular case, they are so close to each other that I believe we can say that it is a normal distribution."
   ]
  },
  {
   "cell_type": "code",
   "execution_count": 29,
   "metadata": {},
   "outputs": [
    {
     "name": "stdout",
     "output_type": "stream",
     "text": [
      ">>> mean    = 98.249\n",
      ">>> median  = 98.300\n"
     ]
    }
   ],
   "source": [
    "print('>>> mean    = %.3f' % np.mean(df.temperature))\n",
    "print('>>> median  = %.3f' % np.median(df.temperature))"
   ]
  },
  {
   "cell_type": "markdown",
   "metadata": {},
   "source": [
    "On the other hand, in a *perfectly symmetrical bell curve*, the **mean**, **median** and **mode** are all the same value. However, this is not the case with the distribution of body temperatures. Even though the mean and median are relatively close values, the mode is not:"
   ]
  },
  {
   "cell_type": "code",
   "execution_count": 30,
   "metadata": {},
   "outputs": [
    {
     "name": "stdout",
     "output_type": "stream",
     "text": [
      ">>> mean    = 98.249\n",
      ">>> median  = 98.300\n",
      ">>> mode    = 98.000\n"
     ]
    }
   ],
   "source": [
    "import scipy\n",
    "print('>>> mean    = %.3f' % np.mean(df.temperature))\n",
    "print('>>> median  = %.3f' % np.median(df.temperature))\n",
    "print('>>> mode    = %.3f' % scipy.stats.mode(df.temperature)[0][0])"
   ]
  },
  {
   "cell_type": "markdown",
   "metadata": {},
   "source": [
    "The summary statistics in table below suggests only one outlier, value 100.8, easilly spotted in the boxplot above.\n",
    "\n",
    "Almost all observations are within 2.5 standard deviations of the mean. Based on this evidence, the normality assumption seems reasonable:"
   ]
  },
  {
   "cell_type": "code",
   "execution_count": 31,
   "metadata": {},
   "outputs": [
    {
     "name": "stdout",
     "output_type": "stream",
     "text": [
      ">>> Range of values for 2.5 std dev: [ 95.74923076923078 ,  100.74923076923078 ]\n"
     ]
    },
    {
     "data": {
      "text/html": [
       "<table border=\"1\" class=\"dataframe\">\n",
       "  <thead>\n",
       "    <tr style=\"text-align: right;\">\n",
       "      <th>samples</th>\n",
       "      <th>mean</th>\n",
       "      <th>std dev</th>\n",
       "      <th>min Temp</th>\n",
       "      <th>max Temp</th>\n",
       "    </tr>\n",
       "  </thead>\n",
       "  <tbody>\n",
       "    <tr>\n",
       "      <td>130</td>\n",
       "      <td>98.249231</td>\n",
       "      <td>0.730358</td>\n",
       "      <td>96.3</td>\n",
       "      <td>100.8</td>\n",
       "    </tr>\n",
       "  </tbody>\n",
       "</table>"
      ],
      "text/plain": [
       "<IPython.core.display.HTML object>"
      ]
     },
     "execution_count": 31,
     "metadata": {},
     "output_type": "execute_result"
    }
   ],
   "source": [
    "print('>>> Range of values for 2.5 std dev: [', np.mean(df.temperature)-2.5, ', ', np.mean(df.temperature)+2.5, ']')\n",
    "\n",
    "summary_df = pd.DataFrame({ 'samples' : df.temperature.shape[0],\n",
    "                            'mean'    : np.mean(df.temperature),\n",
    "                            'std dev' : np.std(df.temperature),\n",
    "                            'min Temp': df.temperature.min(),\n",
    "                            'max Temp': df.temperature.max() }, \n",
    "                          index=[0])\n",
    "\n",
    "# specify columns orders\n",
    "summary_df = summary_df[['samples', 'mean', 'std dev', 'min Temp', 'max Temp']]\n",
    "\n",
    "# hide index when display the table\n",
    "from IPython.display import HTML \n",
    "HTML(summary_df.to_html(index=False))"
   ]
  },
  {
   "cell_type": "markdown",
   "metadata": {},
   "source": [
    "Another confirmation of the normal distribution comes from the **Shapiro-Wilk** normality test. It provides a good evidence that for these 5000 samples the null hypothesis is true: it is a normal distribution."
   ]
  },
  {
   "cell_type": "code",
   "execution_count": 32,
   "metadata": {},
   "outputs": [
    {
     "name": "stdout",
     "output_type": "stream",
     "text": [
      "(0.9865769743919373, 0.2331680953502655)\n"
     ]
    }
   ],
   "source": [
    "print(scipy.stats.shapiro(df.temperature)) # Outputs: (statistic test, p-value)"
   ]
  },
  {
   "cell_type": "markdown",
   "metadata": {},
   "source": [
    "---\n",
    "## 2. Is the sample size large? Are the observations independent?"
   ]
  },
  {
   "cell_type": "markdown",
   "metadata": {},
   "source": [
    "**Yes** and **yes**. Several [authors](https://www.researchgate.net/post/What_is_the_rationale_behind_the_magic_number_30_in_statistics) suggests that a sufficiently large sample size must have at least 30 samples. Even though there are authors that say that 20 or 50 are enough, there's no formal proof that validates any of these magic numbers. The fact that our sample size is 130 and much larger then the recommended sizes, is a good indication that 130 samples are more than enough.\n",
    "\n",
    "Another indication that this a sufficiently large dataset comes from comparing the mean temperatures of this dataset (98.25 F) with the original dataset (98.6 F). There's a reduction of the mean by less than **0.4%** on these datasets, which is a pretty small change to have any dramatic effect on our statistical analysis."
   ]
  },
  {
   "cell_type": "code",
   "execution_count": 33,
   "metadata": {},
   "outputs": [
    {
     "name": "stdout",
     "output_type": "stream",
     "text": [
      ">>> Sample size = 130\n"
     ]
    }
   ],
   "source": [
    "print('>>> Sample size =', df.shape[0])"
   ]
  },
  {
   "cell_type": "markdown",
   "metadata": {},
   "source": [
    "Two observations are said to be **independent** if the occurrence of one provides no information about the occurrence of the other. As far as we can tell from the exercise and searching online about Carl Wunderlich's work, these observations weren't made on the same person (over time) Therefore, it makes sense to assume **they are independent observations**, probably gathered from hospital patients where he was a physician."
   ]
  },
  {
   "cell_type": "markdown",
   "metadata": {},
   "source": [
    "## 3. Is the true population mean really 98.6 degrees F?"
   ]
  },
  {
   "cell_type": "markdown",
   "metadata": {},
   "source": [
    "> **First, a bootstrap hypothesis test:**"
   ]
  },
  {
   "cell_type": "code",
   "execution_count": 34,
   "metadata": {},
   "outputs": [],
   "source": [
    "# Generates boostrap replicates for N tests\n",
    "def gen_bootstrap_replicates(data, n, func):\n",
    "    bs_replicates = np.empty(n)\n",
    "    \n",
    "    for i in range(n):\n",
    "        bs_sample = np.random.choice(data, size=len(data))\n",
    "        bs_replicates[i] = func(bs_sample) # apply the \n",
    "        \n",
    "    return bs_replicates"
   ]
  },
  {
   "cell_type": "code",
   "execution_count": 35,
   "metadata": {},
   "outputs": [
    {
     "name": "stdout",
     "output_type": "stream",
     "text": [
      ">>> Bootstrap replicates (mean) = 98.25\n"
     ]
    },
    {
     "data": {
      "image/png": "[encoded data removed]",
      "text/plain": [
       "<matplotlib.figure.Figure at 0x1b4f67b3a58>"
      ]
     },
     "metadata": {},
     "output_type": "display_data"
    }
   ],
   "source": [
    "### Compute the approximate PDF of the mean temperature we would expect\n",
    "### if we performed the measurements again.\n",
    "###\n",
    "bs_replicates_mean = gen_bootstrap_replicates(df.temperature, 10000, np.mean)\n",
    "#print(bs_replicates_mean[:5]) # print head\n",
    "\n",
    "bs_rep_mean = np.mean(bs_replicates_mean)\n",
    "print('>>> Bootstrap replicates (mean) = %.2f' % bs_rep_mean)\n",
    "\n",
    "### Plot PDF\n",
    "fig, ax = plt.subplots(figsize=(10,5))\n",
    "plt.hist(bs_replicates_mean, bins=30, normed = True, histtype='step', linewidth=1)\n",
    "plt.axvline(bs_rep_mean, color='r', linewidth=1)\n",
    "plt.title('Bootstrap estimate of the mean')\n",
    "plt.xlabel('mean temperature (F)')\n",
    "plt.ylabel('PDF')\n",
    "plt.show()"
   ]
  },
  {
   "cell_type": "markdown",
   "metadata": {},
   "source": [
    "To summarise this graphical result, we compute the 95% confidence interval of the means:"
   ]
  },
  {
   "cell_type": "code",
   "execution_count": 36,
   "metadata": {},
   "outputs": [
    {
     "name": "stdout",
     "output_type": "stream",
     "text": [
      ">>> Bootstrap confidence intervals:  [ 98.12384615  98.37694231]\n"
     ]
    }
   ],
   "source": [
    "# if we repeated measurements over and over again, p% of the observed values would stay within the p% confidence interval\n",
    "print('>>> Bootstrap confidence intervals: ', np.percentile(bs_replicates_mean, [2.5, 97.5]))"
   ]
  },
  {
   "cell_type": "markdown",
   "metadata": {},
   "source": [
    "**Hypothesis**: is the population mean of the bootstrap replicates really the same as in the original dataset?\n",
    "\n",
    "**Most likely!** There is always a fluctuation from one sample of the original dataset to another, and it is unlikely that the sample mean will be exactly the same between them or even exactly equal to the original dataset. The difference between the bootstrap replicates mean and the population mean of the dataset could be due to sampling variation.\n",
    "\n",
    "After computing the bootstrap confidence intervals for the mean, we have a 95% confidence that the average temperature stays between **[98.1, 98.4] F**. It's important to note that the upper threshold value is only 0.02% away from the true population mean (98.6 F). Given that the distance between them is only a fraction of 1% of the mean, it seems likely that the population mean of the original dataset really was 98.6 F."
   ]
  },
  {
   "cell_type": "markdown",
   "metadata": {},
   "source": [
    "> **Now, let's try frequentist statistical testing. Would you use a one-sample or two-sample test? Why?**\n",
    "\n",
    "- **One-sample** tests the mean of a single group against a known mean;\n",
    "- **Two-sample** tests the means of two groups against each other, but it requires access to the population data of both groups;\n",
    "\n",
    "Since we don't have access to the original data from *Carl Wunderlich* we need to perform a **one-sample** test."
   ]
  },
  {
   "cell_type": "markdown",
   "metadata": {},
   "source": [
    "> * **In this situation, is it appropriate to use the $t$ or $z$ statistic?**\n",
    "\n",
    "The answer is ** *t* statistic**! \n",
    "\n",
    "- The **Z-test** is used to compare the population mean against a sample or compare the population mean of two distributions with a sample size greater than 30, when std deviations are known;\n",
    "- The **T-test** is used to compare the population mean against a sample, or compare the population mean of two distributions with a sample size less than 30, or when you don't know the population's standard deviation.\n",
    "\n",
    "When the dataset has a sufficiently large amout of samples, when it has a normal distribution, and when it has the sample and population std deviations, we use the normal probability table (*z*-score) to represent the test statistic. \n",
    "\n",
    "**So in this particular case, our approach requires *t*-statistic since we don't know the std deviation of the population.**\n",
    "\n",
    "According to [Amulya Aankul](https://towardsdatascience.com/inferential-statistics-series-t-test-using-numpy-2718f8f9bf2f), the **t-test** (aka. Student’s T Test) compares two averages (means) and tells if they are different from each other. The t-test also tells how significant the differences are. In other words, it says if those differences could have happened by chance.\n",
    "\n",
    "The **t-score** is the ratio of the difference between two groups and the difference within the groups. The larger the t-score, the more difference there are between groups. The smaller the t-score, the more similar the groups are. A t-score of 3 means that the groups are three times as different from each other as they are within each other. \n",
    "\n",
    "In this case, we have a very a t-score of **5.47**: the means are very distant from each other.  and therefore the data does not provide strong evidence that the mean temperature of our 130 samples dataset is different from the original dataset.\n",
    "\n",
    "Another confirmation appears when comparing the `t-score` with the `p-value`: since the t-statistic is a lot smaller, the test concludes that there is no statistical significant difference between the two means.\n",
    "\n",
    "Because the `p-value` is greater than 0.05, we fail to reject the null hypothesis that stated that both means are similar."
   ]
  },
  {
   "cell_type": "code",
   "execution_count": 37,
   "metadata": {},
   "outputs": [],
   "source": [
    "# T-test\n",
    "def t_test(sample_mean, sample_sz, sample_std, pop_mean):\n",
    "    # Standard Error\n",
    "    SE = sample_std / np.sqrt(sample_sz)          \n",
    "    print('>>> std error  =', SE)\n",
    "\n",
    "    # T-Score (the t-statistic)\n",
    "    t_score = (pop_mean - mean) / SE\n",
    "    print('>>> t-score    =', t_score)\n",
    "\n",
    "    # Compare with the critical t-value\n",
    "    degrees_of_freedom = sample_sz - 1\n",
    "    p = 1 - scipy.stats.t.cdf(t_score, df=degrees_of_freedom) #p-value after comparison with the t \n",
    "    print('>>> p-value    =', p)"
   ]
  },
  {
   "cell_type": "code",
   "execution_count": 38,
   "metadata": {},
   "outputs": [
    {
     "name": "stdout",
     "output_type": "stream",
     "text": [
      ">>> std error  = 0.0640566146952\n",
      ">>> t-score    = 5.47592520208\n",
      ">>> p-value    = 1.09437323204e-07\n"
     ]
    }
   ],
   "source": [
    "sample_mean = np.mean(df.temperature)\n",
    "sample_std = np.std(df.temperature)\n",
    "sample_sz = df.temperature.shape[0]\n",
    "pop_mean = 98.6\n",
    "t_test(sample_mean, sample_sz, sample_std, pop_mean)"
   ]
  },
  {
   "cell_type": "markdown",
   "metadata": {},
   "source": [
    "> * **Now try using the other test. How is the result be different? Why?**\n",
    "\n",
    "Z-test requires the population standard deviation, which we don't have. It can't be done."
   ]
  },
  {
   "cell_type": "markdown",
   "metadata": {},
   "source": [
    "## 4. Draw a small sample of size 10 from the data and repeat both frequentist tests"
   ]
  },
  {
   "cell_type": "code",
   "execution_count": 39,
   "metadata": {},
   "outputs": [],
   "source": [
    "# TODO"
   ]
  },
  {
   "cell_type": "markdown",
   "metadata": {},
   "source": [
    "## 5. At what temperature should we consider someone's temperature to be \"abnormal\"?"
   ]
  },
  {
   "cell_type": "code",
   "execution_count": 40,
   "metadata": {},
   "outputs": [],
   "source": [
    "# TODO"
   ]
  },
  {
   "cell_type": "markdown",
   "metadata": {},
   "source": [
    "## 6. Is there a significant difference between males and females in normal temperature?"
   ]
  },
  {
   "cell_type": "code",
   "execution_count": 41,
   "metadata": {},
   "outputs": [],
   "source": [
    "# TODO"
   ]
  },
  {
   "cell_type": "code",
   "execution_count": 42,
   "metadata": {},
   "outputs": [
    {
     "data": {
      "text/plain": [
       "98.250709230769218"
      ]
     },
     "execution_count": 42,
     "metadata": {},
     "output_type": "execute_result"
    }
   ],
   "source": [
    "# pandas bootstrapping with replacement (list comprehension)\n",
    "np.mean([df.sample(len(df), replace=True)['temperature'].mean() for i in range(0,1000)])"
   ]
  },
  {
   "cell_type": "code",
   "execution_count": null,
   "metadata": {},
   "outputs": [],
   "source": []
  }
 ],
 "metadata": {
  "kernelspec": {
   "display_name": "Python 3",
   "language": "python",
   "name": "python3"
  },
  "language_info": {
   "codemirror_mode": {
    "name": "ipython",
    "version": 3
   },
   "file_extension": ".py",
   "mimetype": "text/x-python",
   "name": "python",
   "nbconvert_exporter": "python",
   "pygments_lexer": "ipython3",
   "version": "3.6.3"
  }
 },
 "nbformat": 4,
 "nbformat_minor": 1
}
