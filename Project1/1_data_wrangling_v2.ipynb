{
 "cells": [
  {
   "cell_type": "markdown",
   "metadata": {},
   "source": [
    "# Data Wrangling for [Recruit Restaurant Visitor Forecasting](https://www.kaggle.com/c/recruit-restaurant-visitor-forecasting)\n",
    "---\n",
    "This document breaks down the data wrangling tasks into the following steps:\n",
    "\n",
    "* [1. Load Datasets](#1.-Load-Datasets): imports Python libraries and also loads the DataFrames.\n",
    "\n",
    "\n",
    "* [2. Visual Inspection](#2.-Visual-Inspection): examines the shape, column names and data types used by DataFrames.\n",
    "    \n",
    "    \n",
    "* [3. Combine Datasets](#3.-Combine-Datasets): joins DataFrames into a single entity.    \n",
    "\n",
    "\n",
    "* [4. Cleaning Data](#4.-Cleaning-Data): analyses the amount of work that needs to be done and performs the steps necessary to make the data tidy and clean.    \n",
    "\n",
    "\n",
    "* [5. Preliminary Visual Exploratory Data Analysis](#5.-Preliminary-Visual-Exploratory-Data-Analysis): renders a chart to visualize the amount of reservations and visitations made along the years."
   ]
  },
  {
   "cell_type": "markdown",
   "metadata": {},
   "source": [
    "---\n",
    "## 1. Load Datasets"
   ]
  },
  {
   "cell_type": "code",
   "execution_count": 1,
   "metadata": {},
   "outputs": [],
   "source": [
    "import math\n",
    "import pandas as pd\n",
    "import numpy as np\n",
    "from IPython.display import display\n",
    "import matplotlib.pyplot as plt\n",
    "import matplotlib.dates as mdates\n",
    "%matplotlib inline\n",
    "\n",
    "air_reserve_df = pd.read_csv('data/air_reserve.csv')\n",
    "air_store_df = pd.read_csv('data/air_store_info.csv')\n",
    "air_visit_df = pd.read_csv('data/air_visit_data.csv')\n",
    "\n",
    "hpg_reserve_df = pd.read_csv('data/hpg_reserve.csv')\n",
    "hpg_store_df = pd.read_csv('data/hpg_store_info.csv')\n",
    "\n",
    "date_info_df = pd.read_csv('data/date_info.csv')\n",
    "store_ids_df = pd.read_csv('data/store_id_relation.csv')"
   ]
  },
  {
   "cell_type": "markdown",
   "metadata": {},
   "source": [
    "---\n",
    "## 2. Visual Inspection\n",
    "A brief examination of the dataframes involved helps to get a better sense of the data structures that are going to be manipulated."
   ]
  },
  {
   "cell_type": "code",
   "execution_count": 2,
   "metadata": {},
   "outputs": [],
   "source": [
    "def visual_inspect(df, size=3):\n",
    "    print('>>> Shape =', df.shape)\n",
    "    display(df.head(size))    \n",
    "    print('>>> Types\\n', df.dtypes)\n",
    "    #print('\\n>>> Info')\n",
    "    #df.info()"
   ]
  },
  {
   "cell_type": "code",
   "execution_count": 3,
   "metadata": {},
   "outputs": [
    {
     "name": "stdout",
     "output_type": "stream",
     "text": [
      ">>> Shape = (92378, 4)\n"
     ]
    },
    {
     "data": {
      "text/html": [
       "<div>\n",
       "<style>\n",
       "    .dataframe thead tr:only-child th {\n",
       "        text-align: right;\n",
       "    }\n",
       "\n",
       "    .dataframe thead th {\n",
       "        text-align: left;\n",
       "    }\n",
       "\n",
       "    .dataframe tbody tr th {\n",
       "        vertical-align: top;\n",
       "    }\n",
       "</style>\n",
       "<table border=\"1\" class=\"dataframe\">\n",
       "  <thead>\n",
       "    <tr style=\"text-align: right;\">\n",
       "      <th></th>\n",
       "      <th>air_store_id</th>\n",
       "      <th>visit_datetime</th>\n",
       "      <th>reserve_datetime</th>\n",
       "      <th>reserve_visitors</th>\n",
       "    </tr>\n",
       "  </thead>\n",
       "  <tbody>\n",
       "    <tr>\n",
       "      <th>0</th>\n",
       "      <td>air_877f79706adbfb06</td>\n",
       "      <td>2016-01-01 19:00:00</td>\n",
       "      <td>2016-01-01 16:00:00</td>\n",
       "      <td>1</td>\n",
       "    </tr>\n",
       "    <tr>\n",
       "      <th>1</th>\n",
       "      <td>air_db4b38ebe7a7ceff</td>\n",
       "      <td>2016-01-01 19:00:00</td>\n",
       "      <td>2016-01-01 19:00:00</td>\n",
       "      <td>3</td>\n",
       "    </tr>\n",
       "    <tr>\n",
       "      <th>2</th>\n",
       "      <td>air_db4b38ebe7a7ceff</td>\n",
       "      <td>2016-01-01 19:00:00</td>\n",
       "      <td>2016-01-01 19:00:00</td>\n",
       "      <td>6</td>\n",
       "    </tr>\n",
       "  </tbody>\n",
       "</table>\n",
       "</div>"
      ],
      "text/plain": [
       "           air_store_id       visit_datetime     reserve_datetime  \\\n",
       "0  air_877f79706adbfb06  2016-01-01 19:00:00  2016-01-01 16:00:00   \n",
       "1  air_db4b38ebe7a7ceff  2016-01-01 19:00:00  2016-01-01 19:00:00   \n",
       "2  air_db4b38ebe7a7ceff  2016-01-01 19:00:00  2016-01-01 19:00:00   \n",
       "\n",
       "   reserve_visitors  \n",
       "0                 1  \n",
       "1                 3  \n",
       "2                 6  "
      ]
     },
     "metadata": {},
     "output_type": "display_data"
    },
    {
     "name": "stdout",
     "output_type": "stream",
     "text": [
      ">>> Types\n",
      " air_store_id        object\n",
      "visit_datetime      object\n",
      "reserve_datetime    object\n",
      "reserve_visitors     int64\n",
      "dtype: object\n"
     ]
    }
   ],
   "source": [
    "visual_inspect(air_reserve_df)"
   ]
  },
  {
   "cell_type": "code",
   "execution_count": 4,
   "metadata": {},
   "outputs": [
    {
     "name": "stdout",
     "output_type": "stream",
     "text": [
      ">>> Shape = (829, 5)\n"
     ]
    },
    {
     "data": {
      "text/html": [
       "<div>\n",
       "<style>\n",
       "    .dataframe thead tr:only-child th {\n",
       "        text-align: right;\n",
       "    }\n",
       "\n",
       "    .dataframe thead th {\n",
       "        text-align: left;\n",
       "    }\n",
       "\n",
       "    .dataframe tbody tr th {\n",
       "        vertical-align: top;\n",
       "    }\n",
       "</style>\n",
       "<table border=\"1\" class=\"dataframe\">\n",
       "  <thead>\n",
       "    <tr style=\"text-align: right;\">\n",
       "      <th></th>\n",
       "      <th>air_store_id</th>\n",
       "      <th>air_genre_name</th>\n",
       "      <th>air_area_name</th>\n",
       "      <th>latitude</th>\n",
       "      <th>longitude</th>\n",
       "    </tr>\n",
       "  </thead>\n",
       "  <tbody>\n",
       "    <tr>\n",
       "      <th>0</th>\n",
       "      <td>air_0f0cdeee6c9bf3d7</td>\n",
       "      <td>Italian/French</td>\n",
       "      <td>Hyōgo-ken Kōbe-shi Kumoidōri</td>\n",
       "      <td>34.695124</td>\n",
       "      <td>135.197852</td>\n",
       "    </tr>\n",
       "    <tr>\n",
       "      <th>1</th>\n",
       "      <td>air_7cc17a324ae5c7dc</td>\n",
       "      <td>Italian/French</td>\n",
       "      <td>Hyōgo-ken Kōbe-shi Kumoidōri</td>\n",
       "      <td>34.695124</td>\n",
       "      <td>135.197852</td>\n",
       "    </tr>\n",
       "    <tr>\n",
       "      <th>2</th>\n",
       "      <td>air_fee8dcf4d619598e</td>\n",
       "      <td>Italian/French</td>\n",
       "      <td>Hyōgo-ken Kōbe-shi Kumoidōri</td>\n",
       "      <td>34.695124</td>\n",
       "      <td>135.197852</td>\n",
       "    </tr>\n",
       "  </tbody>\n",
       "</table>\n",
       "</div>"
      ],
      "text/plain": [
       "           air_store_id  air_genre_name                 air_area_name  \\\n",
       "0  air_0f0cdeee6c9bf3d7  Italian/French  Hyōgo-ken Kōbe-shi Kumoidōri   \n",
       "1  air_7cc17a324ae5c7dc  Italian/French  Hyōgo-ken Kōbe-shi Kumoidōri   \n",
       "2  air_fee8dcf4d619598e  Italian/French  Hyōgo-ken Kōbe-shi Kumoidōri   \n",
       "\n",
       "    latitude   longitude  \n",
       "0  34.695124  135.197852  \n",
       "1  34.695124  135.197852  \n",
       "2  34.695124  135.197852  "
      ]
     },
     "metadata": {},
     "output_type": "display_data"
    },
    {
     "name": "stdout",
     "output_type": "stream",
     "text": [
      ">>> Types\n",
      " air_store_id       object\n",
      "air_genre_name     object\n",
      "air_area_name      object\n",
      "latitude          float64\n",
      "longitude         float64\n",
      "dtype: object\n"
     ]
    }
   ],
   "source": [
    "visual_inspect(air_store_df)"
   ]
  },
  {
   "cell_type": "code",
   "execution_count": 5,
   "metadata": {},
   "outputs": [
    {
     "name": "stdout",
     "output_type": "stream",
     "text": [
      ">>> Shape = (252108, 3)\n"
     ]
    },
    {
     "data": {
      "text/html": [
       "<div>\n",
       "<style>\n",
       "    .dataframe thead tr:only-child th {\n",
       "        text-align: right;\n",
       "    }\n",
       "\n",
       "    .dataframe thead th {\n",
       "        text-align: left;\n",
       "    }\n",
       "\n",
       "    .dataframe tbody tr th {\n",
       "        vertical-align: top;\n",
       "    }\n",
       "</style>\n",
       "<table border=\"1\" class=\"dataframe\">\n",
       "  <thead>\n",
       "    <tr style=\"text-align: right;\">\n",
       "      <th></th>\n",
       "      <th>air_store_id</th>\n",
       "      <th>visit_date</th>\n",
       "      <th>visitors</th>\n",
       "    </tr>\n",
       "  </thead>\n",
       "  <tbody>\n",
       "    <tr>\n",
       "      <th>0</th>\n",
       "      <td>air_ba937bf13d40fb24</td>\n",
       "      <td>2016-01-13</td>\n",
       "      <td>25</td>\n",
       "    </tr>\n",
       "    <tr>\n",
       "      <th>1</th>\n",
       "      <td>air_ba937bf13d40fb24</td>\n",
       "      <td>2016-01-14</td>\n",
       "      <td>32</td>\n",
       "    </tr>\n",
       "    <tr>\n",
       "      <th>2</th>\n",
       "      <td>air_ba937bf13d40fb24</td>\n",
       "      <td>2016-01-15</td>\n",
       "      <td>29</td>\n",
       "    </tr>\n",
       "  </tbody>\n",
       "</table>\n",
       "</div>"
      ],
      "text/plain": [
       "           air_store_id  visit_date  visitors\n",
       "0  air_ba937bf13d40fb24  2016-01-13        25\n",
       "1  air_ba937bf13d40fb24  2016-01-14        32\n",
       "2  air_ba937bf13d40fb24  2016-01-15        29"
      ]
     },
     "metadata": {},
     "output_type": "display_data"
    },
    {
     "name": "stdout",
     "output_type": "stream",
     "text": [
      ">>> Types\n",
      " air_store_id    object\n",
      "visit_date      object\n",
      "visitors         int64\n",
      "dtype: object\n"
     ]
    }
   ],
   "source": [
    "visual_inspect(air_visit_df)"
   ]
  },
  {
   "cell_type": "code",
   "execution_count": 6,
   "metadata": {},
   "outputs": [
    {
     "name": "stdout",
     "output_type": "stream",
     "text": [
      ">>> Shape = (2000320, 4)\n"
     ]
    },
    {
     "data": {
      "text/html": [
       "<div>\n",
       "<style>\n",
       "    .dataframe thead tr:only-child th {\n",
       "        text-align: right;\n",
       "    }\n",
       "\n",
       "    .dataframe thead th {\n",
       "        text-align: left;\n",
       "    }\n",
       "\n",
       "    .dataframe tbody tr th {\n",
       "        vertical-align: top;\n",
       "    }\n",
       "</style>\n",
       "<table border=\"1\" class=\"dataframe\">\n",
       "  <thead>\n",
       "    <tr style=\"text-align: right;\">\n",
       "      <th></th>\n",
       "      <th>hpg_store_id</th>\n",
       "      <th>visit_datetime</th>\n",
       "      <th>reserve_datetime</th>\n",
       "      <th>reserve_visitors</th>\n",
       "    </tr>\n",
       "  </thead>\n",
       "  <tbody>\n",
       "    <tr>\n",
       "      <th>0</th>\n",
       "      <td>hpg_c63f6f42e088e50f</td>\n",
       "      <td>2016-01-01 11:00:00</td>\n",
       "      <td>2016-01-01 09:00:00</td>\n",
       "      <td>1</td>\n",
       "    </tr>\n",
       "    <tr>\n",
       "      <th>1</th>\n",
       "      <td>hpg_dac72789163a3f47</td>\n",
       "      <td>2016-01-01 13:00:00</td>\n",
       "      <td>2016-01-01 06:00:00</td>\n",
       "      <td>3</td>\n",
       "    </tr>\n",
       "    <tr>\n",
       "      <th>2</th>\n",
       "      <td>hpg_c8e24dcf51ca1eb5</td>\n",
       "      <td>2016-01-01 16:00:00</td>\n",
       "      <td>2016-01-01 14:00:00</td>\n",
       "      <td>2</td>\n",
       "    </tr>\n",
       "  </tbody>\n",
       "</table>\n",
       "</div>"
      ],
      "text/plain": [
       "           hpg_store_id       visit_datetime     reserve_datetime  \\\n",
       "0  hpg_c63f6f42e088e50f  2016-01-01 11:00:00  2016-01-01 09:00:00   \n",
       "1  hpg_dac72789163a3f47  2016-01-01 13:00:00  2016-01-01 06:00:00   \n",
       "2  hpg_c8e24dcf51ca1eb5  2016-01-01 16:00:00  2016-01-01 14:00:00   \n",
       "\n",
       "   reserve_visitors  \n",
       "0                 1  \n",
       "1                 3  \n",
       "2                 2  "
      ]
     },
     "metadata": {},
     "output_type": "display_data"
    },
    {
     "name": "stdout",
     "output_type": "stream",
     "text": [
      ">>> Types\n",
      " hpg_store_id        object\n",
      "visit_datetime      object\n",
      "reserve_datetime    object\n",
      "reserve_visitors     int64\n",
      "dtype: object\n"
     ]
    }
   ],
   "source": [
    "visual_inspect(hpg_reserve_df)"
   ]
  },
  {
   "cell_type": "code",
   "execution_count": 7,
   "metadata": {},
   "outputs": [
    {
     "name": "stdout",
     "output_type": "stream",
     "text": [
      ">>> Shape = (4690, 5)\n"
     ]
    },
    {
     "data": {
      "text/html": [
       "<div>\n",
       "<style>\n",
       "    .dataframe thead tr:only-child th {\n",
       "        text-align: right;\n",
       "    }\n",
       "\n",
       "    .dataframe thead th {\n",
       "        text-align: left;\n",
       "    }\n",
       "\n",
       "    .dataframe tbody tr th {\n",
       "        vertical-align: top;\n",
       "    }\n",
       "</style>\n",
       "<table border=\"1\" class=\"dataframe\">\n",
       "  <thead>\n",
       "    <tr style=\"text-align: right;\">\n",
       "      <th></th>\n",
       "      <th>hpg_store_id</th>\n",
       "      <th>hpg_genre_name</th>\n",
       "      <th>hpg_area_name</th>\n",
       "      <th>latitude</th>\n",
       "      <th>longitude</th>\n",
       "    </tr>\n",
       "  </thead>\n",
       "  <tbody>\n",
       "    <tr>\n",
       "      <th>0</th>\n",
       "      <td>hpg_6622b62385aec8bf</td>\n",
       "      <td>Japanese style</td>\n",
       "      <td>Tōkyō-to Setagaya-ku Taishidō</td>\n",
       "      <td>35.643675</td>\n",
       "      <td>139.668221</td>\n",
       "    </tr>\n",
       "    <tr>\n",
       "      <th>1</th>\n",
       "      <td>hpg_e9e068dd49c5fa00</td>\n",
       "      <td>Japanese style</td>\n",
       "      <td>Tōkyō-to Setagaya-ku Taishidō</td>\n",
       "      <td>35.643675</td>\n",
       "      <td>139.668221</td>\n",
       "    </tr>\n",
       "    <tr>\n",
       "      <th>2</th>\n",
       "      <td>hpg_2976f7acb4b3a3bc</td>\n",
       "      <td>Japanese style</td>\n",
       "      <td>Tōkyō-to Setagaya-ku Taishidō</td>\n",
       "      <td>35.643675</td>\n",
       "      <td>139.668221</td>\n",
       "    </tr>\n",
       "  </tbody>\n",
       "</table>\n",
       "</div>"
      ],
      "text/plain": [
       "           hpg_store_id  hpg_genre_name                  hpg_area_name  \\\n",
       "0  hpg_6622b62385aec8bf  Japanese style  Tōkyō-to Setagaya-ku Taishidō   \n",
       "1  hpg_e9e068dd49c5fa00  Japanese style  Tōkyō-to Setagaya-ku Taishidō   \n",
       "2  hpg_2976f7acb4b3a3bc  Japanese style  Tōkyō-to Setagaya-ku Taishidō   \n",
       "\n",
       "    latitude   longitude  \n",
       "0  35.643675  139.668221  \n",
       "1  35.643675  139.668221  \n",
       "2  35.643675  139.668221  "
      ]
     },
     "metadata": {},
     "output_type": "display_data"
    },
    {
     "name": "stdout",
     "output_type": "stream",
     "text": [
      ">>> Types\n",
      " hpg_store_id       object\n",
      "hpg_genre_name     object\n",
      "hpg_area_name      object\n",
      "latitude          float64\n",
      "longitude         float64\n",
      "dtype: object\n"
     ]
    }
   ],
   "source": [
    "visual_inspect(hpg_store_df)"
   ]
  },
  {
   "cell_type": "code",
   "execution_count": 8,
   "metadata": {},
   "outputs": [
    {
     "name": "stdout",
     "output_type": "stream",
     "text": [
      ">>> Shape = (150, 2)\n"
     ]
    },
    {
     "data": {
      "text/html": [
       "<div>\n",
       "<style>\n",
       "    .dataframe thead tr:only-child th {\n",
       "        text-align: right;\n",
       "    }\n",
       "\n",
       "    .dataframe thead th {\n",
       "        text-align: left;\n",
       "    }\n",
       "\n",
       "    .dataframe tbody tr th {\n",
       "        vertical-align: top;\n",
       "    }\n",
       "</style>\n",
       "<table border=\"1\" class=\"dataframe\">\n",
       "  <thead>\n",
       "    <tr style=\"text-align: right;\">\n",
       "      <th></th>\n",
       "      <th>air_store_id</th>\n",
       "      <th>hpg_store_id</th>\n",
       "    </tr>\n",
       "  </thead>\n",
       "  <tbody>\n",
       "    <tr>\n",
       "      <th>0</th>\n",
       "      <td>air_63b13c56b7201bd9</td>\n",
       "      <td>hpg_4bc649e72e2a239a</td>\n",
       "    </tr>\n",
       "    <tr>\n",
       "      <th>1</th>\n",
       "      <td>air_a24bf50c3e90d583</td>\n",
       "      <td>hpg_c34b496d0305a809</td>\n",
       "    </tr>\n",
       "    <tr>\n",
       "      <th>2</th>\n",
       "      <td>air_c7f78b4f3cba33ff</td>\n",
       "      <td>hpg_cd8ae0d9bbd58ff9</td>\n",
       "    </tr>\n",
       "  </tbody>\n",
       "</table>\n",
       "</div>"
      ],
      "text/plain": [
       "           air_store_id          hpg_store_id\n",
       "0  air_63b13c56b7201bd9  hpg_4bc649e72e2a239a\n",
       "1  air_a24bf50c3e90d583  hpg_c34b496d0305a809\n",
       "2  air_c7f78b4f3cba33ff  hpg_cd8ae0d9bbd58ff9"
      ]
     },
     "metadata": {},
     "output_type": "display_data"
    },
    {
     "name": "stdout",
     "output_type": "stream",
     "text": [
      ">>> Types\n",
      " air_store_id    object\n",
      "hpg_store_id    object\n",
      "dtype: object\n"
     ]
    }
   ],
   "source": [
    "visual_inspect(store_ids_df)"
   ]
  },
  {
   "cell_type": "code",
   "execution_count": 9,
   "metadata": {},
   "outputs": [
    {
     "name": "stdout",
     "output_type": "stream",
     "text": [
      ">>> Shape = (517, 3)\n"
     ]
    },
    {
     "data": {
      "text/html": [
       "<div>\n",
       "<style>\n",
       "    .dataframe thead tr:only-child th {\n",
       "        text-align: right;\n",
       "    }\n",
       "\n",
       "    .dataframe thead th {\n",
       "        text-align: left;\n",
       "    }\n",
       "\n",
       "    .dataframe tbody tr th {\n",
       "        vertical-align: top;\n",
       "    }\n",
       "</style>\n",
       "<table border=\"1\" class=\"dataframe\">\n",
       "  <thead>\n",
       "    <tr style=\"text-align: right;\">\n",
       "      <th></th>\n",
       "      <th>calendar_date</th>\n",
       "      <th>day_of_week</th>\n",
       "      <th>holiday_flg</th>\n",
       "    </tr>\n",
       "  </thead>\n",
       "  <tbody>\n",
       "    <tr>\n",
       "      <th>0</th>\n",
       "      <td>2016-01-01</td>\n",
       "      <td>Friday</td>\n",
       "      <td>1</td>\n",
       "    </tr>\n",
       "    <tr>\n",
       "      <th>1</th>\n",
       "      <td>2016-01-02</td>\n",
       "      <td>Saturday</td>\n",
       "      <td>1</td>\n",
       "    </tr>\n",
       "    <tr>\n",
       "      <th>2</th>\n",
       "      <td>2016-01-03</td>\n",
       "      <td>Sunday</td>\n",
       "      <td>1</td>\n",
       "    </tr>\n",
       "  </tbody>\n",
       "</table>\n",
       "</div>"
      ],
      "text/plain": [
       "  calendar_date day_of_week  holiday_flg\n",
       "0    2016-01-01      Friday            1\n",
       "1    2016-01-02    Saturday            1\n",
       "2    2016-01-03      Sunday            1"
      ]
     },
     "metadata": {},
     "output_type": "display_data"
    },
    {
     "name": "stdout",
     "output_type": "stream",
     "text": [
      ">>> Types\n",
      " calendar_date    object\n",
      "day_of_week      object\n",
      "holiday_flg       int64\n",
      "dtype: object\n"
     ]
    }
   ],
   "source": [
    "visual_inspect(date_info_df)"
   ]
  },
  {
   "cell_type": "markdown",
   "metadata": {},
   "source": [
    "---\n",
    "## 3. Combine Datasets\n",
    "This section starts by joining `air_visit_df` with `air_reserve_df` on key `air_store_id`. The resulting DataFrame, `df`, is subsequentely merged with `air_store_df` thus containing all relevant data from the AIR system.\n",
    "\n",
    "Next, data from `hpg_reserve_df` is merged with `store_ids_df` into a new DataFrame, `hpg_df`. Then, `hpg_store_df` data is also added to this DataFrame and the merging of all HPG data is done.\n",
    "\n",
    "Finally, after `df` and `hpg_df` are merged together, holyday information is added from `date_info_df`."
   ]
  },
  {
   "cell_type": "markdown",
   "metadata": {},
   "source": [
    "### 3.1  `df = air_visit_df + air_reserve_df`"
   ]
  },
  {
   "cell_type": "code",
   "execution_count": 10,
   "metadata": {},
   "outputs": [
    {
     "name": "stdout",
     "output_type": "stream",
     "text": [
      ">>> air_visit_df   shape= (252108, 3)\n",
      ">>> air_reserve_df shape= (92378, 5)\n",
      ">>> Merging...\n",
      "\n",
      ">>> df             shape= (343508, 5)\n"
     ]
    },
    {
     "data": {
      "text/html": [
       "<div>\n",
       "<style>\n",
       "    .dataframe thead tr:only-child th {\n",
       "        text-align: right;\n",
       "    }\n",
       "\n",
       "    .dataframe thead th {\n",
       "        text-align: left;\n",
       "    }\n",
       "\n",
       "    .dataframe tbody tr th {\n",
       "        vertical-align: top;\n",
       "    }\n",
       "</style>\n",
       "<table border=\"1\" class=\"dataframe\">\n",
       "  <thead>\n",
       "    <tr style=\"text-align: right;\">\n",
       "      <th></th>\n",
       "      <th>air_store_id</th>\n",
       "      <th>visit_date</th>\n",
       "      <th>visitors</th>\n",
       "      <th>visit_datetime</th>\n",
       "      <th>reserve_datetime</th>\n",
       "    </tr>\n",
       "  </thead>\n",
       "  <tbody>\n",
       "    <tr>\n",
       "      <th>0</th>\n",
       "      <td>air_ba937bf13d40fb24</td>\n",
       "      <td>2016-01-13</td>\n",
       "      <td>25</td>\n",
       "      <td>NaT</td>\n",
       "      <td>NaN</td>\n",
       "    </tr>\n",
       "    <tr>\n",
       "      <th>1</th>\n",
       "      <td>air_ba937bf13d40fb24</td>\n",
       "      <td>2016-01-14</td>\n",
       "      <td>32</td>\n",
       "      <td>NaT</td>\n",
       "      <td>NaN</td>\n",
       "    </tr>\n",
       "    <tr>\n",
       "      <th>2</th>\n",
       "      <td>air_ba937bf13d40fb24</td>\n",
       "      <td>2016-01-15</td>\n",
       "      <td>29</td>\n",
       "      <td>NaT</td>\n",
       "      <td>NaN</td>\n",
       "    </tr>\n",
       "    <tr>\n",
       "      <th>3</th>\n",
       "      <td>air_ba937bf13d40fb24</td>\n",
       "      <td>2016-01-16</td>\n",
       "      <td>22</td>\n",
       "      <td>NaT</td>\n",
       "      <td>NaN</td>\n",
       "    </tr>\n",
       "    <tr>\n",
       "      <th>4</th>\n",
       "      <td>air_ba937bf13d40fb24</td>\n",
       "      <td>2016-01-18</td>\n",
       "      <td>6</td>\n",
       "      <td>NaT</td>\n",
       "      <td>NaN</td>\n",
       "    </tr>\n",
       "  </tbody>\n",
       "</table>\n",
       "</div>"
      ],
      "text/plain": [
       "           air_store_id  visit_date  visitors visit_datetime reserve_datetime\n",
       "0  air_ba937bf13d40fb24  2016-01-13        25            NaT              NaN\n",
       "1  air_ba937bf13d40fb24  2016-01-14        32            NaT              NaN\n",
       "2  air_ba937bf13d40fb24  2016-01-15        29            NaT              NaN\n",
       "3  air_ba937bf13d40fb24  2016-01-16        22            NaT              NaN\n",
       "4  air_ba937bf13d40fb24  2016-01-18         6            NaT              NaN"
      ]
     },
     "metadata": {},
     "output_type": "display_data"
    }
   ],
   "source": [
    "# DEBUG: cut down the DataFrame size\n",
    "# air_visit_df = air_visit_df.tail(2)\n",
    "# air_reserve_df = air_reserve_df.tail(2)\n",
    "\n",
    "# Add a visit_date column for air_reserve\n",
    "air_reserve_df['visit_datetime'] = pd.to_datetime(air_reserve_df['visit_datetime'])\n",
    "air_reserve_df['visit_date'] = air_reserve_df['visit_datetime'].apply(lambda x: x.strftime('%Y-%m-%d'))\n",
    "\n",
    "# Rename columns so they match during merge\n",
    "air_reserve_df.rename(columns={'reserve_visitors': 'visitors'}, inplace=True)\n",
    "\n",
    "print('>>> air_visit_df   shape=', air_visit_df.shape) \n",
    "# display(air_visit_df.head(2))\n",
    "\n",
    "print('>>> air_reserve_df shape=', air_reserve_df.shape) \n",
    "# display(air_reserve_df.head(2))\n",
    "\n",
    "print('>>> Merging...\\n')\n",
    "df = pd.merge(air_visit_df, air_reserve_df, on=[\"air_store_id\", \"visit_date\", \"visitors\"], how=\"outer\")\n",
    "\n",
    "print('>>> df             shape=', df.shape) \n",
    "display(df.head())"
   ]
  },
  {
   "cell_type": "markdown",
   "metadata": {},
   "source": [
    "### 3.2 `df = df + air_store_df`"
   ]
  },
  {
   "cell_type": "code",
   "execution_count": 11,
   "metadata": {},
   "outputs": [
    {
     "name": "stdout",
     "output_type": "stream",
     "text": [
      ">>> df             shape= (343508, 5)\n",
      ">>> air_store_df   shape= (829, 5)\n",
      ">>> Merging...\n",
      "\n",
      ">>> df             shape= (343508, 9)\n"
     ]
    },
    {
     "data": {
      "text/html": [
       "<div>\n",
       "<style>\n",
       "    .dataframe thead tr:only-child th {\n",
       "        text-align: right;\n",
       "    }\n",
       "\n",
       "    .dataframe thead th {\n",
       "        text-align: left;\n",
       "    }\n",
       "\n",
       "    .dataframe tbody tr th {\n",
       "        vertical-align: top;\n",
       "    }\n",
       "</style>\n",
       "<table border=\"1\" class=\"dataframe\">\n",
       "  <thead>\n",
       "    <tr style=\"text-align: right;\">\n",
       "      <th></th>\n",
       "      <th>air_store_id</th>\n",
       "      <th>visit_date</th>\n",
       "      <th>visitors</th>\n",
       "      <th>visit_datetime</th>\n",
       "      <th>reserve_datetime</th>\n",
       "      <th>air_genre_name</th>\n",
       "      <th>air_area_name</th>\n",
       "      <th>latitude</th>\n",
       "      <th>longitude</th>\n",
       "    </tr>\n",
       "  </thead>\n",
       "  <tbody>\n",
       "    <tr>\n",
       "      <th>0</th>\n",
       "      <td>air_ba937bf13d40fb24</td>\n",
       "      <td>2016-01-13</td>\n",
       "      <td>25</td>\n",
       "      <td>NaT</td>\n",
       "      <td>NaN</td>\n",
       "      <td>Dining bar</td>\n",
       "      <td>Tōkyō-to Minato-ku Shibakōen</td>\n",
       "      <td>35.658068</td>\n",
       "      <td>139.751599</td>\n",
       "    </tr>\n",
       "    <tr>\n",
       "      <th>1</th>\n",
       "      <td>air_ba937bf13d40fb24</td>\n",
       "      <td>2016-01-14</td>\n",
       "      <td>32</td>\n",
       "      <td>NaT</td>\n",
       "      <td>NaN</td>\n",
       "      <td>Dining bar</td>\n",
       "      <td>Tōkyō-to Minato-ku Shibakōen</td>\n",
       "      <td>35.658068</td>\n",
       "      <td>139.751599</td>\n",
       "    </tr>\n",
       "    <tr>\n",
       "      <th>2</th>\n",
       "      <td>air_ba937bf13d40fb24</td>\n",
       "      <td>2016-01-15</td>\n",
       "      <td>29</td>\n",
       "      <td>NaT</td>\n",
       "      <td>NaN</td>\n",
       "      <td>Dining bar</td>\n",
       "      <td>Tōkyō-to Minato-ku Shibakōen</td>\n",
       "      <td>35.658068</td>\n",
       "      <td>139.751599</td>\n",
       "    </tr>\n",
       "  </tbody>\n",
       "</table>\n",
       "</div>"
      ],
      "text/plain": [
       "           air_store_id  visit_date  visitors visit_datetime reserve_datetime  \\\n",
       "0  air_ba937bf13d40fb24  2016-01-13        25            NaT              NaN   \n",
       "1  air_ba937bf13d40fb24  2016-01-14        32            NaT              NaN   \n",
       "2  air_ba937bf13d40fb24  2016-01-15        29            NaT              NaN   \n",
       "\n",
       "  air_genre_name                 air_area_name   latitude   longitude  \n",
       "0     Dining bar  Tōkyō-to Minato-ku Shibakōen  35.658068  139.751599  \n",
       "1     Dining bar  Tōkyō-to Minato-ku Shibakōen  35.658068  139.751599  \n",
       "2     Dining bar  Tōkyō-to Minato-ku Shibakōen  35.658068  139.751599  "
      ]
     },
     "metadata": {},
     "output_type": "display_data"
    }
   ],
   "source": [
    "# DEBUG: cut down the DataFrame size\n",
    "# df = df.tail(2)\n",
    "# air_store_df = air_store_df.tail(2)\n",
    "\n",
    "print('>>> df             shape=', df.shape) \n",
    "# display(df.head(2))\n",
    "\n",
    "print('>>> air_store_df   shape=', air_store_df.shape) \n",
    "# display(air_store_df.head(2))\n",
    "\n",
    "print('>>> Merging...\\n')\n",
    "df = pd.merge(df, air_store_df, on=\"air_store_id\", how=\"left\")\n",
    "\n",
    "print('>>> df             shape=', df.shape)\n",
    "display(df.head(3))"
   ]
  },
  {
   "cell_type": "markdown",
   "metadata": {},
   "source": [
    "### 3.3 `hpg_df = hpg_reserve_df + store_ids_df`"
   ]
  },
  {
   "cell_type": "code",
   "execution_count": 12,
   "metadata": {},
   "outputs": [
    {
     "name": "stdout",
     "output_type": "stream",
     "text": [
      ">>> hpg_reserve_df shape= (2000320, 5)\n",
      "\n",
      ">>> store_ids_df   shape= (150, 2)\n",
      ">>> Merging...\n",
      "\n",
      "\n",
      ">>> hpg_df         shape= (2000320, 6)\n"
     ]
    },
    {
     "data": {
      "text/html": [
       "<div>\n",
       "<style>\n",
       "    .dataframe thead tr:only-child th {\n",
       "        text-align: right;\n",
       "    }\n",
       "\n",
       "    .dataframe thead th {\n",
       "        text-align: left;\n",
       "    }\n",
       "\n",
       "    .dataframe tbody tr th {\n",
       "        vertical-align: top;\n",
       "    }\n",
       "</style>\n",
       "<table border=\"1\" class=\"dataframe\">\n",
       "  <thead>\n",
       "    <tr style=\"text-align: right;\">\n",
       "      <th></th>\n",
       "      <th>hpg_store_id</th>\n",
       "      <th>visit_datetime</th>\n",
       "      <th>reserve_datetime</th>\n",
       "      <th>reserve_visitors</th>\n",
       "      <th>visit_date</th>\n",
       "      <th>air_store_id</th>\n",
       "    </tr>\n",
       "  </thead>\n",
       "  <tbody>\n",
       "    <tr>\n",
       "      <th>0</th>\n",
       "      <td>hpg_c63f6f42e088e50f</td>\n",
       "      <td>2016-01-01 11:00:00</td>\n",
       "      <td>2016-01-01 09:00:00</td>\n",
       "      <td>1</td>\n",
       "      <td>2016-01-01</td>\n",
       "      <td>NaN</td>\n",
       "    </tr>\n",
       "    <tr>\n",
       "      <th>1</th>\n",
       "      <td>hpg_dac72789163a3f47</td>\n",
       "      <td>2016-01-01 13:00:00</td>\n",
       "      <td>2016-01-01 06:00:00</td>\n",
       "      <td>3</td>\n",
       "      <td>2016-01-01</td>\n",
       "      <td>NaN</td>\n",
       "    </tr>\n",
       "    <tr>\n",
       "      <th>2</th>\n",
       "      <td>hpg_c8e24dcf51ca1eb5</td>\n",
       "      <td>2016-01-01 16:00:00</td>\n",
       "      <td>2016-01-01 14:00:00</td>\n",
       "      <td>2</td>\n",
       "      <td>2016-01-01</td>\n",
       "      <td>NaN</td>\n",
       "    </tr>\n",
       "  </tbody>\n",
       "</table>\n",
       "</div>"
      ],
      "text/plain": [
       "           hpg_store_id      visit_datetime     reserve_datetime  \\\n",
       "0  hpg_c63f6f42e088e50f 2016-01-01 11:00:00  2016-01-01 09:00:00   \n",
       "1  hpg_dac72789163a3f47 2016-01-01 13:00:00  2016-01-01 06:00:00   \n",
       "2  hpg_c8e24dcf51ca1eb5 2016-01-01 16:00:00  2016-01-01 14:00:00   \n",
       "\n",
       "   reserve_visitors  visit_date air_store_id  \n",
       "0                 1  2016-01-01          NaN  \n",
       "1                 3  2016-01-01          NaN  \n",
       "2                 2  2016-01-01          NaN  "
      ]
     },
     "metadata": {},
     "output_type": "display_data"
    },
    {
     "name": "stdout",
     "output_type": "stream",
     "text": [
      ">>> hpg_df rows with valid HPG & AIR ids:  1.4 %\n"
     ]
    }
   ],
   "source": [
    "# convert visit_datetime from string to datetime object to add a new column containing only the Y-M-D\n",
    "hpg_reserve_df['visit_datetime'] = pd.to_datetime(hpg_reserve_df['visit_datetime'])\n",
    "hpg_reserve_df['visit_date'] = hpg_reserve_df['visit_datetime'].apply(lambda x: x.strftime('%Y-%m-%d'))\n",
    "\n",
    "print('>>> hpg_reserve_df shape=', hpg_reserve_df.shape)\n",
    "# display(hpg_reserve_df.head(1))\n",
    "\n",
    "print('\\n>>> store_ids_df   shape=', store_ids_df.shape)\n",
    "# display(store_ids_df.head(1))\n",
    "\n",
    "print('>>> Merging...\\n')\n",
    "\n",
    "# replace the HPG code in hpg_merged_df for its equivalent AIR code\n",
    "hpg_df = pd.merge(hpg_reserve_df, store_ids_df, on='hpg_store_id', how='left')\n",
    "\n",
    "print('\\n>>> hpg_df         shape=', hpg_df.shape)\n",
    "display(hpg_df.head(3))\n",
    "\n",
    "# DEBUG: print rows that have valid air_store_id and hpg_store_id\n",
    "valid_ids_df = hpg_df[hpg_df.air_store_id.notnull() & hpg_df.hpg_store_id.notnull()]\n",
    "valid_ids_percent = len(valid_ids_df.index) / len(hpg_df.index) * 100\n",
    "print('>>> hpg_df rows with valid HPG & AIR ids: ',  round(valid_ids_percent, 1), '%')"
   ]
  },
  {
   "cell_type": "markdown",
   "metadata": {},
   "source": [
    "### 3.4 `hpg_df = hpg_df + hpg_store_df`"
   ]
  },
  {
   "cell_type": "code",
   "execution_count": 13,
   "metadata": {},
   "outputs": [
    {
     "name": "stdout",
     "output_type": "stream",
     "text": [
      ">>> hpg_df         shape= (2000320, 10)\n"
     ]
    },
    {
     "data": {
      "text/html": [
       "<div>\n",
       "<style>\n",
       "    .dataframe thead tr:only-child th {\n",
       "        text-align: right;\n",
       "    }\n",
       "\n",
       "    .dataframe thead th {\n",
       "        text-align: left;\n",
       "    }\n",
       "\n",
       "    .dataframe tbody tr th {\n",
       "        vertical-align: top;\n",
       "    }\n",
       "</style>\n",
       "<table border=\"1\" class=\"dataframe\">\n",
       "  <thead>\n",
       "    <tr style=\"text-align: right;\">\n",
       "      <th></th>\n",
       "      <th>hpg_store_id</th>\n",
       "      <th>visit_datetime</th>\n",
       "      <th>reserve_datetime</th>\n",
       "      <th>reserve_visitors</th>\n",
       "      <th>visit_date</th>\n",
       "      <th>air_store_id</th>\n",
       "      <th>hpg_genre_name</th>\n",
       "      <th>hpg_area_name</th>\n",
       "      <th>latitude</th>\n",
       "      <th>longitude</th>\n",
       "    </tr>\n",
       "  </thead>\n",
       "  <tbody>\n",
       "    <tr>\n",
       "      <th>0</th>\n",
       "      <td>hpg_c63f6f42e088e50f</td>\n",
       "      <td>2016-01-01 11:00:00</td>\n",
       "      <td>2016-01-01 09:00:00</td>\n",
       "      <td>1</td>\n",
       "      <td>2016-01-01</td>\n",
       "      <td>NaN</td>\n",
       "      <td>NaN</td>\n",
       "      <td>NaN</td>\n",
       "      <td>NaN</td>\n",
       "      <td>NaN</td>\n",
       "    </tr>\n",
       "    <tr>\n",
       "      <th>1</th>\n",
       "      <td>hpg_dac72789163a3f47</td>\n",
       "      <td>2016-01-01 13:00:00</td>\n",
       "      <td>2016-01-01 06:00:00</td>\n",
       "      <td>3</td>\n",
       "      <td>2016-01-01</td>\n",
       "      <td>NaN</td>\n",
       "      <td>French</td>\n",
       "      <td>Hyōgo-ken Kōbe-shi None</td>\n",
       "      <td>34.692109</td>\n",
       "      <td>135.191698</td>\n",
       "    </tr>\n",
       "    <tr>\n",
       "      <th>2</th>\n",
       "      <td>hpg_c8e24dcf51ca1eb5</td>\n",
       "      <td>2016-01-01 16:00:00</td>\n",
       "      <td>2016-01-01 14:00:00</td>\n",
       "      <td>2</td>\n",
       "      <td>2016-01-01</td>\n",
       "      <td>NaN</td>\n",
       "      <td>NaN</td>\n",
       "      <td>NaN</td>\n",
       "      <td>NaN</td>\n",
       "      <td>NaN</td>\n",
       "    </tr>\n",
       "  </tbody>\n",
       "</table>\n",
       "</div>"
      ],
      "text/plain": [
       "           hpg_store_id      visit_datetime     reserve_datetime  \\\n",
       "0  hpg_c63f6f42e088e50f 2016-01-01 11:00:00  2016-01-01 09:00:00   \n",
       "1  hpg_dac72789163a3f47 2016-01-01 13:00:00  2016-01-01 06:00:00   \n",
       "2  hpg_c8e24dcf51ca1eb5 2016-01-01 16:00:00  2016-01-01 14:00:00   \n",
       "\n",
       "   reserve_visitors  visit_date air_store_id hpg_genre_name  \\\n",
       "0                 1  2016-01-01          NaN            NaN   \n",
       "1                 3  2016-01-01          NaN         French   \n",
       "2                 2  2016-01-01          NaN            NaN   \n",
       "\n",
       "             hpg_area_name   latitude   longitude  \n",
       "0                      NaN        NaN         NaN  \n",
       "1  Hyōgo-ken Kōbe-shi None  34.692109  135.191698  \n",
       "2                      NaN        NaN         NaN  "
      ]
     },
     "metadata": {},
     "output_type": "display_data"
    }
   ],
   "source": [
    "hpg_df = pd.merge(hpg_df, hpg_store_df, on=\"hpg_store_id\", how=\"left\")\n",
    "\n",
    "print('>>> hpg_df         shape=', hpg_df.shape)\n",
    "display(hpg_df.head(3))"
   ]
  },
  {
   "cell_type": "markdown",
   "metadata": {},
   "source": [
    "### 3.5 `df = df + hpg_df`"
   ]
  },
  {
   "cell_type": "code",
   "execution_count": 14,
   "metadata": {},
   "outputs": [
    {
     "name": "stdout",
     "output_type": "stream",
     "text": [
      ">>> df             shape= (343508, 9)\n",
      ">>> hpg_df         shape= (343508, 9)\n",
      "\n",
      ">>> Merging...\n",
      "\n",
      ">>> df             shape= (2343828, 10)\n"
     ]
    },
    {
     "data": {
      "text/html": [
       "<div>\n",
       "<style>\n",
       "    .dataframe thead tr:only-child th {\n",
       "        text-align: right;\n",
       "    }\n",
       "\n",
       "    .dataframe thead th {\n",
       "        text-align: left;\n",
       "    }\n",
       "\n",
       "    .dataframe tbody tr th {\n",
       "        vertical-align: top;\n",
       "    }\n",
       "</style>\n",
       "<table border=\"1\" class=\"dataframe\">\n",
       "  <thead>\n",
       "    <tr style=\"text-align: right;\">\n",
       "      <th></th>\n",
       "      <th>air_store_id</th>\n",
       "      <th>area_name</th>\n",
       "      <th>genre_name</th>\n",
       "      <th>hpg_store_id</th>\n",
       "      <th>latitude</th>\n",
       "      <th>longitude</th>\n",
       "      <th>reserve_datetime</th>\n",
       "      <th>visit_date</th>\n",
       "      <th>visit_datetime</th>\n",
       "      <th>visitors</th>\n",
       "    </tr>\n",
       "  </thead>\n",
       "  <tbody>\n",
       "    <tr>\n",
       "      <th>0</th>\n",
       "      <td>air_ba937bf13d40fb24</td>\n",
       "      <td>Tōkyō-to Minato-ku Shibakōen</td>\n",
       "      <td>Dining bar</td>\n",
       "      <td>NaN</td>\n",
       "      <td>35.658068</td>\n",
       "      <td>139.751599</td>\n",
       "      <td>NaN</td>\n",
       "      <td>2016-01-13</td>\n",
       "      <td>NaT</td>\n",
       "      <td>25</td>\n",
       "    </tr>\n",
       "    <tr>\n",
       "      <th>1</th>\n",
       "      <td>air_ba937bf13d40fb24</td>\n",
       "      <td>Tōkyō-to Minato-ku Shibakōen</td>\n",
       "      <td>Dining bar</td>\n",
       "      <td>NaN</td>\n",
       "      <td>35.658068</td>\n",
       "      <td>139.751599</td>\n",
       "      <td>NaN</td>\n",
       "      <td>2016-01-14</td>\n",
       "      <td>NaT</td>\n",
       "      <td>32</td>\n",
       "    </tr>\n",
       "    <tr>\n",
       "      <th>2</th>\n",
       "      <td>air_ba937bf13d40fb24</td>\n",
       "      <td>Tōkyō-to Minato-ku Shibakōen</td>\n",
       "      <td>Dining bar</td>\n",
       "      <td>NaN</td>\n",
       "      <td>35.658068</td>\n",
       "      <td>139.751599</td>\n",
       "      <td>NaN</td>\n",
       "      <td>2016-01-15</td>\n",
       "      <td>NaT</td>\n",
       "      <td>29</td>\n",
       "    </tr>\n",
       "  </tbody>\n",
       "</table>\n",
       "</div>"
      ],
      "text/plain": [
       "           air_store_id                     area_name  genre_name  \\\n",
       "0  air_ba937bf13d40fb24  Tōkyō-to Minato-ku Shibakōen  Dining bar   \n",
       "1  air_ba937bf13d40fb24  Tōkyō-to Minato-ku Shibakōen  Dining bar   \n",
       "2  air_ba937bf13d40fb24  Tōkyō-to Minato-ku Shibakōen  Dining bar   \n",
       "\n",
       "  hpg_store_id   latitude   longitude reserve_datetime  visit_date  \\\n",
       "0          NaN  35.658068  139.751599              NaN  2016-01-13   \n",
       "1          NaN  35.658068  139.751599              NaN  2016-01-14   \n",
       "2          NaN  35.658068  139.751599              NaN  2016-01-15   \n",
       "\n",
       "  visit_datetime  visitors  \n",
       "0            NaT        25  \n",
       "1            NaT        32  \n",
       "2            NaT        29  "
      ]
     },
     "metadata": {},
     "output_type": "display_data"
    }
   ],
   "source": [
    "# DEBUG: cut down the DataFrame size\n",
    "# df = df.tail(2)\n",
    "# hpg_df = hpg_df.tail(2)\n",
    "\n",
    "# rename columns in both dataframes so they blend in nicely during merge\n",
    "hpg_df.rename(columns={'reserve_visitors': 'visitors'}, inplace=True)\n",
    "hpg_df.rename(columns={'hpg_genre_name': 'genre_name'}, inplace=True)\n",
    "hpg_df.rename(columns={'hpg_area_name' : 'area_name'}, inplace=True)\n",
    "df.rename(columns={'air_genre_name': 'genre_name'}, inplace=True)\n",
    "df.rename(columns={'air_area_name' : 'area_name'}, inplace=True)\n",
    "\n",
    "print('>>> df             shape=', df.shape)\n",
    "# display(df.head(2))\n",
    "\n",
    "print('>>> hpg_df         shape=', df.shape)\n",
    "# display(hpg_df.head(2))\n",
    "\n",
    "print('\\n>>> Merging...\\n')\n",
    "df = pd.concat([df, hpg_df], axis=0)\n",
    "\n",
    "print('>>> df             shape=', df.shape)\n",
    "display(df.head(3))"
   ]
  },
  {
   "cell_type": "markdown",
   "metadata": {},
   "source": [
    "### 3.6 `df = df + date_info_df`"
   ]
  },
  {
   "cell_type": "code",
   "execution_count": 15,
   "metadata": {},
   "outputs": [
    {
     "name": "stdout",
     "output_type": "stream",
     "text": [
      ">>> date_info_df   shape= (517, 3)\n",
      ">>> df             shape= (2343828, 10)\n",
      "\n",
      ">>> Merging...\n",
      "\n",
      ">>> df             shape= (2343828, 12)\n"
     ]
    },
    {
     "data": {
      "text/html": [
       "<div>\n",
       "<style>\n",
       "    .dataframe thead tr:only-child th {\n",
       "        text-align: right;\n",
       "    }\n",
       "\n",
       "    .dataframe thead th {\n",
       "        text-align: left;\n",
       "    }\n",
       "\n",
       "    .dataframe tbody tr th {\n",
       "        vertical-align: top;\n",
       "    }\n",
       "</style>\n",
       "<table border=\"1\" class=\"dataframe\">\n",
       "  <thead>\n",
       "    <tr style=\"text-align: right;\">\n",
       "      <th></th>\n",
       "      <th>air_store_id</th>\n",
       "      <th>area_name</th>\n",
       "      <th>genre_name</th>\n",
       "      <th>hpg_store_id</th>\n",
       "      <th>latitude</th>\n",
       "      <th>longitude</th>\n",
       "      <th>reserve_datetime</th>\n",
       "      <th>visit_date</th>\n",
       "      <th>visit_datetime</th>\n",
       "      <th>visitors</th>\n",
       "      <th>day_of_week</th>\n",
       "      <th>holiday_flg</th>\n",
       "    </tr>\n",
       "  </thead>\n",
       "  <tbody>\n",
       "    <tr>\n",
       "      <th>2343825</th>\n",
       "      <td>NaN</td>\n",
       "      <td>NaN</td>\n",
       "      <td>NaN</td>\n",
       "      <td>hpg_e9151de687b93aa3</td>\n",
       "      <td>NaN</td>\n",
       "      <td>NaN</td>\n",
       "      <td>2017-04-14 20:00:00</td>\n",
       "      <td>2017-05-31</td>\n",
       "      <td>2017-05-31 21:00:00</td>\n",
       "      <td>49</td>\n",
       "      <td>Wednesday</td>\n",
       "      <td>0</td>\n",
       "    </tr>\n",
       "    <tr>\n",
       "      <th>2343826</th>\n",
       "      <td>NaN</td>\n",
       "      <td>Hyōgo-ken Kōbe-shi None</td>\n",
       "      <td>Japanese food in general</td>\n",
       "      <td>hpg_fae6c96189b4a122</td>\n",
       "      <td>34.692109</td>\n",
       "      <td>135.191698</td>\n",
       "      <td>2017-04-19 17:00:00</td>\n",
       "      <td>2017-05-31</td>\n",
       "      <td>2017-05-31 21:00:00</td>\n",
       "      <td>9</td>\n",
       "      <td>Wednesday</td>\n",
       "      <td>0</td>\n",
       "    </tr>\n",
       "    <tr>\n",
       "      <th>2343827</th>\n",
       "      <td>NaN</td>\n",
       "      <td>Hyōgo-ken Kōbe-shi None</td>\n",
       "      <td>Japanese style</td>\n",
       "      <td>hpg_0b70de808b55ad1e</td>\n",
       "      <td>34.692109</td>\n",
       "      <td>135.191698</td>\n",
       "      <td>2017-04-21 13:00:00</td>\n",
       "      <td>2017-05-31</td>\n",
       "      <td>2017-05-31 23:00:00</td>\n",
       "      <td>6</td>\n",
       "      <td>Wednesday</td>\n",
       "      <td>0</td>\n",
       "    </tr>\n",
       "  </tbody>\n",
       "</table>\n",
       "</div>"
      ],
      "text/plain": [
       "        air_store_id                area_name                genre_name  \\\n",
       "2343825          NaN                      NaN                       NaN   \n",
       "2343826          NaN  Hyōgo-ken Kōbe-shi None  Japanese food in general   \n",
       "2343827          NaN  Hyōgo-ken Kōbe-shi None            Japanese style   \n",
       "\n",
       "                 hpg_store_id   latitude   longitude     reserve_datetime  \\\n",
       "2343825  hpg_e9151de687b93aa3        NaN         NaN  2017-04-14 20:00:00   \n",
       "2343826  hpg_fae6c96189b4a122  34.692109  135.191698  2017-04-19 17:00:00   \n",
       "2343827  hpg_0b70de808b55ad1e  34.692109  135.191698  2017-04-21 13:00:00   \n",
       "\n",
       "         visit_date      visit_datetime  visitors day_of_week  holiday_flg  \n",
       "2343825  2017-05-31 2017-05-31 21:00:00        49   Wednesday            0  \n",
       "2343826  2017-05-31 2017-05-31 21:00:00         9   Wednesday            0  \n",
       "2343827  2017-05-31 2017-05-31 23:00:00         6   Wednesday            0  "
      ]
     },
     "metadata": {},
     "output_type": "display_data"
    }
   ],
   "source": [
    "print('>>> date_info_df   shape=', date_info_df.shape)\n",
    "# display(date_info_df.head(2))\n",
    "print('>>> df             shape=', df.shape)\n",
    "# display(df.tail(3))\n",
    "\n",
    "# convert column visit_datetime from string to datetime object\n",
    "df['visit_datetime'] = pd.to_datetime(df['visit_datetime'])\n",
    "\n",
    "# combine both datasets to add columns 'day_of_week' and 'holiday_flg' to merged_df\n",
    "print('\\n>>> Merging...\\n')\n",
    "df = pd.merge(df, date_info_df, left_on='visit_date', right_on='calendar_date')\n",
    "del df['calendar_date']\n",
    "\n",
    "print('>>> df             shape=', df.shape)\n",
    "display(df.tail(3))"
   ]
  },
  {
   "cell_type": "markdown",
   "metadata": {},
   "source": [
    "---\n",
    "## 4. Cleaning Data\n",
    "The cleaning procedure starts by checking if there are rows full of *NaN* values. If there are, this would indicate a serious problem during the merging procedures. Later, IDs are checked to see if they have valid data. Then, column data types are evaluated and adjusted. The amount of work that needs to be done to clean *NaN* values is also quantified in plot. Finally, a sequence of steps are executed to clean the remaining data."
   ]
  },
  {
   "cell_type": "markdown",
   "metadata": {},
   "source": [
    "### 4.1 Checking for *NaN* rows"
   ]
  },
  {
   "cell_type": "code",
   "execution_count": 16,
   "metadata": {},
   "outputs": [],
   "source": [
    "def check_nan_rows(df):\n",
    "    ## Store all rows with NaN values\n",
    "    nan_df = df[pd.isnull(df).any(axis=1)]\n",
    "    print('>>> Number of rows that have at least ONE NaN value:', len(nan_df.index))\n",
    "    #display(nan_df.head())\n",
    "\n",
    "    ## List only rows that have NaN values (in all columns)\n",
    "    nan_rows_df = nan_df[nan_df.isnull().all(1)]      \n",
    "    nan_rows_count = len(nan_rows_df.index)\n",
    "    print('>>> Number of rows completely filled with NaN values:', nan_rows_count)    \n",
    "    #display(nan_rows_df.head())\n",
    "\n",
    "    if (nan_rows_count != 0):\n",
    "        print('>>> Oopsie! Found', nan_rows_count, 'NaN rows:')\n",
    "        display(nan_rows_df.head())        "
   ]
  },
  {
   "cell_type": "code",
   "execution_count": 17,
   "metadata": {},
   "outputs": [
    {
     "name": "stdout",
     "output_type": "stream",
     "text": [
      ">>> Number of rows that have at least ONE NaN value: 2330300\n",
      ">>> Number of rows completely filled with NaN values: 0\n"
     ]
    }
   ],
   "source": [
    "check_nan_rows(df)  "
   ]
  },
  {
   "cell_type": "markdown",
   "metadata": {},
   "source": [
    "### 4.2 Checking for valid IDs"
   ]
  },
  {
   "cell_type": "code",
   "execution_count": 18,
   "metadata": {},
   "outputs": [],
   "source": [
    "def check_IDs(df):\n",
    "    # Count how many IDs are NaNs\n",
    "    print('>>> NaN count on air_store_id:', df.air_store_id.isnull().sum())\n",
    "    print('>>> NaN count on hpg_store_id:', df.hpg_store_id.isnull().sum())\n",
    "\n",
    "    # Count how many rows don't have a valid ID (i.e. air_store_id and hpg_store_id are both NaNs)\n",
    "    null_ids_df = df[df.air_store_id.isnull() & df.hpg_store_id.isnull()]\n",
    "    null_ids_count = len(null_ids_df.index)\n",
    "    print('>>> Number of rows without any IDs:', null_ids_count)\n",
    "    \n",
    "    if (null_ids_count != 0):\n",
    "        display(null_ids_df.head())\n",
    "\n",
    "    # Check how many IDs don't have any data at all (i.e. all columns are NaNs)\n",
    "    max_nan_per_row = len(df.columns) - 1    \n",
    "    df['NaN_count'] = df.isnull().sum(axis=1)    \n",
    "    invalid_ids_df = df[df['NaN_count'] == max_nan_per_row]    \n",
    "    \n",
    "    invalid_ids_count = len(invalid_ids_df.index)\n",
    "    print('>>> Number of rows with IDs but NO DATA at all connected to them:', invalid_ids_count)\n",
    "    \n",
    "    if (invalid_ids_count != 0):\n",
    "        print('>>> Found', invalid_ids_count, ' rows with IDs that have NO DATA at all')\n",
    "        display(invalid_ids_df.head())\n",
    "        \n",
    "    del df['NaN_count']"
   ]
  },
  {
   "cell_type": "code",
   "execution_count": 19,
   "metadata": {},
   "outputs": [
    {
     "name": "stdout",
     "output_type": "stream",
     "text": [
      ">>> NaN count on air_store_id: 1972137\n",
      ">>> NaN count on hpg_store_id: 343508\n",
      ">>> Number of rows without any IDs: 0\n",
      ">>> Number of rows with IDs but NO DATA at all connected to them: 0\n"
     ]
    }
   ],
   "source": [
    "check_IDs(df)"
   ]
  },
  {
   "cell_type": "markdown",
   "metadata": {},
   "source": [
    "### 4.3 Checking data types"
   ]
  },
  {
   "cell_type": "code",
   "execution_count": 20,
   "metadata": {},
   "outputs": [],
   "source": [
    "def get_data_types(df):    \n",
    "    col_names = df.columns.tolist()\n",
    "    data_types_df = pd.DataFrame(columns=col_names)    \n",
    "    \n",
    "    row = []\n",
    "    for col in col_names:        \n",
    "        row.append(str(df[col].dtype))\n",
    "\n",
    "    data_types_df.loc[0] = row\n",
    "    return data_types_df"
   ]
  },
  {
   "cell_type": "code",
   "execution_count": 21,
   "metadata": {},
   "outputs": [
    {
     "data": {
      "text/html": [
       "<div>\n",
       "<style>\n",
       "    .dataframe thead tr:only-child th {\n",
       "        text-align: right;\n",
       "    }\n",
       "\n",
       "    .dataframe thead th {\n",
       "        text-align: left;\n",
       "    }\n",
       "\n",
       "    .dataframe tbody tr th {\n",
       "        vertical-align: top;\n",
       "    }\n",
       "</style>\n",
       "<table border=\"1\" class=\"dataframe\">\n",
       "  <thead>\n",
       "    <tr style=\"text-align: right;\">\n",
       "      <th></th>\n",
       "      <th>air_store_id</th>\n",
       "      <th>area_name</th>\n",
       "      <th>genre_name</th>\n",
       "      <th>hpg_store_id</th>\n",
       "      <th>latitude</th>\n",
       "      <th>longitude</th>\n",
       "      <th>reserve_datetime</th>\n",
       "      <th>visit_date</th>\n",
       "      <th>visit_datetime</th>\n",
       "      <th>visitors</th>\n",
       "      <th>day_of_week</th>\n",
       "      <th>holiday_flg</th>\n",
       "    </tr>\n",
       "  </thead>\n",
       "  <tbody>\n",
       "    <tr>\n",
       "      <th>0</th>\n",
       "      <td>object</td>\n",
       "      <td>object</td>\n",
       "      <td>object</td>\n",
       "      <td>object</td>\n",
       "      <td>float64</td>\n",
       "      <td>float64</td>\n",
       "      <td>object</td>\n",
       "      <td>object</td>\n",
       "      <td>datetime64[ns]</td>\n",
       "      <td>int64</td>\n",
       "      <td>object</td>\n",
       "      <td>int64</td>\n",
       "    </tr>\n",
       "  </tbody>\n",
       "</table>\n",
       "</div>"
      ],
      "text/plain": [
       "  air_store_id area_name genre_name hpg_store_id latitude longitude  \\\n",
       "0       object    object     object       object  float64   float64   \n",
       "\n",
       "  reserve_datetime visit_date  visit_datetime visitors day_of_week holiday_flg  \n",
       "0           object     object  datetime64[ns]    int64      object       int64  "
      ]
     },
     "metadata": {},
     "output_type": "display_data"
    }
   ],
   "source": [
    "dtypes_df = get_data_types(df)\n",
    "display(dtypes_df.head())"
   ]
  },
  {
   "cell_type": "markdown",
   "metadata": {},
   "source": [
    "Most column data types makes sense except `reserve_datetime` and `visit_date`, which should be converted to *datetime* objects:"
   ]
  },
  {
   "cell_type": "code",
   "execution_count": 22,
   "metadata": {},
   "outputs": [],
   "source": [
    "df['reserve_datetime'] = pd.to_datetime(df['reserve_datetime'])\n",
    "df['visit_date'] = pd.to_datetime(df['visit_date'])"
   ]
  },
  {
   "cell_type": "markdown",
   "metadata": {},
   "source": [
    "**The final data types are:**"
   ]
  },
  {
   "cell_type": "code",
   "execution_count": 23,
   "metadata": {},
   "outputs": [
    {
     "data": {
      "text/html": [
       "<div>\n",
       "<style>\n",
       "    .dataframe thead tr:only-child th {\n",
       "        text-align: right;\n",
       "    }\n",
       "\n",
       "    .dataframe thead th {\n",
       "        text-align: left;\n",
       "    }\n",
       "\n",
       "    .dataframe tbody tr th {\n",
       "        vertical-align: top;\n",
       "    }\n",
       "</style>\n",
       "<table border=\"1\" class=\"dataframe\">\n",
       "  <thead>\n",
       "    <tr style=\"text-align: right;\">\n",
       "      <th></th>\n",
       "      <th>air_store_id</th>\n",
       "      <th>area_name</th>\n",
       "      <th>genre_name</th>\n",
       "      <th>hpg_store_id</th>\n",
       "      <th>latitude</th>\n",
       "      <th>longitude</th>\n",
       "      <th>reserve_datetime</th>\n",
       "      <th>visit_date</th>\n",
       "      <th>visit_datetime</th>\n",
       "      <th>visitors</th>\n",
       "      <th>day_of_week</th>\n",
       "      <th>holiday_flg</th>\n",
       "    </tr>\n",
       "  </thead>\n",
       "  <tbody>\n",
       "    <tr>\n",
       "      <th>0</th>\n",
       "      <td>object</td>\n",
       "      <td>object</td>\n",
       "      <td>object</td>\n",
       "      <td>object</td>\n",
       "      <td>float64</td>\n",
       "      <td>float64</td>\n",
       "      <td>datetime64[ns]</td>\n",
       "      <td>datetime64[ns]</td>\n",
       "      <td>datetime64[ns]</td>\n",
       "      <td>int64</td>\n",
       "      <td>object</td>\n",
       "      <td>int64</td>\n",
       "    </tr>\n",
       "  </tbody>\n",
       "</table>\n",
       "</div>"
      ],
      "text/plain": [
       "  air_store_id area_name genre_name hpg_store_id latitude longitude  \\\n",
       "0       object    object     object       object  float64   float64   \n",
       "\n",
       "  reserve_datetime      visit_date  visit_datetime visitors day_of_week  \\\n",
       "0   datetime64[ns]  datetime64[ns]  datetime64[ns]    int64      object   \n",
       "\n",
       "  holiday_flg  \n",
       "0       int64  "
      ]
     },
     "metadata": {},
     "output_type": "display_data"
    }
   ],
   "source": [
    "dtypes_df = get_data_types(df)\n",
    "display(dtypes_df.head())"
   ]
  },
  {
   "cell_type": "markdown",
   "metadata": {},
   "source": [
    "### 4.4 Checking for corrupt data (negative values)"
   ]
  },
  {
   "cell_type": "code",
   "execution_count": 24,
   "metadata": {},
   "outputs": [],
   "source": [
    "# Checks numeric columns for negative numbers\n",
    "def check_numeric(df):     \n",
    "    neg_count_df = pd.DataFrame(columns=['Negative values count'])\n",
    "    \n",
    "    #print('>>> Number of negative values found in numeric columns:')\n",
    "    num_col_list = list(df.select_dtypes(include=['int64', 'float64']).columns)    \n",
    "    \n",
    "    total_neg = 0\n",
    "    for col_name in num_col_list:\n",
    "        neg_count = df[df[col_name] < 0].shape[0]  # extract number of rows        \n",
    "        #print('\\t*' + col_name+ '* = ' + str(neg_count))\n",
    "        neg_count_df.loc[col_name] = neg_count\n",
    "        total_neg += neg_count\n",
    "    \n",
    "    return neg_count_df, total_neg"
   ]
  },
  {
   "cell_type": "code",
   "execution_count": 25,
   "metadata": {},
   "outputs": [
    {
     "data": {
      "text/html": [
       "<div>\n",
       "<style>\n",
       "    .dataframe thead tr:only-child th {\n",
       "        text-align: right;\n",
       "    }\n",
       "\n",
       "    .dataframe thead th {\n",
       "        text-align: left;\n",
       "    }\n",
       "\n",
       "    .dataframe tbody tr th {\n",
       "        vertical-align: top;\n",
       "    }\n",
       "</style>\n",
       "<table border=\"1\" class=\"dataframe\">\n",
       "  <thead>\n",
       "    <tr style=\"text-align: right;\">\n",
       "      <th></th>\n",
       "      <th>Negative values count</th>\n",
       "    </tr>\n",
       "  </thead>\n",
       "  <tbody>\n",
       "    <tr>\n",
       "      <th>latitude</th>\n",
       "      <td>0</td>\n",
       "    </tr>\n",
       "    <tr>\n",
       "      <th>longitude</th>\n",
       "      <td>0</td>\n",
       "    </tr>\n",
       "    <tr>\n",
       "      <th>visitors</th>\n",
       "      <td>0</td>\n",
       "    </tr>\n",
       "    <tr>\n",
       "      <th>holiday_flg</th>\n",
       "      <td>0</td>\n",
       "    </tr>\n",
       "  </tbody>\n",
       "</table>\n",
       "</div>"
      ],
      "text/plain": [
       "            Negative values count\n",
       "latitude                        0\n",
       "longitude                       0\n",
       "visitors                        0\n",
       "holiday_flg                     0"
      ]
     },
     "metadata": {},
     "output_type": "display_data"
    }
   ],
   "source": [
    "neg_count_df, total_neg_count = check_numeric(df)\n",
    "display(neg_count_df)"
   ]
  },
  {
   "cell_type": "markdown",
   "metadata": {},
   "source": [
    "### 4.5 Checking for invalid data (*NaN*)"
   ]
  },
  {
   "cell_type": "code",
   "execution_count": 26,
   "metadata": {},
   "outputs": [],
   "source": [
    "# Checks columns separately for NaN values\n",
    "def check_invalid(df): \n",
    "    nan_count_df = pd.DataFrame(columns=['NaN values count'])\n",
    "    \n",
    "    #print('>>> Number of NaN values found in each column:')\n",
    "    col_list = list(df.columns.tolist())    \n",
    "    \n",
    "    total_nan = 0\n",
    "    for col_name in col_list:\n",
    "        nan_count = df[col_name].isnull().sum()        \n",
    "        #print('\\t' + col_name+ ' = ' + str(nan_count))\n",
    "        nan_count_df.loc[col_name] = nan_count        \n",
    "        total_nan += nan_count\n",
    "    \n",
    "    return nan_count_df, total_nan"
   ]
  },
  {
   "cell_type": "code",
   "execution_count": 27,
   "metadata": {},
   "outputs": [
    {
     "data": {
      "text/html": [
       "<div>\n",
       "<style>\n",
       "    .dataframe thead tr:only-child th {\n",
       "        text-align: right;\n",
       "    }\n",
       "\n",
       "    .dataframe thead th {\n",
       "        text-align: left;\n",
       "    }\n",
       "\n",
       "    .dataframe tbody tr th {\n",
       "        vertical-align: top;\n",
       "    }\n",
       "</style>\n",
       "<table border=\"1\" class=\"dataframe\">\n",
       "  <thead>\n",
       "    <tr style=\"text-align: right;\">\n",
       "      <th></th>\n",
       "      <th>NaN values count</th>\n",
       "    </tr>\n",
       "  </thead>\n",
       "  <tbody>\n",
       "    <tr>\n",
       "      <th>air_store_id</th>\n",
       "      <td>1972137</td>\n",
       "    </tr>\n",
       "    <tr>\n",
       "      <th>area_name</th>\n",
       "      <td>1129012</td>\n",
       "    </tr>\n",
       "    <tr>\n",
       "      <th>genre_name</th>\n",
       "      <td>1129012</td>\n",
       "    </tr>\n",
       "    <tr>\n",
       "      <th>hpg_store_id</th>\n",
       "      <td>343508</td>\n",
       "    </tr>\n",
       "    <tr>\n",
       "      <th>latitude</th>\n",
       "      <td>1129012</td>\n",
       "    </tr>\n",
       "    <tr>\n",
       "      <th>longitude</th>\n",
       "      <td>1129012</td>\n",
       "    </tr>\n",
       "    <tr>\n",
       "      <th>reserve_datetime</th>\n",
       "      <td>251130</td>\n",
       "    </tr>\n",
       "    <tr>\n",
       "      <th>visit_date</th>\n",
       "      <td>0</td>\n",
       "    </tr>\n",
       "    <tr>\n",
       "      <th>visit_datetime</th>\n",
       "      <td>251130</td>\n",
       "    </tr>\n",
       "    <tr>\n",
       "      <th>visitors</th>\n",
       "      <td>0</td>\n",
       "    </tr>\n",
       "    <tr>\n",
       "      <th>day_of_week</th>\n",
       "      <td>0</td>\n",
       "    </tr>\n",
       "    <tr>\n",
       "      <th>holiday_flg</th>\n",
       "      <td>0</td>\n",
       "    </tr>\n",
       "  </tbody>\n",
       "</table>\n",
       "</div>"
      ],
      "text/plain": [
       "                 NaN values count\n",
       "air_store_id              1972137\n",
       "area_name                 1129012\n",
       "genre_name                1129012\n",
       "hpg_store_id               343508\n",
       "latitude                  1129012\n",
       "longitude                 1129012\n",
       "reserve_datetime           251130\n",
       "visit_date                      0\n",
       "visit_datetime             251130\n",
       "visitors                        0\n",
       "day_of_week                     0\n",
       "holiday_flg                     0"
      ]
     },
     "metadata": {},
     "output_type": "display_data"
    }
   ],
   "source": [
    "# count how many NaNs are there\n",
    "nan_count_df, total_nan_count = check_invalid(df)\n",
    "display(nan_count_df)"
   ]
  },
  {
   "cell_type": "markdown",
   "metadata": {},
   "source": [
    "### 4.6 Missing Data Visualization (*NaN*)"
   ]
  },
  {
   "cell_type": "code",
   "execution_count": 28,
   "metadata": {},
   "outputs": [],
   "source": [
    "# plots a pie chart to visualize data corruption\n",
    "def plot_corruption(total_values, total_neg_count, total_nan_count):\n",
    "    neg_fraction = total_neg_count / total_values * 100\n",
    "    nan_fraction = total_nan_count / total_values * 100\n",
    "    ok_fraction  =  (total_values - (neg_fraction + nan_fraction)) / total_values * 100\n",
    "\n",
    "    # Data to plot\n",
    "    labels = 'Negative values', 'NaN values', 'Good values'\n",
    "    sizes = [neg_fraction, nan_fraction, ok_fraction]\n",
    "    colors = ['orange', 'lightcoral', 'yellowgreen']\n",
    "    explode = (0.2, 0.2, 0)  # explode 1st and 2nd slice\n",
    "\n",
    "    # Plot\n",
    "    plt.subplots(figsize=(9,4))\n",
    "    patches, texts = plt.pie(sizes, explode=explode, labels=labels, colors=colors, shadow=True, startangle=330)\n",
    "    plt.legend(patches, labels, loc=\"best\")\n",
    "    plt.axis('equal')\n",
    "    plt.show()\n",
    "    \n",
    "    print('>>>', round(nan_fraction, 1), '% of the values are NaNs.')\n",
    "    print('>>> There are', total_values, 'cells in the DataFrame. Shape =', df.shape)"
   ]
  },
  {
   "cell_type": "code",
   "execution_count": 29,
   "metadata": {},
   "outputs": [
    {
     "data": {
      "image/png": "[encoded data removed]",
      "text/plain": [
       "<matplotlib.figure.Figure at 0x212d89641d0>"
      ]
     },
     "metadata": {},
     "output_type": "display_data"
    },
    {
     "name": "stdout",
     "output_type": "stream",
     "text": [
      ">>> 26.1 % of the values are NaNs.\n",
      ">>> There are 28125936 cells in the DataFrame. Shape = (2343828, 12)\n"
     ]
    }
   ],
   "source": [
    "total_values = df.shape[0] * df.shape[1]\n",
    "plot_corruption(total_values, total_neg_count, total_nan_count)"
   ]
  },
  {
   "cell_type": "markdown",
   "metadata": {},
   "source": [
    "### 4.7 Dealing with *NaN* values"
   ]
  },
  {
   "cell_type": "code",
   "execution_count": 30,
   "metadata": {},
   "outputs": [],
   "source": [
    "# TODO"
   ]
  },
  {
   "cell_type": "markdown",
   "metadata": {},
   "source": [
    "## 5. Preliminary Visual Exploratory Data Analysis\n",
    "Plot the number of reservations (per week) in contrast with the number of visitations (per week)."
   ]
  },
  {
   "cell_type": "code",
   "execution_count": 31,
   "metadata": {},
   "outputs": [
    {
     "name": "stdout",
     "output_type": "stream",
     "text": [
      ">>> Min date: 2016-01-01 11:00:00\n",
      ">>> Max date: 2017-05-31 23:00:00\n",
      ">>> Number of days: 517\n"
     ]
    }
   ],
   "source": [
    "# debug: cut the size of the dataframe to 100 rows\n",
    "#merged_df = merged_df.head(100)\n",
    "#display(merged_df.head(3))\n",
    "\n",
    "print(\">>> Min date:\", df.visit_datetime.min())\n",
    "print(\">>> Max date:\", df.visit_datetime.max())\n",
    "print(\">>> Number of days:\", len(df['visit_datetime'].dt.normalize().value_counts().index))"
   ]
  },
  {
   "cell_type": "code",
   "execution_count": 32,
   "metadata": {},
   "outputs": [],
   "source": [
    "def plot_reservation_vs_visitors(df):\n",
    "    # set a datetime index so resample() works properly\n",
    "    df = df.set_index('visit_date')\n",
    "    reservations_made_df = df.resample('W').apply({'visitors':'count'})\n",
    "    visitors_df = df.resample('W').apply({'visitors':'sum'})\n",
    "\n",
    "    activity_df = pd.concat([reservations_made_df, visitors_df], join='inner', axis=1)\n",
    "    activity_df.columns = ['reservations_made', 'visitors']\n",
    "\n",
    "    fig, ax = plt.subplots(figsize=(15,5))\n",
    "\n",
    "    # There's a bug in Pandas' plot() that handles data differently than Matplotlib's plot()\n",
    "    # What this means is that if you use Pandas' plot() you cannot change xticks values later.\n",
    "    #ax = activity_df.plot(kind='area', ax=ax, stacked=True, title='Reservations made and number of visitors (per week)')\n",
    "\n",
    "    # alternative method: use matplotlib's plot_date() and configure xticks at will\n",
    "    plt.plot_date(activity_df.index.to_pydatetime(), activity_df, fmt='-')\n",
    "    plt.title('Amount of reservations made VS Number of visitors (per week)')\n",
    "    ax = plt.gca()\n",
    "    ax.xaxis.grid(True, which=\"major\")\n",
    "    ax.xaxis.set_major_formatter(mdates.DateFormatter('%b\\n%y'))\n",
    "\n",
    "    d = activity_df.index.to_pydatetime()\n",
    "    plt.fill_between(d, activity_df['visitors'], activity_df['reservations_made'], \n",
    "                     activity_df['visitors'] >= activity_df['reservations_made'],\n",
    "                     facecolor='orange', alpha=0.5, interpolate=True)\n",
    "    plt.fill_between(d, 0, activity_df['reservations_made'], \n",
    "                     facecolor='blue', alpha=0.5, interpolate=True)\n",
    "\n",
    "    ax.set_ylabel('Number of people')\n",
    "    ax.margins(0.005, 0) # set margins to avoid \"whitespace\" while showing the first x-tick\n",
    "    plt.show()"
   ]
  },
  {
   "cell_type": "code",
   "execution_count": 33,
   "metadata": {},
   "outputs": [
    {
     "data": {
      "image/png": "[encoded data removed]",
      "text/plain": [
       "<matplotlib.figure.Figure at 0x212d3f01710>"
      ]
     },
     "metadata": {},
     "output_type": "display_data"
    }
   ],
   "source": [
    "plot_reservation_vs_visitors(df)"
   ]
  },
  {
   "cell_type": "code",
   "execution_count": null,
   "metadata": {},
   "outputs": [],
   "source": []
  }
 ],
 "metadata": {
  "kernelspec": {
   "display_name": "Python 3",
   "language": "python",
   "name": "python3"
  },
  "language_info": {
   "codemirror_mode": {
    "name": "ipython",
    "version": 3
   },
   "file_extension": ".py",
   "mimetype": "text/x-python",
   "name": "python",
   "nbconvert_exporter": "python",
   "pygments_lexer": "ipython3",
   "version": "3.6.3"
  }
 },
 "nbformat": 4,
 "nbformat_minor": 2
}
